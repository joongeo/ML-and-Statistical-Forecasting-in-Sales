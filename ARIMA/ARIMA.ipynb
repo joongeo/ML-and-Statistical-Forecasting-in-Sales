{
 "cells": [
  {
   "cell_type": "markdown",
   "id": "11f0dd57",
   "metadata": {},
   "source": [
    "### Loading the packages and dataset"
   ]
  },
  {
   "cell_type": "code",
   "execution_count": 1,
   "id": "5a3d0eab",
   "metadata": {
    "scrolled": true
   },
   "outputs": [
    {
     "name": "stdout",
     "output_type": "stream",
     "text": [
      "Importing the dtw module. When using in academic works please cite:\n",
      "  T. Giorgino. Computing and Visualizing Dynamic Time Warping Alignments in R: The dtw Package.\n",
      "  J. Stat. Soft., doi:10.18637/jss.v031.i07.\n",
      "\n"
     ]
    }
   ],
   "source": [
    "import pandas as pd\n",
    "import numpy as np\n",
    "import math\n",
    "from random import sample\n",
    "import random\n",
    "import itertools\n",
    "import matplotlib.pyplot as plt\n",
    "%matplotlib inline\n",
    "from dtw import *\n",
    "import statsmodels.api as sm\n",
    "from statsmodels.graphics.tsaplots import plot_acf\n",
    "from statsmodels.graphics.tsaplots import plot_pacf\n",
    "from scipy import stats\n",
    "from statsmodels.tsa.arima.model import ARIMA\n",
    "from sklearn.metrics import mean_squared_error\n",
    "from math import sqrt\n",
    "import pmdarima as pm\n",
    "from scipy.special import boxcox, inv_boxcox\n",
    "from datetime import datetime\n",
    "import sys, os\n",
    "import warnings\n",
    "warnings.filterwarnings(\"ignore\", category=DeprecationWarning)"
   ]
  },
  {
   "cell_type": "code",
   "execution_count": 2,
   "id": "f207d747",
   "metadata": {},
   "outputs": [],
   "source": [
    "train = pd.read_csv(\"../data/train.csv\")\n",
    "calendar = pd.read_csv(\"../data/calendar.csv\")\n",
    "prices = pd.read_csv(\"../data/prices.csv\")"
   ]
  },
  {
   "cell_type": "markdown",
   "id": "6890f469",
   "metadata": {},
   "source": [
    "### Preparing dataset for forecasting"
   ]
  },
  {
   "cell_type": "code",
   "execution_count": 3,
   "id": "1e5141e5",
   "metadata": {},
   "outputs": [],
   "source": [
    "#deleting the 'd' in the column titles \n",
    "_cols = list(train.columns)\n",
    "train.columns = pd.Index(_cols[:6] + [int(c.replace(\"d_\",\"\")) for c in _cols[6:]])\n",
    "train.columns = train.columns.astype(str)"
   ]
  },
  {
   "cell_type": "code",
   "execution_count": 4,
   "id": "a8fed394",
   "metadata": {},
   "outputs": [],
   "source": [
    "#pivoting the train df longer \n",
    "df_melt = pd.melt(train, id_vars = [i for i in train.columns if i.find(\"id\") != -1],\n",
    "                          value_vars = [i for i in train.columns if i.isnumeric()], var_name = 'd', value_name = 'sales')"
   ]
  },
  {
   "cell_type": "code",
   "execution_count": 5,
   "id": "63e44997",
   "metadata": {},
   "outputs": [],
   "source": [
    "#remove d_ in calendar\n",
    "calendar['d'] = calendar['d'].str[2:]\n",
    "calendar['date'] = pd.to_datetime(calendar['date'], format='%Y-%m-%d')"
   ]
  },
  {
   "cell_type": "code",
   "execution_count": 6,
   "id": "fde02c14",
   "metadata": {
    "scrolled": false
   },
   "outputs": [
    {
     "data": {
      "text/html": [
       "<div>\n",
       "<style scoped>\n",
       "    .dataframe tbody tr th:only-of-type {\n",
       "        vertical-align: middle;\n",
       "    }\n",
       "\n",
       "    .dataframe tbody tr th {\n",
       "        vertical-align: top;\n",
       "    }\n",
       "\n",
       "    .dataframe thead th {\n",
       "        text-align: right;\n",
       "    }\n",
       "</style>\n",
       "<table border=\"1\" class=\"dataframe\">\n",
       "  <thead>\n",
       "    <tr style=\"text-align: right;\">\n",
       "      <th></th>\n",
       "      <th>id</th>\n",
       "      <th>item_id</th>\n",
       "      <th>subcat_id</th>\n",
       "      <th>category_id</th>\n",
       "      <th>store_id</th>\n",
       "      <th>region_id</th>\n",
       "      <th>d</th>\n",
       "      <th>sales</th>\n",
       "      <th>date</th>\n",
       "      <th>wm_yr_wk</th>\n",
       "      <th>weekday</th>\n",
       "      <th>wday</th>\n",
       "      <th>month</th>\n",
       "      <th>year</th>\n",
       "    </tr>\n",
       "  </thead>\n",
       "  <tbody>\n",
       "    <tr>\n",
       "      <th>0</th>\n",
       "      <td>Beauty_1_001_East_1</td>\n",
       "      <td>Beauty_1_001</td>\n",
       "      <td>Beauty_1</td>\n",
       "      <td>Beauty</td>\n",
       "      <td>East_1</td>\n",
       "      <td>East</td>\n",
       "      <td>1</td>\n",
       "      <td>0</td>\n",
       "      <td>2011-01-29</td>\n",
       "      <td>11101</td>\n",
       "      <td>Saturday</td>\n",
       "      <td>1</td>\n",
       "      <td>1</td>\n",
       "      <td>2011</td>\n",
       "    </tr>\n",
       "    <tr>\n",
       "      <th>1</th>\n",
       "      <td>Beauty_1_002_East_1</td>\n",
       "      <td>Beauty_1_002</td>\n",
       "      <td>Beauty_1</td>\n",
       "      <td>Beauty</td>\n",
       "      <td>East_1</td>\n",
       "      <td>East</td>\n",
       "      <td>1</td>\n",
       "      <td>0</td>\n",
       "      <td>2011-01-29</td>\n",
       "      <td>11101</td>\n",
       "      <td>Saturday</td>\n",
       "      <td>1</td>\n",
       "      <td>1</td>\n",
       "      <td>2011</td>\n",
       "    </tr>\n",
       "    <tr>\n",
       "      <th>2</th>\n",
       "      <td>Beauty_1_003_East_1</td>\n",
       "      <td>Beauty_1_003</td>\n",
       "      <td>Beauty_1</td>\n",
       "      <td>Beauty</td>\n",
       "      <td>East_1</td>\n",
       "      <td>East</td>\n",
       "      <td>1</td>\n",
       "      <td>0</td>\n",
       "      <td>2011-01-29</td>\n",
       "      <td>11101</td>\n",
       "      <td>Saturday</td>\n",
       "      <td>1</td>\n",
       "      <td>1</td>\n",
       "      <td>2011</td>\n",
       "    </tr>\n",
       "    <tr>\n",
       "      <th>3</th>\n",
       "      <td>Beauty_1_004_East_1</td>\n",
       "      <td>Beauty_1_004</td>\n",
       "      <td>Beauty_1</td>\n",
       "      <td>Beauty</td>\n",
       "      <td>East_1</td>\n",
       "      <td>East</td>\n",
       "      <td>1</td>\n",
       "      <td>0</td>\n",
       "      <td>2011-01-29</td>\n",
       "      <td>11101</td>\n",
       "      <td>Saturday</td>\n",
       "      <td>1</td>\n",
       "      <td>1</td>\n",
       "      <td>2011</td>\n",
       "    </tr>\n",
       "    <tr>\n",
       "      <th>4</th>\n",
       "      <td>Beauty_1_005_East_1</td>\n",
       "      <td>Beauty_1_005</td>\n",
       "      <td>Beauty_1</td>\n",
       "      <td>Beauty</td>\n",
       "      <td>East_1</td>\n",
       "      <td>East</td>\n",
       "      <td>1</td>\n",
       "      <td>0</td>\n",
       "      <td>2011-01-29</td>\n",
       "      <td>11101</td>\n",
       "      <td>Saturday</td>\n",
       "      <td>1</td>\n",
       "      <td>1</td>\n",
       "      <td>2011</td>\n",
       "    </tr>\n",
       "  </tbody>\n",
       "</table>\n",
       "</div>"
      ],
      "text/plain": [
       "                    id       item_id subcat_id category_id store_id region_id  \\\n",
       "0  Beauty_1_001_East_1  Beauty_1_001  Beauty_1      Beauty   East_1      East   \n",
       "1  Beauty_1_002_East_1  Beauty_1_002  Beauty_1      Beauty   East_1      East   \n",
       "2  Beauty_1_003_East_1  Beauty_1_003  Beauty_1      Beauty   East_1      East   \n",
       "3  Beauty_1_004_East_1  Beauty_1_004  Beauty_1      Beauty   East_1      East   \n",
       "4  Beauty_1_005_East_1  Beauty_1_005  Beauty_1      Beauty   East_1      East   \n",
       "\n",
       "   d  sales       date  wm_yr_wk   weekday  wday  month  year  \n",
       "0  1      0 2011-01-29     11101  Saturday     1      1  2011  \n",
       "1  1      0 2011-01-29     11101  Saturday     1      1  2011  \n",
       "2  1      0 2011-01-29     11101  Saturday     1      1  2011  \n",
       "3  1      0 2011-01-29     11101  Saturday     1      1  2011  \n",
       "4  1      0 2011-01-29     11101  Saturday     1      1  2011  "
      ]
     },
     "execution_count": 6,
     "metadata": {},
     "output_type": "execute_result"
    }
   ],
   "source": [
    "#merge pivoted train with calendar\n",
    "traincal = pd.merge(df_melt, calendar, on = 'd', how = 'left')\n",
    "traincal['date'] = pd.to_datetime(traincal['date'], format='%Y-%m-%d')\n",
    "traincal.head()"
   ]
  },
  {
   "cell_type": "markdown",
   "id": "ab741d3e",
   "metadata": {},
   "source": [
    "### Arima Modelling"
   ]
  },
  {
   "cell_type": "markdown",
   "id": "1fc08e7e",
   "metadata": {},
   "source": [
    "We run our models based on clusters (the choice of which is discussed later in this notebook) as running multiple models on thousands of items is too costly. We choose auto_arima from the pd.arima package as our model since it automatically identifies the most optimal parameters. For our data, which we saw from our EDA as seasonal and non-stationary, we are concerned about the d, p and q parameters. The parameters p and q can be iteratively searched-for with the auto_arima function, and the differencing term, d, is optimized through a test ('adf') which checks for stationarity.\n",
    "\n",
    "On top of the error function used by kaggle (rmse), we use mae as our scale-dependent error measure and mape as our scale-independent error measure."
   ]
  },
  {
   "cell_type": "markdown",
   "id": "82f12447",
   "metadata": {},
   "source": [
    "### Distance Measures used\n",
    "**Static Weekly proportions** : \n",
    "In the static distance measure, the distance from an item to its cluster centroid is the proportion of its total weekly sales compared to the total weekly sales made by the cluster. We fix our proportions based on the total sales of the last week in our training dataset.\n",
    "\n",
    "\n",
    "**Weekly proportions using sliding window** : \n",
    "We update our proportion value every time a prediction is made such that our new proportion value is inclusive of our last prediction. Each 'window' is the week before the day in question and the 'window' moves after each forecast."
   ]
  },
  {
   "cell_type": "code",
   "execution_count": 7,
   "id": "4f342f68",
   "metadata": {},
   "outputs": [],
   "source": [
    "###functions for store_id###\n",
    "#run auto_arima on clusters based on store_id and subcat_id\n",
    "def arima_cluster(df, cluster):\n",
    "    \"\"\"\n",
    "    df has the columns: 'cluster', 'date', 'sales'\n",
    "    cluster is the cluster of interest\n",
    "    \"\"\"\n",
    "    temp = df[df['cluster'] == cluster]\n",
    "    temp = temp.groupby('date').mean()['total_sales_in_cluster']\n",
    "    X = temp.values\n",
    "    \n",
    "    #split into train and test sets\n",
    "    size = int(len(X) * 0.90)\n",
    "    train, test = X[0:size], X[size:len(X)]\n",
    "    \n",
    "    model = pm.auto_arima(train, \n",
    "                        m=12, seasonal=True,\n",
    "                      start_p=0, start_q=0, max_order=4, test='adf',error_action='ignore',  \n",
    "                           suppress_warnings=True,\n",
    "                      stepwise=True, trace=False)\n",
    "    \n",
    "    test_pred = model.predict(n_periods=len(test)) #for obtaining metrics values\n",
    "    rmse = sqrt(mean_squared_error(test,test_pred))\n",
    "    mae = abs(test - test_pred).mean()\n",
    "    mape = abs((test - test_pred)/test).mean()\n",
    "    prediction = model.predict(n_periods = 21)\n",
    "    return prediction, rmse, mae, mape\n",
    "\n",
    "#for loop to run auto arima for all unique store_id and subcat_id\n",
    "def forecast_cluster(df, csvdest):\n",
    "    \"\"\"\n",
    "    df has the columns: 'cluster', 'date', 'sales'\n",
    "    csvdest is the file name for the prediction csv in string\n",
    "    \"\"\"\n",
    "    prediction = pd.DataFrame()\n",
    "    clusters = df['cluster'].unique()\n",
    "    rmses = []\n",
    "    maes = []\n",
    "    mapes = []\n",
    "    for cluster in clusters:\n",
    "        predict, rmse, mae, mape = arima_cluster(df, cluster)\n",
    "        rmses.append(rmse)\n",
    "        maes.append(mae)\n",
    "        mapes.append(mape)\n",
    "        prediction[cluster] = predict\n",
    "        prediction.to_csv(f\"{csvdest}.csv\")\n",
    "        print(f\"Cluster: {cluster} is predicted\")\n",
    "    print(\"rmse:\", sum(rmses), \"mae:\", sum(maes), \"mape:\", sum(mapes))\n",
    "\n",
    "#distancing using proportions obtained from last week of training dataset \n",
    "def distance1(df, days = np.array(range(1920, 1941))):\n",
    "    \"\"\"\n",
    "    df has id, cluster, proportion, and the prediction days as the columns\n",
    "    \"\"\"\n",
    "    for d in days:\n",
    "        df[d] = round(df[d] * df['prop']) #columnwise multiplication"
   ]
  },
  {
   "cell_type": "code",
   "execution_count": 8,
   "id": "b4ae44cc",
   "metadata": {},
   "outputs": [],
   "source": [
    "#assuming the prediction_df has been cleaned\n",
    "#train_df should be traincal\n",
    "def rolling_window(train_df, prediction_df):\n",
    "    \"\"\"\n",
    "    train_df is traincal with the natural cluster of interest column name renamed to be 'cluster'\n",
    "    prediction_df has cluster name and prediction days as the columns\n",
    "    \"\"\"\n",
    "    prediction = pd.DataFrame()\n",
    "    train_temp = train_df[['id', 'd', 'cluster', 'sales']]\n",
    "    train_temp['d'] = train_temp['d'].astype(int)\n",
    "    \n",
    "    for day in np.array(range(1920, 1941)):\n",
    "        temp = train_temp[train_temp['d'] >= day-7]\n",
    "        \n",
    "        total_cluster_sales = temp.groupby([\"cluster\",\"d\"]).sum().reset_index().rename(columns={'sales':'total_cluster_sales'})\n",
    "    \n",
    "        merged = pd.merge(temp, total_cluster_sales, on = ['cluster', 'd'], how = 'left')\n",
    "        #get weekly sums for item and stores\n",
    "        merged['item_weekly_sales'] = pd.DataFrame(merged.groupby('id')['sales'].transform('sum'))\n",
    "        merged['cluster_weekly_sales'] = pd.DataFrame(merged.groupby(['cluster', 'id'])['total_cluster_sales'].transform('sum'))\n",
    "        #set distance\n",
    "        merged['prop'] = merged['item_weekly_sales'] / merged['cluster_weekly_sales']\n",
    "        \n",
    "        merged_temp_subset = merged[['id', 'cluster', 'prop']]\n",
    "        \n",
    "        forecast_df = pd.merge(merged_temp_subset, prediction_df, on = 'cluster', how ='left')\n",
    "        forecast_df[day] = round(forecast_df['prop'] * forecast_df[day])\n",
    "        preds_for_day = forecast_df[['id', 'cluster', day]].drop_duplicates().rename(columns={day:'sales'})\n",
    "        preds_for_day['d'] = [day]*30490\n",
    "        \n",
    "        train_temp = train_temp.append(preds_for_day)\n",
    "        prediction[day] = preds_for_day[['sales']]\n",
    "        print(f\"Prediction made for day: {day}\")\n",
    "        \n",
    "    return prediction "
   ]
  },
  {
   "cell_type": "markdown",
   "id": "0e3a5726",
   "metadata": {},
   "source": [
    "### Natural Cluster: Store ID\n",
    "#### Data preparation and forecast"
   ]
  },
  {
   "cell_type": "code",
   "execution_count": 9,
   "id": "feae7675",
   "metadata": {},
   "outputs": [],
   "source": [
    "#subsetting the df so it loads faster\n",
    "temp_df = traincal[[\"date\", \"sales\", \"store_id\"]]"
   ]
  },
  {
   "cell_type": "code",
   "execution_count": 10,
   "id": "12dffbe0",
   "metadata": {
    "scrolled": true
   },
   "outputs": [
    {
     "data": {
      "text/html": [
       "<div>\n",
       "<style scoped>\n",
       "    .dataframe tbody tr th:only-of-type {\n",
       "        vertical-align: middle;\n",
       "    }\n",
       "\n",
       "    .dataframe tbody tr th {\n",
       "        vertical-align: top;\n",
       "    }\n",
       "\n",
       "    .dataframe thead th {\n",
       "        text-align: right;\n",
       "    }\n",
       "</style>\n",
       "<table border=\"1\" class=\"dataframe\">\n",
       "  <thead>\n",
       "    <tr style=\"text-align: right;\">\n",
       "      <th></th>\n",
       "      <th>cluster</th>\n",
       "      <th>date</th>\n",
       "      <th>total_sales_in_cluster</th>\n",
       "    </tr>\n",
       "  </thead>\n",
       "  <tbody>\n",
       "    <tr>\n",
       "      <th>0</th>\n",
       "      <td>Central_1</td>\n",
       "      <td>2011-01-29</td>\n",
       "      <td>2556</td>\n",
       "    </tr>\n",
       "    <tr>\n",
       "      <th>1</th>\n",
       "      <td>Central_1</td>\n",
       "      <td>2011-01-30</td>\n",
       "      <td>2687</td>\n",
       "    </tr>\n",
       "    <tr>\n",
       "      <th>2</th>\n",
       "      <td>Central_1</td>\n",
       "      <td>2011-01-31</td>\n",
       "      <td>1822</td>\n",
       "    </tr>\n",
       "    <tr>\n",
       "      <th>3</th>\n",
       "      <td>Central_1</td>\n",
       "      <td>2011-02-01</td>\n",
       "      <td>2258</td>\n",
       "    </tr>\n",
       "    <tr>\n",
       "      <th>4</th>\n",
       "      <td>Central_1</td>\n",
       "      <td>2011-02-02</td>\n",
       "      <td>1694</td>\n",
       "    </tr>\n",
       "  </tbody>\n",
       "</table>\n",
       "</div>"
      ],
      "text/plain": [
       "     cluster       date  total_sales_in_cluster\n",
       "0  Central_1 2011-01-29                    2556\n",
       "1  Central_1 2011-01-30                    2687\n",
       "2  Central_1 2011-01-31                    1822\n",
       "3  Central_1 2011-02-01                    2258\n",
       "4  Central_1 2011-02-02                    1694"
      ]
     },
     "execution_count": 10,
     "metadata": {},
     "output_type": "execute_result"
    }
   ],
   "source": [
    "#getting the daily total sales for each cluster\n",
    "total_sales_by_store_id = temp_df.groupby([\"store_id\",\"date\"]).sum().reset_index()\n",
    "total_sales_by_store_id = total_sales_by_store_id.rename(columns={'sales': 'total_sales_in_cluster',\n",
    "                                                               'store_id':'cluster'})\n",
    "\n",
    "total_sales_by_store_id.head()"
   ]
  },
  {
   "cell_type": "code",
   "execution_count": null,
   "id": "3490ba09",
   "metadata": {
    "scrolled": true
   },
   "outputs": [],
   "source": [
    "#forecasting\n",
    "forecast_cluster(total_sales_by_store_id, \"predictions_by_store\")"
   ]
  },
  {
   "cell_type": "markdown",
   "id": "8b5b846f",
   "metadata": {},
   "source": [
    "### Forecasting\n",
    "#### Distance measure: weekly proportion (static)\n",
    "1. Subset *traincal* to get sales data from the last week\n",
    "2. Set our distance measure to the proportion of an item's weekly sale to its corresponding store_id's weekly sale\n",
    "3. Pivot our prediction dataframe so we can comfortably forecast data for each item while taking into account the 'distance' between an item and its natural 'cluster', the store_id"
   ]
  },
  {
   "cell_type": "code",
   "execution_count": 11,
   "id": "f79dce82",
   "metadata": {},
   "outputs": [],
   "source": [
    "#subsetting traincal so it loads faster when we merge\n",
    "traincal_temp = traincal[[\"id\", \"store_id\", \"date\", \"sales\", \"d\"]].rename(columns={\"store_id\":\"cluster\"})\n",
    "#merging the subset with the df that has the daily total sales by cluster\n",
    "train_final_store = pd.merge(traincal_temp, total_sales_by_store_id, on = [\"cluster\", \"date\"])"
   ]
  },
  {
   "cell_type": "code",
   "execution_count": 12,
   "id": "3fccb6bb",
   "metadata": {},
   "outputs": [
    {
     "name": "stderr",
     "output_type": "stream",
     "text": [
      "/var/folders/hw/w8w6k5c51rd3yspr0zhn_6780000gn/T/ipykernel_73794/2173571655.py:4: SettingWithCopyWarning: \n",
      "A value is trying to be set on a copy of a slice from a DataFrame\n",
      "\n",
      "See the caveats in the documentation: https://pandas.pydata.org/pandas-docs/stable/user_guide/indexing.html#returning-a-view-versus-a-copy\n",
      "  subset_final_store.drop(columns = 'date', inplace=True)\n"
     ]
    }
   ],
   "source": [
    "#subsetting for days that were a week before our first prediction day, which is 1920\n",
    "train_final_store['d'] = train_final_store['d'].astype(int)\n",
    "subset_final_store = train_final_store[train_final_store['d'] >= 1913]\n",
    "subset_final_store.drop(columns = 'date', inplace=True)"
   ]
  },
  {
   "cell_type": "code",
   "execution_count": 13,
   "id": "ae2d24b4",
   "metadata": {},
   "outputs": [
    {
     "name": "stderr",
     "output_type": "stream",
     "text": [
      "/var/folders/hw/w8w6k5c51rd3yspr0zhn_6780000gn/T/ipykernel_73794/1983782394.py:2: SettingWithCopyWarning: \n",
      "A value is trying to be set on a copy of a slice from a DataFrame.\n",
      "Try using .loc[row_indexer,col_indexer] = value instead\n",
      "\n",
      "See the caveats in the documentation: https://pandas.pydata.org/pandas-docs/stable/user_guide/indexing.html#returning-a-view-versus-a-copy\n",
      "  subset_final_store['item_weekly_sales'] = pd.DataFrame(\n",
      "/var/folders/hw/w8w6k5c51rd3yspr0zhn_6780000gn/T/ipykernel_73794/1983782394.py:5: SettingWithCopyWarning: \n",
      "A value is trying to be set on a copy of a slice from a DataFrame.\n",
      "Try using .loc[row_indexer,col_indexer] = value instead\n",
      "\n",
      "See the caveats in the documentation: https://pandas.pydata.org/pandas-docs/stable/user_guide/indexing.html#returning-a-view-versus-a-copy\n",
      "  subset_final_store['store_weekly_sales'] = pd.DataFrame(subset_final_store.groupby(['cluster', 'id'])\n",
      "/var/folders/hw/w8w6k5c51rd3yspr0zhn_6780000gn/T/ipykernel_73794/1983782394.py:8: SettingWithCopyWarning: \n",
      "A value is trying to be set on a copy of a slice from a DataFrame.\n",
      "Try using .loc[row_indexer,col_indexer] = value instead\n",
      "\n",
      "See the caveats in the documentation: https://pandas.pydata.org/pandas-docs/stable/user_guide/indexing.html#returning-a-view-versus-a-copy\n",
      "  subset_final_store['prop'] = subset_final_store['item_weekly_sales'] / subset_final_store['store_weekly_sales']\n"
     ]
    }
   ],
   "source": [
    "#get weekly sums for item and stores\n",
    "subset_final_store['item_weekly_sales'] = pd.DataFrame(\n",
    "    subset_final_store.groupby('id')['sales'].transform('sum'))\n",
    "\n",
    "subset_final_store['store_weekly_sales'] = pd.DataFrame(subset_final_store.groupby(['cluster', 'id'])\n",
    "                                                       ['total_sales_in_cluster'].transform('sum'))\n",
    "#set distance\n",
    "subset_final_store['prop'] = subset_final_store['item_weekly_sales'] / subset_final_store['store_weekly_sales']"
   ]
  },
  {
   "cell_type": "code",
   "execution_count": 14,
   "id": "224247a9",
   "metadata": {},
   "outputs": [
    {
     "data": {
      "text/html": [
       "<div>\n",
       "<style scoped>\n",
       "    .dataframe tbody tr th:only-of-type {\n",
       "        vertical-align: middle;\n",
       "    }\n",
       "\n",
       "    .dataframe tbody tr th {\n",
       "        vertical-align: top;\n",
       "    }\n",
       "\n",
       "    .dataframe thead th {\n",
       "        text-align: right;\n",
       "    }\n",
       "</style>\n",
       "<table border=\"1\" class=\"dataframe\">\n",
       "  <thead>\n",
       "    <tr style=\"text-align: right;\">\n",
       "      <th></th>\n",
       "      <th>id</th>\n",
       "      <th>cluster</th>\n",
       "      <th>prop</th>\n",
       "    </tr>\n",
       "  </thead>\n",
       "  <tbody>\n",
       "    <tr>\n",
       "      <th>0</th>\n",
       "      <td>Beauty_1_001_East_1</td>\n",
       "      <td>East_1</td>\n",
       "      <td>0.000187</td>\n",
       "    </tr>\n",
       "    <tr>\n",
       "      <th>1</th>\n",
       "      <td>Beauty_1_002_East_1</td>\n",
       "      <td>East_1</td>\n",
       "      <td>0.000031</td>\n",
       "    </tr>\n",
       "    <tr>\n",
       "      <th>2</th>\n",
       "      <td>Beauty_1_003_East_1</td>\n",
       "      <td>East_1</td>\n",
       "      <td>0.000156</td>\n",
       "    </tr>\n",
       "    <tr>\n",
       "      <th>3</th>\n",
       "      <td>Beauty_1_004_East_1</td>\n",
       "      <td>East_1</td>\n",
       "      <td>0.000312</td>\n",
       "    </tr>\n",
       "    <tr>\n",
       "      <th>4</th>\n",
       "      <td>Beauty_1_005_East_1</td>\n",
       "      <td>East_1</td>\n",
       "      <td>0.000343</td>\n",
       "    </tr>\n",
       "  </tbody>\n",
       "</table>\n",
       "</div>"
      ],
      "text/plain": [
       "                    id cluster      prop\n",
       "0  Beauty_1_001_East_1  East_1  0.000187\n",
       "1  Beauty_1_002_East_1  East_1  0.000031\n",
       "2  Beauty_1_003_East_1  East_1  0.000156\n",
       "3  Beauty_1_004_East_1  East_1  0.000312\n",
       "4  Beauty_1_005_East_1  East_1  0.000343"
      ]
     },
     "execution_count": 14,
     "metadata": {},
     "output_type": "execute_result"
    }
   ],
   "source": [
    "#every item has the same store_weekly_sales so there are duplicate rows, which we drop\n",
    "subset_final_store = pd.DataFrame(subset_final_store[['id', 'cluster', 'prop']].drop_duplicates()).reset_index(drop = True)\n",
    "subset_final_store.head()"
   ]
  },
  {
   "cell_type": "code",
   "execution_count": 15,
   "id": "ad7c5e1f",
   "metadata": {},
   "outputs": [],
   "source": [
    "#loading the forecasts, which we saved as a csv\n",
    "prediction_df_store = pd.read_csv('predictions_by_store.csv')\n",
    "prediction_df_store = prediction_df_store.drop(columns= 'Unnamed: 0')"
   ]
  },
  {
   "cell_type": "code",
   "execution_count": 16,
   "id": "67087c92",
   "metadata": {},
   "outputs": [
    {
     "data": {
      "text/html": [
       "<div>\n",
       "<style scoped>\n",
       "    .dataframe tbody tr th:only-of-type {\n",
       "        vertical-align: middle;\n",
       "    }\n",
       "\n",
       "    .dataframe tbody tr th {\n",
       "        vertical-align: top;\n",
       "    }\n",
       "\n",
       "    .dataframe thead th {\n",
       "        text-align: right;\n",
       "    }\n",
       "</style>\n",
       "<table border=\"1\" class=\"dataframe\">\n",
       "  <thead>\n",
       "    <tr style=\"text-align: right;\">\n",
       "      <th>d</th>\n",
       "      <th>cluster</th>\n",
       "      <th>1920</th>\n",
       "      <th>1921</th>\n",
       "      <th>1922</th>\n",
       "      <th>1923</th>\n",
       "      <th>1924</th>\n",
       "      <th>1925</th>\n",
       "      <th>1926</th>\n",
       "      <th>1927</th>\n",
       "      <th>1928</th>\n",
       "      <th>...</th>\n",
       "      <th>1931</th>\n",
       "      <th>1932</th>\n",
       "      <th>1933</th>\n",
       "      <th>1934</th>\n",
       "      <th>1935</th>\n",
       "      <th>1936</th>\n",
       "      <th>1937</th>\n",
       "      <th>1938</th>\n",
       "      <th>1939</th>\n",
       "      <th>1940</th>\n",
       "    </tr>\n",
       "  </thead>\n",
       "  <tbody>\n",
       "    <tr>\n",
       "      <th>0</th>\n",
       "      <td>Central_1</td>\n",
       "      <td>2866.240126</td>\n",
       "      <td>2850.419950</td>\n",
       "      <td>2964.146537</td>\n",
       "      <td>2985.887478</td>\n",
       "      <td>2976.548815</td>\n",
       "      <td>2723.244562</td>\n",
       "      <td>2926.476239</td>\n",
       "      <td>2823.566670</td>\n",
       "      <td>2568.145868</td>\n",
       "      <td>...</td>\n",
       "      <td>3009.455538</td>\n",
       "      <td>2781.236334</td>\n",
       "      <td>2894.583314</td>\n",
       "      <td>2859.359043</td>\n",
       "      <td>2789.807476</td>\n",
       "      <td>2850.820791</td>\n",
       "      <td>3106.610600</td>\n",
       "      <td>2943.856553</td>\n",
       "      <td>2853.775676</td>\n",
       "      <td>3007.845809</td>\n",
       "    </tr>\n",
       "    <tr>\n",
       "      <th>1</th>\n",
       "      <td>Central_2</td>\n",
       "      <td>3705.155320</td>\n",
       "      <td>3816.236607</td>\n",
       "      <td>3950.144608</td>\n",
       "      <td>3856.190285</td>\n",
       "      <td>3793.927379</td>\n",
       "      <td>3507.151832</td>\n",
       "      <td>3689.658350</td>\n",
       "      <td>3702.403180</td>\n",
       "      <td>3512.393260</td>\n",
       "      <td>...</td>\n",
       "      <td>3819.630458</td>\n",
       "      <td>3690.345960</td>\n",
       "      <td>3623.074816</td>\n",
       "      <td>3682.096351</td>\n",
       "      <td>3699.409861</td>\n",
       "      <td>3704.526624</td>\n",
       "      <td>3970.613858</td>\n",
       "      <td>3780.542722</td>\n",
       "      <td>3641.059252</td>\n",
       "      <td>3795.830839</td>\n",
       "    </tr>\n",
       "    <tr>\n",
       "      <th>2</th>\n",
       "      <td>Central_3</td>\n",
       "      <td>3278.234631</td>\n",
       "      <td>3413.486873</td>\n",
       "      <td>3400.357095</td>\n",
       "      <td>3168.066224</td>\n",
       "      <td>3263.920579</td>\n",
       "      <td>2742.313047</td>\n",
       "      <td>2656.272865</td>\n",
       "      <td>2704.253681</td>\n",
       "      <td>2902.900783</td>\n",
       "      <td>...</td>\n",
       "      <td>3060.958046</td>\n",
       "      <td>2745.987994</td>\n",
       "      <td>2530.272432</td>\n",
       "      <td>2773.734068</td>\n",
       "      <td>3075.688238</td>\n",
       "      <td>3487.799781</td>\n",
       "      <td>3071.700262</td>\n",
       "      <td>3244.740744</td>\n",
       "      <td>2874.027355</td>\n",
       "      <td>2816.372294</td>\n",
       "    </tr>\n",
       "    <tr>\n",
       "      <th>3</th>\n",
       "      <td>East_1</td>\n",
       "      <td>3637.462328</td>\n",
       "      <td>4399.162752</td>\n",
       "      <td>4902.665821</td>\n",
       "      <td>4988.338264</td>\n",
       "      <td>4430.633008</td>\n",
       "      <td>3567.578370</td>\n",
       "      <td>3174.002356</td>\n",
       "      <td>3475.357534</td>\n",
       "      <td>4012.281373</td>\n",
       "      <td>...</td>\n",
       "      <td>4233.721255</td>\n",
       "      <td>3411.096470</td>\n",
       "      <td>3072.497337</td>\n",
       "      <td>3455.469027</td>\n",
       "      <td>4010.436671</td>\n",
       "      <td>4735.991740</td>\n",
       "      <td>4938.607220</td>\n",
       "      <td>4586.791177</td>\n",
       "      <td>3669.539167</td>\n",
       "      <td>3225.903865</td>\n",
       "    </tr>\n",
       "    <tr>\n",
       "      <th>4</th>\n",
       "      <td>East_2</td>\n",
       "      <td>3159.714566</td>\n",
       "      <td>4230.168334</td>\n",
       "      <td>5868.238005</td>\n",
       "      <td>5447.181173</td>\n",
       "      <td>3908.998490</td>\n",
       "      <td>3119.135442</td>\n",
       "      <td>3010.766750</td>\n",
       "      <td>3289.287229</td>\n",
       "      <td>4451.208473</td>\n",
       "      <td>...</td>\n",
       "      <td>4098.064087</td>\n",
       "      <td>3135.419690</td>\n",
       "      <td>2885.169121</td>\n",
       "      <td>3372.913639</td>\n",
       "      <td>4528.487360</td>\n",
       "      <td>5490.625585</td>\n",
       "      <td>5296.370287</td>\n",
       "      <td>4185.687184</td>\n",
       "      <td>3154.791465</td>\n",
       "      <td>2846.578264</td>\n",
       "    </tr>\n",
       "  </tbody>\n",
       "</table>\n",
       "<p>5 rows × 22 columns</p>\n",
       "</div>"
      ],
      "text/plain": [
       "d    cluster         1920         1921         1922         1923         1924  \\\n",
       "0  Central_1  2866.240126  2850.419950  2964.146537  2985.887478  2976.548815   \n",
       "1  Central_2  3705.155320  3816.236607  3950.144608  3856.190285  3793.927379   \n",
       "2  Central_3  3278.234631  3413.486873  3400.357095  3168.066224  3263.920579   \n",
       "3     East_1  3637.462328  4399.162752  4902.665821  4988.338264  4430.633008   \n",
       "4     East_2  3159.714566  4230.168334  5868.238005  5447.181173  3908.998490   \n",
       "\n",
       "d         1925         1926         1927         1928  ...         1931  \\\n",
       "0  2723.244562  2926.476239  2823.566670  2568.145868  ...  3009.455538   \n",
       "1  3507.151832  3689.658350  3702.403180  3512.393260  ...  3819.630458   \n",
       "2  2742.313047  2656.272865  2704.253681  2902.900783  ...  3060.958046   \n",
       "3  3567.578370  3174.002356  3475.357534  4012.281373  ...  4233.721255   \n",
       "4  3119.135442  3010.766750  3289.287229  4451.208473  ...  4098.064087   \n",
       "\n",
       "d         1932         1933         1934         1935         1936  \\\n",
       "0  2781.236334  2894.583314  2859.359043  2789.807476  2850.820791   \n",
       "1  3690.345960  3623.074816  3682.096351  3699.409861  3704.526624   \n",
       "2  2745.987994  2530.272432  2773.734068  3075.688238  3487.799781   \n",
       "3  3411.096470  3072.497337  3455.469027  4010.436671  4735.991740   \n",
       "4  3135.419690  2885.169121  3372.913639  4528.487360  5490.625585   \n",
       "\n",
       "d         1937         1938         1939         1940  \n",
       "0  3106.610600  2943.856553  2853.775676  3007.845809  \n",
       "1  3970.613858  3780.542722  3641.059252  3795.830839  \n",
       "2  3071.700262  3244.740744  2874.027355  2816.372294  \n",
       "3  4938.607220  4586.791177  3669.539167  3225.903865  \n",
       "4  5296.370287  4185.687184  3154.791465  2846.578264  \n",
       "\n",
       "[5 rows x 22 columns]"
      ]
     },
     "execution_count": 16,
     "metadata": {},
     "output_type": "execute_result"
    }
   ],
   "source": [
    "#editing our prediction df so we have 'clusters' and the prediction days as the column headers\n",
    "prediction_df_store['d'] = np.array(range(1920, 1941))\n",
    "prediction_df_store.set_index('d', inplace = True)\n",
    "prediction_df_store = prediction_df_store.T\n",
    "prediction_df_store = prediction_df_store.reset_index().rename(columns = {'index' : 'cluster'})\n",
    "prediction_df_store.head()"
   ]
  },
  {
   "cell_type": "code",
   "execution_count": 17,
   "id": "8156baf8",
   "metadata": {
    "scrolled": false
   },
   "outputs": [
    {
     "data": {
      "text/html": [
       "<div>\n",
       "<style scoped>\n",
       "    .dataframe tbody tr th:only-of-type {\n",
       "        vertical-align: middle;\n",
       "    }\n",
       "\n",
       "    .dataframe tbody tr th {\n",
       "        vertical-align: top;\n",
       "    }\n",
       "\n",
       "    .dataframe thead th {\n",
       "        text-align: right;\n",
       "    }\n",
       "</style>\n",
       "<table border=\"1\" class=\"dataframe\">\n",
       "  <thead>\n",
       "    <tr style=\"text-align: right;\">\n",
       "      <th></th>\n",
       "      <th>id</th>\n",
       "      <th>cluster</th>\n",
       "      <th>prop</th>\n",
       "      <th>1920</th>\n",
       "      <th>1921</th>\n",
       "      <th>1922</th>\n",
       "      <th>1923</th>\n",
       "      <th>1924</th>\n",
       "      <th>1925</th>\n",
       "      <th>1926</th>\n",
       "      <th>...</th>\n",
       "      <th>1931</th>\n",
       "      <th>1932</th>\n",
       "      <th>1933</th>\n",
       "      <th>1934</th>\n",
       "      <th>1935</th>\n",
       "      <th>1936</th>\n",
       "      <th>1937</th>\n",
       "      <th>1938</th>\n",
       "      <th>1939</th>\n",
       "      <th>1940</th>\n",
       "    </tr>\n",
       "  </thead>\n",
       "  <tbody>\n",
       "    <tr>\n",
       "      <th>0</th>\n",
       "      <td>Beauty_1_001_East_1</td>\n",
       "      <td>East_1</td>\n",
       "      <td>0.000187</td>\n",
       "      <td>1.0</td>\n",
       "      <td>1.0</td>\n",
       "      <td>1.0</td>\n",
       "      <td>1.0</td>\n",
       "      <td>1.0</td>\n",
       "      <td>1.0</td>\n",
       "      <td>1.0</td>\n",
       "      <td>...</td>\n",
       "      <td>1.0</td>\n",
       "      <td>1.0</td>\n",
       "      <td>1.0</td>\n",
       "      <td>1.0</td>\n",
       "      <td>1.0</td>\n",
       "      <td>1.0</td>\n",
       "      <td>1.0</td>\n",
       "      <td>1.0</td>\n",
       "      <td>1.0</td>\n",
       "      <td>1.0</td>\n",
       "    </tr>\n",
       "    <tr>\n",
       "      <th>1</th>\n",
       "      <td>Beauty_1_002_East_1</td>\n",
       "      <td>East_1</td>\n",
       "      <td>0.000031</td>\n",
       "      <td>0.0</td>\n",
       "      <td>0.0</td>\n",
       "      <td>0.0</td>\n",
       "      <td>0.0</td>\n",
       "      <td>0.0</td>\n",
       "      <td>0.0</td>\n",
       "      <td>0.0</td>\n",
       "      <td>...</td>\n",
       "      <td>0.0</td>\n",
       "      <td>0.0</td>\n",
       "      <td>0.0</td>\n",
       "      <td>0.0</td>\n",
       "      <td>0.0</td>\n",
       "      <td>0.0</td>\n",
       "      <td>0.0</td>\n",
       "      <td>0.0</td>\n",
       "      <td>0.0</td>\n",
       "      <td>0.0</td>\n",
       "    </tr>\n",
       "    <tr>\n",
       "      <th>2</th>\n",
       "      <td>Beauty_1_003_East_1</td>\n",
       "      <td>East_1</td>\n",
       "      <td>0.000156</td>\n",
       "      <td>1.0</td>\n",
       "      <td>1.0</td>\n",
       "      <td>1.0</td>\n",
       "      <td>1.0</td>\n",
       "      <td>1.0</td>\n",
       "      <td>1.0</td>\n",
       "      <td>0.0</td>\n",
       "      <td>...</td>\n",
       "      <td>1.0</td>\n",
       "      <td>1.0</td>\n",
       "      <td>0.0</td>\n",
       "      <td>1.0</td>\n",
       "      <td>1.0</td>\n",
       "      <td>1.0</td>\n",
       "      <td>1.0</td>\n",
       "      <td>1.0</td>\n",
       "      <td>1.0</td>\n",
       "      <td>1.0</td>\n",
       "    </tr>\n",
       "    <tr>\n",
       "      <th>3</th>\n",
       "      <td>Beauty_1_004_East_1</td>\n",
       "      <td>East_1</td>\n",
       "      <td>0.000312</td>\n",
       "      <td>1.0</td>\n",
       "      <td>1.0</td>\n",
       "      <td>2.0</td>\n",
       "      <td>2.0</td>\n",
       "      <td>1.0</td>\n",
       "      <td>1.0</td>\n",
       "      <td>1.0</td>\n",
       "      <td>...</td>\n",
       "      <td>1.0</td>\n",
       "      <td>1.0</td>\n",
       "      <td>1.0</td>\n",
       "      <td>1.0</td>\n",
       "      <td>1.0</td>\n",
       "      <td>1.0</td>\n",
       "      <td>2.0</td>\n",
       "      <td>1.0</td>\n",
       "      <td>1.0</td>\n",
       "      <td>1.0</td>\n",
       "    </tr>\n",
       "    <tr>\n",
       "      <th>4</th>\n",
       "      <td>Beauty_1_005_East_1</td>\n",
       "      <td>East_1</td>\n",
       "      <td>0.000343</td>\n",
       "      <td>1.0</td>\n",
       "      <td>2.0</td>\n",
       "      <td>2.0</td>\n",
       "      <td>2.0</td>\n",
       "      <td>2.0</td>\n",
       "      <td>1.0</td>\n",
       "      <td>1.0</td>\n",
       "      <td>...</td>\n",
       "      <td>1.0</td>\n",
       "      <td>1.0</td>\n",
       "      <td>1.0</td>\n",
       "      <td>1.0</td>\n",
       "      <td>1.0</td>\n",
       "      <td>2.0</td>\n",
       "      <td>2.0</td>\n",
       "      <td>2.0</td>\n",
       "      <td>1.0</td>\n",
       "      <td>1.0</td>\n",
       "    </tr>\n",
       "  </tbody>\n",
       "</table>\n",
       "<p>5 rows × 24 columns</p>\n",
       "</div>"
      ],
      "text/plain": [
       "                    id cluster      prop  1920  1921  1922  1923  1924  1925  \\\n",
       "0  Beauty_1_001_East_1  East_1  0.000187   1.0   1.0   1.0   1.0   1.0   1.0   \n",
       "1  Beauty_1_002_East_1  East_1  0.000031   0.0   0.0   0.0   0.0   0.0   0.0   \n",
       "2  Beauty_1_003_East_1  East_1  0.000156   1.0   1.0   1.0   1.0   1.0   1.0   \n",
       "3  Beauty_1_004_East_1  East_1  0.000312   1.0   1.0   2.0   2.0   1.0   1.0   \n",
       "4  Beauty_1_005_East_1  East_1  0.000343   1.0   2.0   2.0   2.0   2.0   1.0   \n",
       "\n",
       "   1926  ...  1931  1932  1933  1934  1935  1936  1937  1938  1939  1940  \n",
       "0   1.0  ...   1.0   1.0   1.0   1.0   1.0   1.0   1.0   1.0   1.0   1.0  \n",
       "1   0.0  ...   0.0   0.0   0.0   0.0   0.0   0.0   0.0   0.0   0.0   0.0  \n",
       "2   0.0  ...   1.0   1.0   0.0   1.0   1.0   1.0   1.0   1.0   1.0   1.0  \n",
       "3   1.0  ...   1.0   1.0   1.0   1.0   1.0   1.0   2.0   1.0   1.0   1.0  \n",
       "4   1.0  ...   1.0   1.0   1.0   1.0   1.0   2.0   2.0   2.0   1.0   1.0  \n",
       "\n",
       "[5 rows x 24 columns]"
      ]
     },
     "execution_count": 17,
     "metadata": {},
     "output_type": "execute_result"
    }
   ],
   "source": [
    "#merging our df that has the proportions for each item, with the predictions for each cluster\n",
    "forecast_df = pd.merge(subset_final_store, prediction_df_store, on = 'cluster', how ='left' )\n",
    "distance1(forecast_df)\n",
    "forecast_df.head()"
   ]
  },
  {
   "cell_type": "code",
   "execution_count": 18,
   "id": "8fda1d7c",
   "metadata": {},
   "outputs": [
    {
     "data": {
      "text/html": [
       "<div>\n",
       "<style scoped>\n",
       "    .dataframe tbody tr th:only-of-type {\n",
       "        vertical-align: middle;\n",
       "    }\n",
       "\n",
       "    .dataframe tbody tr th {\n",
       "        vertical-align: top;\n",
       "    }\n",
       "\n",
       "    .dataframe thead th {\n",
       "        text-align: right;\n",
       "    }\n",
       "</style>\n",
       "<table border=\"1\" class=\"dataframe\">\n",
       "  <thead>\n",
       "    <tr style=\"text-align: right;\">\n",
       "      <th></th>\n",
       "      <th>d_1920</th>\n",
       "      <th>d_1921</th>\n",
       "      <th>d_1922</th>\n",
       "      <th>d_1923</th>\n",
       "      <th>d_1924</th>\n",
       "      <th>d_1925</th>\n",
       "      <th>d_1926</th>\n",
       "      <th>d_1927</th>\n",
       "      <th>d_1928</th>\n",
       "      <th>d_1929</th>\n",
       "      <th>...</th>\n",
       "      <th>d_1931</th>\n",
       "      <th>d_1932</th>\n",
       "      <th>d_1933</th>\n",
       "      <th>d_1934</th>\n",
       "      <th>d_1935</th>\n",
       "      <th>d_1936</th>\n",
       "      <th>d_1937</th>\n",
       "      <th>d_1938</th>\n",
       "      <th>d_1939</th>\n",
       "      <th>d_1940</th>\n",
       "    </tr>\n",
       "    <tr>\n",
       "      <th>id</th>\n",
       "      <th></th>\n",
       "      <th></th>\n",
       "      <th></th>\n",
       "      <th></th>\n",
       "      <th></th>\n",
       "      <th></th>\n",
       "      <th></th>\n",
       "      <th></th>\n",
       "      <th></th>\n",
       "      <th></th>\n",
       "      <th></th>\n",
       "      <th></th>\n",
       "      <th></th>\n",
       "      <th></th>\n",
       "      <th></th>\n",
       "      <th></th>\n",
       "      <th></th>\n",
       "      <th></th>\n",
       "      <th></th>\n",
       "      <th></th>\n",
       "      <th></th>\n",
       "    </tr>\n",
       "  </thead>\n",
       "  <tbody>\n",
       "    <tr>\n",
       "      <th>Beauty_1_001_East_1</th>\n",
       "      <td>1.0</td>\n",
       "      <td>1.0</td>\n",
       "      <td>1.0</td>\n",
       "      <td>1.0</td>\n",
       "      <td>1.0</td>\n",
       "      <td>1.0</td>\n",
       "      <td>1.0</td>\n",
       "      <td>1.0</td>\n",
       "      <td>1.0</td>\n",
       "      <td>1.0</td>\n",
       "      <td>...</td>\n",
       "      <td>1.0</td>\n",
       "      <td>1.0</td>\n",
       "      <td>1.0</td>\n",
       "      <td>1.0</td>\n",
       "      <td>1.0</td>\n",
       "      <td>1.0</td>\n",
       "      <td>1.0</td>\n",
       "      <td>1.0</td>\n",
       "      <td>1.0</td>\n",
       "      <td>1.0</td>\n",
       "    </tr>\n",
       "    <tr>\n",
       "      <th>Beauty_1_002_East_1</th>\n",
       "      <td>0.0</td>\n",
       "      <td>0.0</td>\n",
       "      <td>0.0</td>\n",
       "      <td>0.0</td>\n",
       "      <td>0.0</td>\n",
       "      <td>0.0</td>\n",
       "      <td>0.0</td>\n",
       "      <td>0.0</td>\n",
       "      <td>0.0</td>\n",
       "      <td>0.0</td>\n",
       "      <td>...</td>\n",
       "      <td>0.0</td>\n",
       "      <td>0.0</td>\n",
       "      <td>0.0</td>\n",
       "      <td>0.0</td>\n",
       "      <td>0.0</td>\n",
       "      <td>0.0</td>\n",
       "      <td>0.0</td>\n",
       "      <td>0.0</td>\n",
       "      <td>0.0</td>\n",
       "      <td>0.0</td>\n",
       "    </tr>\n",
       "    <tr>\n",
       "      <th>Beauty_1_003_East_1</th>\n",
       "      <td>1.0</td>\n",
       "      <td>1.0</td>\n",
       "      <td>1.0</td>\n",
       "      <td>1.0</td>\n",
       "      <td>1.0</td>\n",
       "      <td>1.0</td>\n",
       "      <td>0.0</td>\n",
       "      <td>1.0</td>\n",
       "      <td>1.0</td>\n",
       "      <td>1.0</td>\n",
       "      <td>...</td>\n",
       "      <td>1.0</td>\n",
       "      <td>1.0</td>\n",
       "      <td>0.0</td>\n",
       "      <td>1.0</td>\n",
       "      <td>1.0</td>\n",
       "      <td>1.0</td>\n",
       "      <td>1.0</td>\n",
       "      <td>1.0</td>\n",
       "      <td>1.0</td>\n",
       "      <td>1.0</td>\n",
       "    </tr>\n",
       "    <tr>\n",
       "      <th>Beauty_1_004_East_1</th>\n",
       "      <td>1.0</td>\n",
       "      <td>1.0</td>\n",
       "      <td>2.0</td>\n",
       "      <td>2.0</td>\n",
       "      <td>1.0</td>\n",
       "      <td>1.0</td>\n",
       "      <td>1.0</td>\n",
       "      <td>1.0</td>\n",
       "      <td>1.0</td>\n",
       "      <td>1.0</td>\n",
       "      <td>...</td>\n",
       "      <td>1.0</td>\n",
       "      <td>1.0</td>\n",
       "      <td>1.0</td>\n",
       "      <td>1.0</td>\n",
       "      <td>1.0</td>\n",
       "      <td>1.0</td>\n",
       "      <td>2.0</td>\n",
       "      <td>1.0</td>\n",
       "      <td>1.0</td>\n",
       "      <td>1.0</td>\n",
       "    </tr>\n",
       "    <tr>\n",
       "      <th>Beauty_1_005_East_1</th>\n",
       "      <td>1.0</td>\n",
       "      <td>2.0</td>\n",
       "      <td>2.0</td>\n",
       "      <td>2.0</td>\n",
       "      <td>2.0</td>\n",
       "      <td>1.0</td>\n",
       "      <td>1.0</td>\n",
       "      <td>1.0</td>\n",
       "      <td>1.0</td>\n",
       "      <td>2.0</td>\n",
       "      <td>...</td>\n",
       "      <td>1.0</td>\n",
       "      <td>1.0</td>\n",
       "      <td>1.0</td>\n",
       "      <td>1.0</td>\n",
       "      <td>1.0</td>\n",
       "      <td>2.0</td>\n",
       "      <td>2.0</td>\n",
       "      <td>2.0</td>\n",
       "      <td>1.0</td>\n",
       "      <td>1.0</td>\n",
       "    </tr>\n",
       "  </tbody>\n",
       "</table>\n",
       "<p>5 rows × 21 columns</p>\n",
       "</div>"
      ],
      "text/plain": [
       "                     d_1920  d_1921  d_1922  d_1923  d_1924  d_1925  d_1926  \\\n",
       "id                                                                            \n",
       "Beauty_1_001_East_1     1.0     1.0     1.0     1.0     1.0     1.0     1.0   \n",
       "Beauty_1_002_East_1     0.0     0.0     0.0     0.0     0.0     0.0     0.0   \n",
       "Beauty_1_003_East_1     1.0     1.0     1.0     1.0     1.0     1.0     0.0   \n",
       "Beauty_1_004_East_1     1.0     1.0     2.0     2.0     1.0     1.0     1.0   \n",
       "Beauty_1_005_East_1     1.0     2.0     2.0     2.0     2.0     1.0     1.0   \n",
       "\n",
       "                     d_1927  d_1928  d_1929  ...  d_1931  d_1932  d_1933  \\\n",
       "id                                           ...                           \n",
       "Beauty_1_001_East_1     1.0     1.0     1.0  ...     1.0     1.0     1.0   \n",
       "Beauty_1_002_East_1     0.0     0.0     0.0  ...     0.0     0.0     0.0   \n",
       "Beauty_1_003_East_1     1.0     1.0     1.0  ...     1.0     1.0     0.0   \n",
       "Beauty_1_004_East_1     1.0     1.0     1.0  ...     1.0     1.0     1.0   \n",
       "Beauty_1_005_East_1     1.0     1.0     2.0  ...     1.0     1.0     1.0   \n",
       "\n",
       "                     d_1934  d_1935  d_1936  d_1937  d_1938  d_1939  d_1940  \n",
       "id                                                                           \n",
       "Beauty_1_001_East_1     1.0     1.0     1.0     1.0     1.0     1.0     1.0  \n",
       "Beauty_1_002_East_1     0.0     0.0     0.0     0.0     0.0     0.0     0.0  \n",
       "Beauty_1_003_East_1     1.0     1.0     1.0     1.0     1.0     1.0     1.0  \n",
       "Beauty_1_004_East_1     1.0     1.0     1.0     2.0     1.0     1.0     1.0  \n",
       "Beauty_1_005_East_1     1.0     1.0     2.0     2.0     2.0     1.0     1.0  \n",
       "\n",
       "[5 rows x 21 columns]"
      ]
     },
     "execution_count": 18,
     "metadata": {},
     "output_type": "execute_result"
    }
   ],
   "source": [
    "#cleaning the forecast_df so we can submit on kaggle\n",
    "final = forecast_df.drop(columns=['cluster', 'prop'])\n",
    "final.set_index('id', inplace = True)\n",
    "columns = ['d_1920', 'd_1921','d_1922','d_1923', 'd_1924', 'd_1925','d_1926','d_1927','d_1928','d_1929','d_1930',\n",
    "             'd_1931','d_1932','d_1933','d_1934','d_1935','d_1936','d_1937','d_1938','d_1939','d_1940']\n",
    "final.columns = columns\n",
    "final.head()"
   ]
  },
  {
   "cell_type": "code",
   "execution_count": 21,
   "id": "7fa31608",
   "metadata": {},
   "outputs": [],
   "source": [
    "#saving the predictions to csv\n",
    "final.to_csv('stores_prediction.csv')"
   ]
  },
  {
   "cell_type": "markdown",
   "id": "5634e863",
   "metadata": {},
   "source": [
    "#### Distance measure: 'sliding window'"
   ]
  },
  {
   "cell_type": "code",
   "execution_count": 19,
   "id": "0b6087a6",
   "metadata": {
    "scrolled": true
   },
   "outputs": [],
   "source": [
    "#forecasting using the 'sliding window' distance measure\n",
    "traincal_temp = traincal\n",
    "traincal_temp.rename(columns={\"store_id\":\"cluster\"}, inplace=True)"
   ]
  },
  {
   "cell_type": "code",
   "execution_count": 22,
   "id": "10d930bb",
   "metadata": {},
   "outputs": [
    {
     "name": "stderr",
     "output_type": "stream",
     "text": [
      "/var/folders/hw/w8w6k5c51rd3yspr0zhn_6780000gn/T/ipykernel_72653/1612407262.py:10: SettingWithCopyWarning: \n",
      "A value is trying to be set on a copy of a slice from a DataFrame.\n",
      "Try using .loc[row_indexer,col_indexer] = value instead\n",
      "\n",
      "See the caveats in the documentation: https://pandas.pydata.org/pandas-docs/stable/user_guide/indexing.html#returning-a-view-versus-a-copy\n",
      "  train_temp['d'] = train_temp['d'].astype(int)\n",
      "/var/folders/hw/w8w6k5c51rd3yspr0zhn_6780000gn/T/ipykernel_72653/1612407262.py:15: FutureWarning: The default value of numeric_only in DataFrameGroupBy.sum is deprecated. In a future version, numeric_only will default to False. Either specify numeric_only or select only columns which should be valid for the function.\n",
      "  total_cluster_sales = temp.groupby([\"cluster\",\"d\"]).sum().reset_index().rename(columns={'sales':'total_cluster_sales'})\n",
      "/var/folders/hw/w8w6k5c51rd3yspr0zhn_6780000gn/T/ipykernel_72653/1612407262.py:31: FutureWarning: The frame.append method is deprecated and will be removed from pandas in a future version. Use pandas.concat instead.\n",
      "  train_temp = train_temp.append(preds_for_day)\n"
     ]
    },
    {
     "name": "stdout",
     "output_type": "stream",
     "text": [
      "Prediction made for day: 1920\n"
     ]
    },
    {
     "name": "stderr",
     "output_type": "stream",
     "text": [
      "/var/folders/hw/w8w6k5c51rd3yspr0zhn_6780000gn/T/ipykernel_72653/1612407262.py:15: FutureWarning: The default value of numeric_only in DataFrameGroupBy.sum is deprecated. In a future version, numeric_only will default to False. Either specify numeric_only or select only columns which should be valid for the function.\n",
      "  total_cluster_sales = temp.groupby([\"cluster\",\"d\"]).sum().reset_index().rename(columns={'sales':'total_cluster_sales'})\n",
      "/var/folders/hw/w8w6k5c51rd3yspr0zhn_6780000gn/T/ipykernel_72653/1612407262.py:31: FutureWarning: The frame.append method is deprecated and will be removed from pandas in a future version. Use pandas.concat instead.\n",
      "  train_temp = train_temp.append(preds_for_day)\n"
     ]
    },
    {
     "name": "stdout",
     "output_type": "stream",
     "text": [
      "Prediction made for day: 1921\n"
     ]
    },
    {
     "name": "stderr",
     "output_type": "stream",
     "text": [
      "/var/folders/hw/w8w6k5c51rd3yspr0zhn_6780000gn/T/ipykernel_72653/1612407262.py:15: FutureWarning: The default value of numeric_only in DataFrameGroupBy.sum is deprecated. In a future version, numeric_only will default to False. Either specify numeric_only or select only columns which should be valid for the function.\n",
      "  total_cluster_sales = temp.groupby([\"cluster\",\"d\"]).sum().reset_index().rename(columns={'sales':'total_cluster_sales'})\n",
      "/var/folders/hw/w8w6k5c51rd3yspr0zhn_6780000gn/T/ipykernel_72653/1612407262.py:31: FutureWarning: The frame.append method is deprecated and will be removed from pandas in a future version. Use pandas.concat instead.\n",
      "  train_temp = train_temp.append(preds_for_day)\n"
     ]
    },
    {
     "name": "stdout",
     "output_type": "stream",
     "text": [
      "Prediction made for day: 1922\n"
     ]
    },
    {
     "name": "stderr",
     "output_type": "stream",
     "text": [
      "/var/folders/hw/w8w6k5c51rd3yspr0zhn_6780000gn/T/ipykernel_72653/1612407262.py:15: FutureWarning: The default value of numeric_only in DataFrameGroupBy.sum is deprecated. In a future version, numeric_only will default to False. Either specify numeric_only or select only columns which should be valid for the function.\n",
      "  total_cluster_sales = temp.groupby([\"cluster\",\"d\"]).sum().reset_index().rename(columns={'sales':'total_cluster_sales'})\n",
      "/var/folders/hw/w8w6k5c51rd3yspr0zhn_6780000gn/T/ipykernel_72653/1612407262.py:31: FutureWarning: The frame.append method is deprecated and will be removed from pandas in a future version. Use pandas.concat instead.\n",
      "  train_temp = train_temp.append(preds_for_day)\n"
     ]
    },
    {
     "name": "stdout",
     "output_type": "stream",
     "text": [
      "Prediction made for day: 1923\n"
     ]
    },
    {
     "name": "stderr",
     "output_type": "stream",
     "text": [
      "/var/folders/hw/w8w6k5c51rd3yspr0zhn_6780000gn/T/ipykernel_72653/1612407262.py:15: FutureWarning: The default value of numeric_only in DataFrameGroupBy.sum is deprecated. In a future version, numeric_only will default to False. Either specify numeric_only or select only columns which should be valid for the function.\n",
      "  total_cluster_sales = temp.groupby([\"cluster\",\"d\"]).sum().reset_index().rename(columns={'sales':'total_cluster_sales'})\n",
      "/var/folders/hw/w8w6k5c51rd3yspr0zhn_6780000gn/T/ipykernel_72653/1612407262.py:31: FutureWarning: The frame.append method is deprecated and will be removed from pandas in a future version. Use pandas.concat instead.\n",
      "  train_temp = train_temp.append(preds_for_day)\n"
     ]
    },
    {
     "name": "stdout",
     "output_type": "stream",
     "text": [
      "Prediction made for day: 1924\n"
     ]
    },
    {
     "name": "stderr",
     "output_type": "stream",
     "text": [
      "/var/folders/hw/w8w6k5c51rd3yspr0zhn_6780000gn/T/ipykernel_72653/1612407262.py:15: FutureWarning: The default value of numeric_only in DataFrameGroupBy.sum is deprecated. In a future version, numeric_only will default to False. Either specify numeric_only or select only columns which should be valid for the function.\n",
      "  total_cluster_sales = temp.groupby([\"cluster\",\"d\"]).sum().reset_index().rename(columns={'sales':'total_cluster_sales'})\n",
      "/var/folders/hw/w8w6k5c51rd3yspr0zhn_6780000gn/T/ipykernel_72653/1612407262.py:31: FutureWarning: The frame.append method is deprecated and will be removed from pandas in a future version. Use pandas.concat instead.\n",
      "  train_temp = train_temp.append(preds_for_day)\n"
     ]
    },
    {
     "name": "stdout",
     "output_type": "stream",
     "text": [
      "Prediction made for day: 1925\n"
     ]
    },
    {
     "name": "stderr",
     "output_type": "stream",
     "text": [
      "/var/folders/hw/w8w6k5c51rd3yspr0zhn_6780000gn/T/ipykernel_72653/1612407262.py:15: FutureWarning: The default value of numeric_only in DataFrameGroupBy.sum is deprecated. In a future version, numeric_only will default to False. Either specify numeric_only or select only columns which should be valid for the function.\n",
      "  total_cluster_sales = temp.groupby([\"cluster\",\"d\"]).sum().reset_index().rename(columns={'sales':'total_cluster_sales'})\n",
      "/var/folders/hw/w8w6k5c51rd3yspr0zhn_6780000gn/T/ipykernel_72653/1612407262.py:31: FutureWarning: The frame.append method is deprecated and will be removed from pandas in a future version. Use pandas.concat instead.\n",
      "  train_temp = train_temp.append(preds_for_day)\n"
     ]
    },
    {
     "name": "stdout",
     "output_type": "stream",
     "text": [
      "Prediction made for day: 1926\n"
     ]
    },
    {
     "name": "stderr",
     "output_type": "stream",
     "text": [
      "/var/folders/hw/w8w6k5c51rd3yspr0zhn_6780000gn/T/ipykernel_72653/1612407262.py:15: FutureWarning: The default value of numeric_only in DataFrameGroupBy.sum is deprecated. In a future version, numeric_only will default to False. Either specify numeric_only or select only columns which should be valid for the function.\n",
      "  total_cluster_sales = temp.groupby([\"cluster\",\"d\"]).sum().reset_index().rename(columns={'sales':'total_cluster_sales'})\n",
      "/var/folders/hw/w8w6k5c51rd3yspr0zhn_6780000gn/T/ipykernel_72653/1612407262.py:31: FutureWarning: The frame.append method is deprecated and will be removed from pandas in a future version. Use pandas.concat instead.\n",
      "  train_temp = train_temp.append(preds_for_day)\n"
     ]
    },
    {
     "name": "stdout",
     "output_type": "stream",
     "text": [
      "Prediction made for day: 1927\n"
     ]
    },
    {
     "name": "stderr",
     "output_type": "stream",
     "text": [
      "/var/folders/hw/w8w6k5c51rd3yspr0zhn_6780000gn/T/ipykernel_72653/1612407262.py:15: FutureWarning: The default value of numeric_only in DataFrameGroupBy.sum is deprecated. In a future version, numeric_only will default to False. Either specify numeric_only or select only columns which should be valid for the function.\n",
      "  total_cluster_sales = temp.groupby([\"cluster\",\"d\"]).sum().reset_index().rename(columns={'sales':'total_cluster_sales'})\n",
      "/var/folders/hw/w8w6k5c51rd3yspr0zhn_6780000gn/T/ipykernel_72653/1612407262.py:31: FutureWarning: The frame.append method is deprecated and will be removed from pandas in a future version. Use pandas.concat instead.\n",
      "  train_temp = train_temp.append(preds_for_day)\n"
     ]
    },
    {
     "name": "stdout",
     "output_type": "stream",
     "text": [
      "Prediction made for day: 1928\n"
     ]
    },
    {
     "name": "stderr",
     "output_type": "stream",
     "text": [
      "/var/folders/hw/w8w6k5c51rd3yspr0zhn_6780000gn/T/ipykernel_72653/1612407262.py:15: FutureWarning: The default value of numeric_only in DataFrameGroupBy.sum is deprecated. In a future version, numeric_only will default to False. Either specify numeric_only or select only columns which should be valid for the function.\n",
      "  total_cluster_sales = temp.groupby([\"cluster\",\"d\"]).sum().reset_index().rename(columns={'sales':'total_cluster_sales'})\n",
      "/var/folders/hw/w8w6k5c51rd3yspr0zhn_6780000gn/T/ipykernel_72653/1612407262.py:31: FutureWarning: The frame.append method is deprecated and will be removed from pandas in a future version. Use pandas.concat instead.\n",
      "  train_temp = train_temp.append(preds_for_day)\n"
     ]
    },
    {
     "name": "stdout",
     "output_type": "stream",
     "text": [
      "Prediction made for day: 1929\n"
     ]
    },
    {
     "name": "stderr",
     "output_type": "stream",
     "text": [
      "/var/folders/hw/w8w6k5c51rd3yspr0zhn_6780000gn/T/ipykernel_72653/1612407262.py:15: FutureWarning: The default value of numeric_only in DataFrameGroupBy.sum is deprecated. In a future version, numeric_only will default to False. Either specify numeric_only or select only columns which should be valid for the function.\n",
      "  total_cluster_sales = temp.groupby([\"cluster\",\"d\"]).sum().reset_index().rename(columns={'sales':'total_cluster_sales'})\n",
      "/var/folders/hw/w8w6k5c51rd3yspr0zhn_6780000gn/T/ipykernel_72653/1612407262.py:31: FutureWarning: The frame.append method is deprecated and will be removed from pandas in a future version. Use pandas.concat instead.\n",
      "  train_temp = train_temp.append(preds_for_day)\n"
     ]
    },
    {
     "name": "stdout",
     "output_type": "stream",
     "text": [
      "Prediction made for day: 1930\n"
     ]
    },
    {
     "name": "stderr",
     "output_type": "stream",
     "text": [
      "/var/folders/hw/w8w6k5c51rd3yspr0zhn_6780000gn/T/ipykernel_72653/1612407262.py:15: FutureWarning: The default value of numeric_only in DataFrameGroupBy.sum is deprecated. In a future version, numeric_only will default to False. Either specify numeric_only or select only columns which should be valid for the function.\n",
      "  total_cluster_sales = temp.groupby([\"cluster\",\"d\"]).sum().reset_index().rename(columns={'sales':'total_cluster_sales'})\n",
      "/var/folders/hw/w8w6k5c51rd3yspr0zhn_6780000gn/T/ipykernel_72653/1612407262.py:31: FutureWarning: The frame.append method is deprecated and will be removed from pandas in a future version. Use pandas.concat instead.\n",
      "  train_temp = train_temp.append(preds_for_day)\n"
     ]
    },
    {
     "name": "stdout",
     "output_type": "stream",
     "text": [
      "Prediction made for day: 1931\n"
     ]
    },
    {
     "name": "stderr",
     "output_type": "stream",
     "text": [
      "/var/folders/hw/w8w6k5c51rd3yspr0zhn_6780000gn/T/ipykernel_72653/1612407262.py:15: FutureWarning: The default value of numeric_only in DataFrameGroupBy.sum is deprecated. In a future version, numeric_only will default to False. Either specify numeric_only or select only columns which should be valid for the function.\n",
      "  total_cluster_sales = temp.groupby([\"cluster\",\"d\"]).sum().reset_index().rename(columns={'sales':'total_cluster_sales'})\n",
      "/var/folders/hw/w8w6k5c51rd3yspr0zhn_6780000gn/T/ipykernel_72653/1612407262.py:31: FutureWarning: The frame.append method is deprecated and will be removed from pandas in a future version. Use pandas.concat instead.\n",
      "  train_temp = train_temp.append(preds_for_day)\n"
     ]
    },
    {
     "name": "stdout",
     "output_type": "stream",
     "text": [
      "Prediction made for day: 1932\n"
     ]
    },
    {
     "name": "stderr",
     "output_type": "stream",
     "text": [
      "/var/folders/hw/w8w6k5c51rd3yspr0zhn_6780000gn/T/ipykernel_72653/1612407262.py:15: FutureWarning: The default value of numeric_only in DataFrameGroupBy.sum is deprecated. In a future version, numeric_only will default to False. Either specify numeric_only or select only columns which should be valid for the function.\n",
      "  total_cluster_sales = temp.groupby([\"cluster\",\"d\"]).sum().reset_index().rename(columns={'sales':'total_cluster_sales'})\n",
      "/var/folders/hw/w8w6k5c51rd3yspr0zhn_6780000gn/T/ipykernel_72653/1612407262.py:31: FutureWarning: The frame.append method is deprecated and will be removed from pandas in a future version. Use pandas.concat instead.\n",
      "  train_temp = train_temp.append(preds_for_day)\n"
     ]
    },
    {
     "name": "stdout",
     "output_type": "stream",
     "text": [
      "Prediction made for day: 1933\n"
     ]
    },
    {
     "name": "stderr",
     "output_type": "stream",
     "text": [
      "/var/folders/hw/w8w6k5c51rd3yspr0zhn_6780000gn/T/ipykernel_72653/1612407262.py:15: FutureWarning: The default value of numeric_only in DataFrameGroupBy.sum is deprecated. In a future version, numeric_only will default to False. Either specify numeric_only or select only columns which should be valid for the function.\n",
      "  total_cluster_sales = temp.groupby([\"cluster\",\"d\"]).sum().reset_index().rename(columns={'sales':'total_cluster_sales'})\n",
      "/var/folders/hw/w8w6k5c51rd3yspr0zhn_6780000gn/T/ipykernel_72653/1612407262.py:31: FutureWarning: The frame.append method is deprecated and will be removed from pandas in a future version. Use pandas.concat instead.\n",
      "  train_temp = train_temp.append(preds_for_day)\n"
     ]
    },
    {
     "name": "stdout",
     "output_type": "stream",
     "text": [
      "Prediction made for day: 1934\n"
     ]
    },
    {
     "name": "stderr",
     "output_type": "stream",
     "text": [
      "/var/folders/hw/w8w6k5c51rd3yspr0zhn_6780000gn/T/ipykernel_72653/1612407262.py:15: FutureWarning: The default value of numeric_only in DataFrameGroupBy.sum is deprecated. In a future version, numeric_only will default to False. Either specify numeric_only or select only columns which should be valid for the function.\n",
      "  total_cluster_sales = temp.groupby([\"cluster\",\"d\"]).sum().reset_index().rename(columns={'sales':'total_cluster_sales'})\n",
      "/var/folders/hw/w8w6k5c51rd3yspr0zhn_6780000gn/T/ipykernel_72653/1612407262.py:31: FutureWarning: The frame.append method is deprecated and will be removed from pandas in a future version. Use pandas.concat instead.\n",
      "  train_temp = train_temp.append(preds_for_day)\n"
     ]
    },
    {
     "name": "stdout",
     "output_type": "stream",
     "text": [
      "Prediction made for day: 1935\n"
     ]
    },
    {
     "name": "stderr",
     "output_type": "stream",
     "text": [
      "/var/folders/hw/w8w6k5c51rd3yspr0zhn_6780000gn/T/ipykernel_72653/1612407262.py:15: FutureWarning: The default value of numeric_only in DataFrameGroupBy.sum is deprecated. In a future version, numeric_only will default to False. Either specify numeric_only or select only columns which should be valid for the function.\n",
      "  total_cluster_sales = temp.groupby([\"cluster\",\"d\"]).sum().reset_index().rename(columns={'sales':'total_cluster_sales'})\n",
      "/var/folders/hw/w8w6k5c51rd3yspr0zhn_6780000gn/T/ipykernel_72653/1612407262.py:31: FutureWarning: The frame.append method is deprecated and will be removed from pandas in a future version. Use pandas.concat instead.\n",
      "  train_temp = train_temp.append(preds_for_day)\n"
     ]
    },
    {
     "name": "stdout",
     "output_type": "stream",
     "text": [
      "Prediction made for day: 1936\n"
     ]
    },
    {
     "name": "stderr",
     "output_type": "stream",
     "text": [
      "/var/folders/hw/w8w6k5c51rd3yspr0zhn_6780000gn/T/ipykernel_72653/1612407262.py:15: FutureWarning: The default value of numeric_only in DataFrameGroupBy.sum is deprecated. In a future version, numeric_only will default to False. Either specify numeric_only or select only columns which should be valid for the function.\n",
      "  total_cluster_sales = temp.groupby([\"cluster\",\"d\"]).sum().reset_index().rename(columns={'sales':'total_cluster_sales'})\n",
      "/var/folders/hw/w8w6k5c51rd3yspr0zhn_6780000gn/T/ipykernel_72653/1612407262.py:31: FutureWarning: The frame.append method is deprecated and will be removed from pandas in a future version. Use pandas.concat instead.\n",
      "  train_temp = train_temp.append(preds_for_day)\n"
     ]
    },
    {
     "name": "stdout",
     "output_type": "stream",
     "text": [
      "Prediction made for day: 1937\n"
     ]
    },
    {
     "name": "stderr",
     "output_type": "stream",
     "text": [
      "/var/folders/hw/w8w6k5c51rd3yspr0zhn_6780000gn/T/ipykernel_72653/1612407262.py:15: FutureWarning: The default value of numeric_only in DataFrameGroupBy.sum is deprecated. In a future version, numeric_only will default to False. Either specify numeric_only or select only columns which should be valid for the function.\n",
      "  total_cluster_sales = temp.groupby([\"cluster\",\"d\"]).sum().reset_index().rename(columns={'sales':'total_cluster_sales'})\n",
      "/var/folders/hw/w8w6k5c51rd3yspr0zhn_6780000gn/T/ipykernel_72653/1612407262.py:31: FutureWarning: The frame.append method is deprecated and will be removed from pandas in a future version. Use pandas.concat instead.\n",
      "  train_temp = train_temp.append(preds_for_day)\n"
     ]
    },
    {
     "name": "stdout",
     "output_type": "stream",
     "text": [
      "Prediction made for day: 1938\n"
     ]
    },
    {
     "name": "stderr",
     "output_type": "stream",
     "text": [
      "/var/folders/hw/w8w6k5c51rd3yspr0zhn_6780000gn/T/ipykernel_72653/1612407262.py:15: FutureWarning: The default value of numeric_only in DataFrameGroupBy.sum is deprecated. In a future version, numeric_only will default to False. Either specify numeric_only or select only columns which should be valid for the function.\n",
      "  total_cluster_sales = temp.groupby([\"cluster\",\"d\"]).sum().reset_index().rename(columns={'sales':'total_cluster_sales'})\n",
      "/var/folders/hw/w8w6k5c51rd3yspr0zhn_6780000gn/T/ipykernel_72653/1612407262.py:31: FutureWarning: The frame.append method is deprecated and will be removed from pandas in a future version. Use pandas.concat instead.\n",
      "  train_temp = train_temp.append(preds_for_day)\n"
     ]
    },
    {
     "name": "stdout",
     "output_type": "stream",
     "text": [
      "Prediction made for day: 1939\n"
     ]
    },
    {
     "name": "stderr",
     "output_type": "stream",
     "text": [
      "/var/folders/hw/w8w6k5c51rd3yspr0zhn_6780000gn/T/ipykernel_72653/1612407262.py:15: FutureWarning: The default value of numeric_only in DataFrameGroupBy.sum is deprecated. In a future version, numeric_only will default to False. Either specify numeric_only or select only columns which should be valid for the function.\n",
      "  total_cluster_sales = temp.groupby([\"cluster\",\"d\"]).sum().reset_index().rename(columns={'sales':'total_cluster_sales'})\n",
      "/var/folders/hw/w8w6k5c51rd3yspr0zhn_6780000gn/T/ipykernel_72653/1612407262.py:31: FutureWarning: The frame.append method is deprecated and will be removed from pandas in a future version. Use pandas.concat instead.\n",
      "  train_temp = train_temp.append(preds_for_day)\n"
     ]
    },
    {
     "name": "stdout",
     "output_type": "stream",
     "text": [
      "Prediction made for day: 1940\n"
     ]
    }
   ],
   "source": [
    "prediction_w_rolling_prop = rolling_window(traincal_temp, prediction_df_store)"
   ]
  },
  {
   "cell_type": "code",
   "execution_count": 23,
   "id": "5c93437e",
   "metadata": {},
   "outputs": [],
   "source": [
    "#cleaning the formatting of the predictions so we can submit on kaggle\n",
    "columns = ['d_1920', 'd_1921','d_1922','d_1923', 'd_1924', 'd_1925','d_1926','d_1927','d_1928','d_1929','d_1930',\n",
    "             'd_1931','d_1932','d_1933','d_1934','d_1935','d_1936','d_1937','d_1938','d_1939','d_1940']\n",
    "prediction_w_rolling_prop.columns = columns\n",
    "prediction_w_rolling_prop = prediction_w_rolling_prop.set_index(train['id'])"
   ]
  },
  {
   "cell_type": "code",
   "execution_count": 24,
   "id": "8d5f55ad",
   "metadata": {},
   "outputs": [],
   "source": [
    "#saving the rolling window predictions to csv\n",
    "prediction_w_rolling_prop.to_csv('store_pred_v2.csv')"
   ]
  },
  {
   "cell_type": "markdown",
   "id": "0df6d8de",
   "metadata": {},
   "source": [
    "### Analysis  \n",
    "#### (Comparing sliding window and fixed proportion distance measures for Store ID clusters)\n",
    "As expected, our sliding window forecasts score lower than our fixed proportion forecasts. Our proportions from sliding window include our forecasts, which are not perfectly accurate, and produce distorted distances from an item to its cluster."
   ]
  },
  {
   "cell_type": "markdown",
   "id": "ec5bcb08",
   "metadata": {},
   "source": [
    "### Natural Cluster: Subcategory ID\n",
    "#### Data preparation and forecast"
   ]
  },
  {
   "cell_type": "code",
   "execution_count": 19,
   "id": "a5ca086d",
   "metadata": {},
   "outputs": [],
   "source": [
    "#subsetting traincal so it loads faster when we merge\n",
    "temp_df = traincal[[\"date\", \"sales\", \"subcat_id\"]]\n",
    "#getting the daily total sales grouped by cluster\n",
    "total_sales_by_subcat_id = temp_df.groupby([\"subcat_id\",\"date\"]).sum().reset_index()\n",
    "total_sales_by_subcat_id = total_sales_by_subcat_id.rename(columns={'sales': 'total_sales_in_cluster', \n",
    "                                                                    'subcat_id': 'cluster'})"
   ]
  },
  {
   "cell_type": "code",
   "execution_count": 20,
   "id": "febbd9ac",
   "metadata": {
    "scrolled": true
   },
   "outputs": [
    {
     "data": {
      "text/html": [
       "<div>\n",
       "<style scoped>\n",
       "    .dataframe tbody tr th:only-of-type {\n",
       "        vertical-align: middle;\n",
       "    }\n",
       "\n",
       "    .dataframe tbody tr th {\n",
       "        vertical-align: top;\n",
       "    }\n",
       "\n",
       "    .dataframe thead th {\n",
       "        text-align: right;\n",
       "    }\n",
       "</style>\n",
       "<table border=\"1\" class=\"dataframe\">\n",
       "  <thead>\n",
       "    <tr style=\"text-align: right;\">\n",
       "      <th></th>\n",
       "      <th>cluster</th>\n",
       "      <th>date</th>\n",
       "      <th>total_sales_in_cluster</th>\n",
       "    </tr>\n",
       "  </thead>\n",
       "  <tbody>\n",
       "    <tr>\n",
       "      <th>0</th>\n",
       "      <td>Beauty_1</td>\n",
       "      <td>2011-01-29</td>\n",
       "      <td>3610</td>\n",
       "    </tr>\n",
       "    <tr>\n",
       "      <th>1</th>\n",
       "      <td>Beauty_1</td>\n",
       "      <td>2011-01-30</td>\n",
       "      <td>3172</td>\n",
       "    </tr>\n",
       "    <tr>\n",
       "      <th>2</th>\n",
       "      <td>Beauty_1</td>\n",
       "      <td>2011-01-31</td>\n",
       "      <td>2497</td>\n",
       "    </tr>\n",
       "    <tr>\n",
       "      <th>3</th>\n",
       "      <td>Beauty_1</td>\n",
       "      <td>2011-02-01</td>\n",
       "      <td>2531</td>\n",
       "    </tr>\n",
       "    <tr>\n",
       "      <th>4</th>\n",
       "      <td>Beauty_1</td>\n",
       "      <td>2011-02-02</td>\n",
       "      <td>1714</td>\n",
       "    </tr>\n",
       "  </tbody>\n",
       "</table>\n",
       "</div>"
      ],
      "text/plain": [
       "    cluster       date  total_sales_in_cluster\n",
       "0  Beauty_1 2011-01-29                    3610\n",
       "1  Beauty_1 2011-01-30                    3172\n",
       "2  Beauty_1 2011-01-31                    2497\n",
       "3  Beauty_1 2011-02-01                    2531\n",
       "4  Beauty_1 2011-02-02                    1714"
      ]
     },
     "execution_count": 20,
     "metadata": {},
     "output_type": "execute_result"
    }
   ],
   "source": [
    "total_sales_by_subcat_id.head()"
   ]
  },
  {
   "cell_type": "code",
   "execution_count": 28,
   "id": "720e4601",
   "metadata": {},
   "outputs": [
    {
     "name": "stderr",
     "output_type": "stream",
     "text": [
      "/var/folders/hw/w8w6k5c51rd3yspr0zhn_6780000gn/T/ipykernel_71908/608062368.py:9: FutureWarning: The default value of numeric_only in DataFrameGroupBy.mean is deprecated. In a future version, numeric_only will default to False. Either specify numeric_only or select only columns which should be valid for the function.\n",
      "  temp = temp.groupby('date').mean()['total_sales_in_cluster']\n",
      "/var/folders/hw/w8w6k5c51rd3yspr0zhn_6780000gn/T/ipykernel_71908/608062368.py:25: RuntimeWarning: divide by zero encountered in divide\n",
      "  mape = abs((test - test_pred)/test).mean()\n",
      "/var/folders/hw/w8w6k5c51rd3yspr0zhn_6780000gn/T/ipykernel_71908/608062368.py:9: FutureWarning: The default value of numeric_only in DataFrameGroupBy.mean is deprecated. In a future version, numeric_only will default to False. Either specify numeric_only or select only columns which should be valid for the function.\n",
      "  temp = temp.groupby('date').mean()['total_sales_in_cluster']\n"
     ]
    },
    {
     "name": "stdout",
     "output_type": "stream",
     "text": [
      "Cluster: Beauty_1 is predicted\n"
     ]
    },
    {
     "name": "stderr",
     "output_type": "stream",
     "text": [
      "/var/folders/hw/w8w6k5c51rd3yspr0zhn_6780000gn/T/ipykernel_71908/608062368.py:25: RuntimeWarning: divide by zero encountered in divide\n",
      "  mape = abs((test - test_pred)/test).mean()\n",
      "/var/folders/hw/w8w6k5c51rd3yspr0zhn_6780000gn/T/ipykernel_71908/608062368.py:9: FutureWarning: The default value of numeric_only in DataFrameGroupBy.mean is deprecated. In a future version, numeric_only will default to False. Either specify numeric_only or select only columns which should be valid for the function.\n",
      "  temp = temp.groupby('date').mean()['total_sales_in_cluster']\n"
     ]
    },
    {
     "name": "stdout",
     "output_type": "stream",
     "text": [
      "Cluster: Beauty_2 is predicted\n"
     ]
    },
    {
     "name": "stderr",
     "output_type": "stream",
     "text": [
      "/var/folders/hw/w8w6k5c51rd3yspr0zhn_6780000gn/T/ipykernel_71908/608062368.py:25: RuntimeWarning: divide by zero encountered in divide\n",
      "  mape = abs((test - test_pred)/test).mean()\n",
      "/var/folders/hw/w8w6k5c51rd3yspr0zhn_6780000gn/T/ipykernel_71908/608062368.py:9: FutureWarning: The default value of numeric_only in DataFrameGroupBy.mean is deprecated. In a future version, numeric_only will default to False. Either specify numeric_only or select only columns which should be valid for the function.\n",
      "  temp = temp.groupby('date').mean()['total_sales_in_cluster']\n"
     ]
    },
    {
     "name": "stdout",
     "output_type": "stream",
     "text": [
      "Cluster: Cleaning_1 is predicted\n",
      "Cluster: Cleaning_2 is predicted\n"
     ]
    },
    {
     "name": "stderr",
     "output_type": "stream",
     "text": [
      "/var/folders/hw/w8w6k5c51rd3yspr0zhn_6780000gn/T/ipykernel_71908/608062368.py:9: FutureWarning: The default value of numeric_only in DataFrameGroupBy.mean is deprecated. In a future version, numeric_only will default to False. Either specify numeric_only or select only columns which should be valid for the function.\n",
      "  temp = temp.groupby('date').mean()['total_sales_in_cluster']\n"
     ]
    },
    {
     "name": "stdout",
     "output_type": "stream",
     "text": [
      "Cluster: Food_1 is predicted\n"
     ]
    },
    {
     "name": "stderr",
     "output_type": "stream",
     "text": [
      "/var/folders/hw/w8w6k5c51rd3yspr0zhn_6780000gn/T/ipykernel_71908/608062368.py:9: FutureWarning: The default value of numeric_only in DataFrameGroupBy.mean is deprecated. In a future version, numeric_only will default to False. Either specify numeric_only or select only columns which should be valid for the function.\n",
      "  temp = temp.groupby('date').mean()['total_sales_in_cluster']\n",
      "/var/folders/hw/w8w6k5c51rd3yspr0zhn_6780000gn/T/ipykernel_71908/608062368.py:25: RuntimeWarning: divide by zero encountered in divide\n",
      "  mape = abs((test - test_pred)/test).mean()\n",
      "/var/folders/hw/w8w6k5c51rd3yspr0zhn_6780000gn/T/ipykernel_71908/608062368.py:9: FutureWarning: The default value of numeric_only in DataFrameGroupBy.mean is deprecated. In a future version, numeric_only will default to False. Either specify numeric_only or select only columns which should be valid for the function.\n",
      "  temp = temp.groupby('date').mean()['total_sales_in_cluster']\n"
     ]
    },
    {
     "name": "stdout",
     "output_type": "stream",
     "text": [
      "Cluster: Food_2 is predicted\n",
      "Cluster: Food_3 is predicted\n",
      "rmse: 10155.61306583688 mae: 8000.1627214275995 mape: inf\n"
     ]
    }
   ],
   "source": [
    "#forecasting\n",
    "forecast_cluster(total_sales_by_subcat_id, 'prediction_by_cluster')"
   ]
  },
  {
   "cell_type": "markdown",
   "id": "ed20531c",
   "metadata": {},
   "source": [
    "#### Distance measure : Weekly proportion (static)"
   ]
  },
  {
   "cell_type": "code",
   "execution_count": 21,
   "id": "83e00e4e",
   "metadata": {},
   "outputs": [],
   "source": [
    "#subsetting traincal so it loads faster when we merge\n",
    "traincal_temp = traincal[[\"id\", \"subcat_id\", \"date\", \"sales\", \"d\"]]"
   ]
  },
  {
   "cell_type": "code",
   "execution_count": 22,
   "id": "2995c777",
   "metadata": {},
   "outputs": [],
   "source": [
    "train_final_subcat = pd.merge(traincal_temp, total_sales_by_subcat_id, \n",
    "                             left_on = [\"subcat_id\", \"date\"], \n",
    "                             right_on = [\"cluster\", \"date\"])"
   ]
  },
  {
   "cell_type": "code",
   "execution_count": 23,
   "id": "eda051b4",
   "metadata": {},
   "outputs": [
    {
     "data": {
      "text/html": [
       "<div>\n",
       "<style scoped>\n",
       "    .dataframe tbody tr th:only-of-type {\n",
       "        vertical-align: middle;\n",
       "    }\n",
       "\n",
       "    .dataframe tbody tr th {\n",
       "        vertical-align: top;\n",
       "    }\n",
       "\n",
       "    .dataframe thead th {\n",
       "        text-align: right;\n",
       "    }\n",
       "</style>\n",
       "<table border=\"1\" class=\"dataframe\">\n",
       "  <thead>\n",
       "    <tr style=\"text-align: right;\">\n",
       "      <th></th>\n",
       "      <th>id</th>\n",
       "      <th>sales</th>\n",
       "      <th>d</th>\n",
       "      <th>cluster</th>\n",
       "      <th>total_sales_in_cluster</th>\n",
       "    </tr>\n",
       "  </thead>\n",
       "  <tbody>\n",
       "    <tr>\n",
       "      <th>0</th>\n",
       "      <td>Beauty_1_001_East_1</td>\n",
       "      <td>0</td>\n",
       "      <td>1</td>\n",
       "      <td>Beauty_1</td>\n",
       "      <td>3610</td>\n",
       "    </tr>\n",
       "    <tr>\n",
       "      <th>1</th>\n",
       "      <td>Beauty_1_002_East_1</td>\n",
       "      <td>0</td>\n",
       "      <td>1</td>\n",
       "      <td>Beauty_1</td>\n",
       "      <td>3610</td>\n",
       "    </tr>\n",
       "    <tr>\n",
       "      <th>2</th>\n",
       "      <td>Beauty_1_003_East_1</td>\n",
       "      <td>0</td>\n",
       "      <td>1</td>\n",
       "      <td>Beauty_1</td>\n",
       "      <td>3610</td>\n",
       "    </tr>\n",
       "    <tr>\n",
       "      <th>3</th>\n",
       "      <td>Beauty_1_004_East_1</td>\n",
       "      <td>0</td>\n",
       "      <td>1</td>\n",
       "      <td>Beauty_1</td>\n",
       "      <td>3610</td>\n",
       "    </tr>\n",
       "    <tr>\n",
       "      <th>4</th>\n",
       "      <td>Beauty_1_005_East_1</td>\n",
       "      <td>0</td>\n",
       "      <td>1</td>\n",
       "      <td>Beauty_1</td>\n",
       "      <td>3610</td>\n",
       "    </tr>\n",
       "  </tbody>\n",
       "</table>\n",
       "</div>"
      ],
      "text/plain": [
       "                    id  sales  d   cluster  total_sales_in_cluster\n",
       "0  Beauty_1_001_East_1      0  1  Beauty_1                    3610\n",
       "1  Beauty_1_002_East_1      0  1  Beauty_1                    3610\n",
       "2  Beauty_1_003_East_1      0  1  Beauty_1                    3610\n",
       "3  Beauty_1_004_East_1      0  1  Beauty_1                    3610\n",
       "4  Beauty_1_005_East_1      0  1  Beauty_1                    3610"
      ]
     },
     "execution_count": 23,
     "metadata": {},
     "output_type": "execute_result"
    }
   ],
   "source": [
    "#subsetting for days that were a week before our first prediction day, which is 1920\n",
    "train_final_subcat.drop(columns = ['date', 'subcat_id'], inplace = True)\n",
    "train_final_subcat['d'] = train_final_subcat['d'].astype(int)\n",
    "subset_final_subcat = train_final_subcat[train_final_subcat['d'] >= 1913]\n",
    "train_final_subcat.head()"
   ]
  },
  {
   "cell_type": "code",
   "execution_count": 24,
   "id": "ed5c27c3",
   "metadata": {},
   "outputs": [
    {
     "name": "stderr",
     "output_type": "stream",
     "text": [
      "/var/folders/hw/w8w6k5c51rd3yspr0zhn_6780000gn/T/ipykernel_73794/2546518231.py:2: SettingWithCopyWarning: \n",
      "A value is trying to be set on a copy of a slice from a DataFrame.\n",
      "Try using .loc[row_indexer,col_indexer] = value instead\n",
      "\n",
      "See the caveats in the documentation: https://pandas.pydata.org/pandas-docs/stable/user_guide/indexing.html#returning-a-view-versus-a-copy\n",
      "  subset_final_subcat['item_weekly_sales'] = pd.DataFrame(\n",
      "/var/folders/hw/w8w6k5c51rd3yspr0zhn_6780000gn/T/ipykernel_73794/2546518231.py:5: SettingWithCopyWarning: \n",
      "A value is trying to be set on a copy of a slice from a DataFrame.\n",
      "Try using .loc[row_indexer,col_indexer] = value instead\n",
      "\n",
      "See the caveats in the documentation: https://pandas.pydata.org/pandas-docs/stable/user_guide/indexing.html#returning-a-view-versus-a-copy\n",
      "  subset_final_subcat['subcat_weekly_sales'] = pd.DataFrame(subset_final_subcat.groupby(['cluster', 'id'])\n",
      "/var/folders/hw/w8w6k5c51rd3yspr0zhn_6780000gn/T/ipykernel_73794/2546518231.py:8: SettingWithCopyWarning: \n",
      "A value is trying to be set on a copy of a slice from a DataFrame.\n",
      "Try using .loc[row_indexer,col_indexer] = value instead\n",
      "\n",
      "See the caveats in the documentation: https://pandas.pydata.org/pandas-docs/stable/user_guide/indexing.html#returning-a-view-versus-a-copy\n",
      "  subset_final_subcat['prop'] = subset_final_subcat['item_weekly_sales'] / subset_final_subcat['subcat_weekly_sales']\n"
     ]
    },
    {
     "data": {
      "text/html": [
       "<div>\n",
       "<style scoped>\n",
       "    .dataframe tbody tr th:only-of-type {\n",
       "        vertical-align: middle;\n",
       "    }\n",
       "\n",
       "    .dataframe tbody tr th {\n",
       "        vertical-align: top;\n",
       "    }\n",
       "\n",
       "    .dataframe thead th {\n",
       "        text-align: right;\n",
       "    }\n",
       "</style>\n",
       "<table border=\"1\" class=\"dataframe\">\n",
       "  <thead>\n",
       "    <tr style=\"text-align: right;\">\n",
       "      <th></th>\n",
       "      <th>id</th>\n",
       "      <th>cluster</th>\n",
       "      <th>prop</th>\n",
       "    </tr>\n",
       "  </thead>\n",
       "  <tbody>\n",
       "    <tr>\n",
       "      <th>0</th>\n",
       "      <td>Beauty_1_001_East_1</td>\n",
       "      <td>Beauty_1</td>\n",
       "      <td>0.000234</td>\n",
       "    </tr>\n",
       "    <tr>\n",
       "      <th>1</th>\n",
       "      <td>Beauty_1_002_East_1</td>\n",
       "      <td>Beauty_1</td>\n",
       "      <td>0.000039</td>\n",
       "    </tr>\n",
       "    <tr>\n",
       "      <th>2</th>\n",
       "      <td>Beauty_1_003_East_1</td>\n",
       "      <td>Beauty_1</td>\n",
       "      <td>0.000195</td>\n",
       "    </tr>\n",
       "    <tr>\n",
       "      <th>3</th>\n",
       "      <td>Beauty_1_004_East_1</td>\n",
       "      <td>Beauty_1</td>\n",
       "      <td>0.000391</td>\n",
       "    </tr>\n",
       "    <tr>\n",
       "      <th>4</th>\n",
       "      <td>Beauty_1_005_East_1</td>\n",
       "      <td>Beauty_1</td>\n",
       "      <td>0.000430</td>\n",
       "    </tr>\n",
       "  </tbody>\n",
       "</table>\n",
       "</div>"
      ],
      "text/plain": [
       "                    id   cluster      prop\n",
       "0  Beauty_1_001_East_1  Beauty_1  0.000234\n",
       "1  Beauty_1_002_East_1  Beauty_1  0.000039\n",
       "2  Beauty_1_003_East_1  Beauty_1  0.000195\n",
       "3  Beauty_1_004_East_1  Beauty_1  0.000391\n",
       "4  Beauty_1_005_East_1  Beauty_1  0.000430"
      ]
     },
     "execution_count": 24,
     "metadata": {},
     "output_type": "execute_result"
    }
   ],
   "source": [
    "#get weekly sums for item and subcat\n",
    "subset_final_subcat['item_weekly_sales'] = pd.DataFrame(\n",
    "    subset_final_subcat.groupby('id')['sales'].transform('sum'))\n",
    "\n",
    "subset_final_subcat['subcat_weekly_sales'] = pd.DataFrame(subset_final_subcat.groupby(['cluster', 'id'])\n",
    "                                                       ['total_sales_in_cluster'].transform('sum'))\n",
    "#set distance\n",
    "subset_final_subcat['prop'] = subset_final_subcat['item_weekly_sales'] / subset_final_subcat['subcat_weekly_sales']\n",
    "\n",
    "subset_final_subcat = pd.DataFrame(subset_final_subcat[['id', 'cluster', 'prop']].drop_duplicates()).reset_index(drop = True)\n",
    "subset_final_subcat.head()"
   ]
  },
  {
   "cell_type": "code",
   "execution_count": 25,
   "id": "7c7c0d74",
   "metadata": {},
   "outputs": [
    {
     "data": {
      "text/html": [
       "<div>\n",
       "<style scoped>\n",
       "    .dataframe tbody tr th:only-of-type {\n",
       "        vertical-align: middle;\n",
       "    }\n",
       "\n",
       "    .dataframe tbody tr th {\n",
       "        vertical-align: top;\n",
       "    }\n",
       "\n",
       "    .dataframe thead th {\n",
       "        text-align: right;\n",
       "    }\n",
       "</style>\n",
       "<table border=\"1\" class=\"dataframe\">\n",
       "  <thead>\n",
       "    <tr style=\"text-align: right;\">\n",
       "      <th>d</th>\n",
       "      <th>cluster</th>\n",
       "      <th>1920</th>\n",
       "      <th>1921</th>\n",
       "      <th>1922</th>\n",
       "      <th>1923</th>\n",
       "      <th>1924</th>\n",
       "      <th>1925</th>\n",
       "      <th>1926</th>\n",
       "      <th>1927</th>\n",
       "      <th>1928</th>\n",
       "      <th>...</th>\n",
       "      <th>1931</th>\n",
       "      <th>1932</th>\n",
       "      <th>1933</th>\n",
       "      <th>1934</th>\n",
       "      <th>1935</th>\n",
       "      <th>1936</th>\n",
       "      <th>1937</th>\n",
       "      <th>1938</th>\n",
       "      <th>1939</th>\n",
       "      <th>1940</th>\n",
       "    </tr>\n",
       "  </thead>\n",
       "  <tbody>\n",
       "    <tr>\n",
       "      <th>0</th>\n",
       "      <td>Beauty_1</td>\n",
       "      <td>3161.154357</td>\n",
       "      <td>3110.379290</td>\n",
       "      <td>3019.283424</td>\n",
       "      <td>2889.054227</td>\n",
       "      <td>2755.689532</td>\n",
       "      <td>2614.601140</td>\n",
       "      <td>2509.217682</td>\n",
       "      <td>2577.455585</td>\n",
       "      <td>2662.579882</td>\n",
       "      <td>...</td>\n",
       "      <td>2612.973271</td>\n",
       "      <td>2553.652270</td>\n",
       "      <td>2647.018332</td>\n",
       "      <td>2747.542791</td>\n",
       "      <td>2850.017456</td>\n",
       "      <td>2850.071978</td>\n",
       "      <td>2855.665276</td>\n",
       "      <td>2777.317996</td>\n",
       "      <td>2570.330531</td>\n",
       "      <td>2664.197419</td>\n",
       "    </tr>\n",
       "    <tr>\n",
       "      <th>1</th>\n",
       "      <td>Beauty_2</td>\n",
       "      <td>574.904902</td>\n",
       "      <td>566.004432</td>\n",
       "      <td>558.099058</td>\n",
       "      <td>544.845788</td>\n",
       "      <td>539.884385</td>\n",
       "      <td>526.245925</td>\n",
       "      <td>507.490334</td>\n",
       "      <td>492.573564</td>\n",
       "      <td>477.928586</td>\n",
       "      <td>...</td>\n",
       "      <td>473.674840</td>\n",
       "      <td>467.247649</td>\n",
       "      <td>463.781402</td>\n",
       "      <td>461.720235</td>\n",
       "      <td>456.403622</td>\n",
       "      <td>450.921142</td>\n",
       "      <td>446.262146</td>\n",
       "      <td>439.897987</td>\n",
       "      <td>432.925520</td>\n",
       "      <td>425.768837</td>\n",
       "    </tr>\n",
       "    <tr>\n",
       "      <th>2</th>\n",
       "      <td>Cleaning_1</td>\n",
       "      <td>6326.256502</td>\n",
       "      <td>6483.918119</td>\n",
       "      <td>6982.354317</td>\n",
       "      <td>6638.457177</td>\n",
       "      <td>6221.076585</td>\n",
       "      <td>5105.952532</td>\n",
       "      <td>4953.155807</td>\n",
       "      <td>5079.810747</td>\n",
       "      <td>5249.124095</td>\n",
       "      <td>...</td>\n",
       "      <td>5676.726257</td>\n",
       "      <td>4683.588552</td>\n",
       "      <td>4818.111250</td>\n",
       "      <td>5410.883995</td>\n",
       "      <td>5963.000256</td>\n",
       "      <td>6233.697812</td>\n",
       "      <td>6540.722305</td>\n",
       "      <td>6178.950455</td>\n",
       "      <td>5113.790506</td>\n",
       "      <td>4914.104658</td>\n",
       "    </tr>\n",
       "    <tr>\n",
       "      <th>3</th>\n",
       "      <td>Cleaning_2</td>\n",
       "      <td>1508.820409</td>\n",
       "      <td>1570.162634</td>\n",
       "      <td>1613.745454</td>\n",
       "      <td>1564.423757</td>\n",
       "      <td>1532.633857</td>\n",
       "      <td>1246.466780</td>\n",
       "      <td>1249.477465</td>\n",
       "      <td>1289.319805</td>\n",
       "      <td>1295.794730</td>\n",
       "      <td>...</td>\n",
       "      <td>1488.235224</td>\n",
       "      <td>1285.108587</td>\n",
       "      <td>1349.597659</td>\n",
       "      <td>1425.020590</td>\n",
       "      <td>1505.099920</td>\n",
       "      <td>1552.578615</td>\n",
       "      <td>1629.490230</td>\n",
       "      <td>1531.286205</td>\n",
       "      <td>1309.801908</td>\n",
       "      <td>1314.346134</td>\n",
       "    </tr>\n",
       "    <tr>\n",
       "      <th>4</th>\n",
       "      <td>Food_1</td>\n",
       "      <td>2611.203265</td>\n",
       "      <td>2844.732685</td>\n",
       "      <td>2888.713610</td>\n",
       "      <td>2714.051904</td>\n",
       "      <td>2509.391478</td>\n",
       "      <td>2321.236094</td>\n",
       "      <td>2428.006640</td>\n",
       "      <td>2683.331532</td>\n",
       "      <td>2758.685986</td>\n",
       "      <td>...</td>\n",
       "      <td>2648.818221</td>\n",
       "      <td>2492.637663</td>\n",
       "      <td>2635.354633</td>\n",
       "      <td>2783.169403</td>\n",
       "      <td>2876.042969</td>\n",
       "      <td>2959.306799</td>\n",
       "      <td>2894.736788</td>\n",
       "      <td>2747.855581</td>\n",
       "      <td>2571.403654</td>\n",
       "      <td>2681.632738</td>\n",
       "    </tr>\n",
       "  </tbody>\n",
       "</table>\n",
       "<p>5 rows × 22 columns</p>\n",
       "</div>"
      ],
      "text/plain": [
       "d     cluster         1920         1921         1922         1923  \\\n",
       "0    Beauty_1  3161.154357  3110.379290  3019.283424  2889.054227   \n",
       "1    Beauty_2   574.904902   566.004432   558.099058   544.845788   \n",
       "2  Cleaning_1  6326.256502  6483.918119  6982.354317  6638.457177   \n",
       "3  Cleaning_2  1508.820409  1570.162634  1613.745454  1564.423757   \n",
       "4      Food_1  2611.203265  2844.732685  2888.713610  2714.051904   \n",
       "\n",
       "d         1924         1925         1926         1927         1928  ...  \\\n",
       "0  2755.689532  2614.601140  2509.217682  2577.455585  2662.579882  ...   \n",
       "1   539.884385   526.245925   507.490334   492.573564   477.928586  ...   \n",
       "2  6221.076585  5105.952532  4953.155807  5079.810747  5249.124095  ...   \n",
       "3  1532.633857  1246.466780  1249.477465  1289.319805  1295.794730  ...   \n",
       "4  2509.391478  2321.236094  2428.006640  2683.331532  2758.685986  ...   \n",
       "\n",
       "d         1931         1932         1933         1934         1935  \\\n",
       "0  2612.973271  2553.652270  2647.018332  2747.542791  2850.017456   \n",
       "1   473.674840   467.247649   463.781402   461.720235   456.403622   \n",
       "2  5676.726257  4683.588552  4818.111250  5410.883995  5963.000256   \n",
       "3  1488.235224  1285.108587  1349.597659  1425.020590  1505.099920   \n",
       "4  2648.818221  2492.637663  2635.354633  2783.169403  2876.042969   \n",
       "\n",
       "d         1936         1937         1938         1939         1940  \n",
       "0  2850.071978  2855.665276  2777.317996  2570.330531  2664.197419  \n",
       "1   450.921142   446.262146   439.897987   432.925520   425.768837  \n",
       "2  6233.697812  6540.722305  6178.950455  5113.790506  4914.104658  \n",
       "3  1552.578615  1629.490230  1531.286205  1309.801908  1314.346134  \n",
       "4  2959.306799  2894.736788  2747.855581  2571.403654  2681.632738  \n",
       "\n",
       "[5 rows x 22 columns]"
      ]
     },
     "execution_count": 25,
     "metadata": {},
     "output_type": "execute_result"
    }
   ],
   "source": [
    "#loading the predictions since we saved it as a csv in our function\n",
    "#formating the prediction df so we have 'cluster' and the prediction days as the column headers\n",
    "prediction_df_subcat = pd.read_csv('prediction_by_cluster.csv')\n",
    "prediction_df_subcat = prediction_df_subcat.drop(columns= 'Unnamed: 0')\n",
    "prediction_df_subcat['d'] = np.array(range(1920, 1941))\n",
    "prediction_df_subcat.set_index('d', inplace = True)\n",
    "prediction_df_subcat = prediction_df_subcat.T\n",
    "prediction_df_subcat = prediction_df_subcat.reset_index().rename(columns = {'index' : 'cluster'})\n",
    "prediction_df_subcat.head()"
   ]
  },
  {
   "cell_type": "code",
   "execution_count": 26,
   "id": "caa3e1ba",
   "metadata": {},
   "outputs": [
    {
     "data": {
      "text/html": [
       "<div>\n",
       "<style scoped>\n",
       "    .dataframe tbody tr th:only-of-type {\n",
       "        vertical-align: middle;\n",
       "    }\n",
       "\n",
       "    .dataframe tbody tr th {\n",
       "        vertical-align: top;\n",
       "    }\n",
       "\n",
       "    .dataframe thead th {\n",
       "        text-align: right;\n",
       "    }\n",
       "</style>\n",
       "<table border=\"1\" class=\"dataframe\">\n",
       "  <thead>\n",
       "    <tr style=\"text-align: right;\">\n",
       "      <th></th>\n",
       "      <th>id</th>\n",
       "      <th>cluster</th>\n",
       "      <th>prop</th>\n",
       "      <th>1920</th>\n",
       "      <th>1921</th>\n",
       "      <th>1922</th>\n",
       "      <th>1923</th>\n",
       "      <th>1924</th>\n",
       "      <th>1925</th>\n",
       "      <th>1926</th>\n",
       "      <th>...</th>\n",
       "      <th>1931</th>\n",
       "      <th>1932</th>\n",
       "      <th>1933</th>\n",
       "      <th>1934</th>\n",
       "      <th>1935</th>\n",
       "      <th>1936</th>\n",
       "      <th>1937</th>\n",
       "      <th>1938</th>\n",
       "      <th>1939</th>\n",
       "      <th>1940</th>\n",
       "    </tr>\n",
       "  </thead>\n",
       "  <tbody>\n",
       "    <tr>\n",
       "      <th>0</th>\n",
       "      <td>Beauty_1_001_East_1</td>\n",
       "      <td>Beauty_1</td>\n",
       "      <td>0.000234</td>\n",
       "      <td>1.0</td>\n",
       "      <td>1.0</td>\n",
       "      <td>1.0</td>\n",
       "      <td>1.0</td>\n",
       "      <td>1.0</td>\n",
       "      <td>1.0</td>\n",
       "      <td>1.0</td>\n",
       "      <td>...</td>\n",
       "      <td>1.0</td>\n",
       "      <td>1.0</td>\n",
       "      <td>1.0</td>\n",
       "      <td>1.0</td>\n",
       "      <td>1.0</td>\n",
       "      <td>1.0</td>\n",
       "      <td>1.0</td>\n",
       "      <td>1.0</td>\n",
       "      <td>1.0</td>\n",
       "      <td>1.0</td>\n",
       "    </tr>\n",
       "    <tr>\n",
       "      <th>1</th>\n",
       "      <td>Beauty_1_002_East_1</td>\n",
       "      <td>Beauty_1</td>\n",
       "      <td>0.000039</td>\n",
       "      <td>0.0</td>\n",
       "      <td>0.0</td>\n",
       "      <td>0.0</td>\n",
       "      <td>0.0</td>\n",
       "      <td>0.0</td>\n",
       "      <td>0.0</td>\n",
       "      <td>0.0</td>\n",
       "      <td>...</td>\n",
       "      <td>0.0</td>\n",
       "      <td>0.0</td>\n",
       "      <td>0.0</td>\n",
       "      <td>0.0</td>\n",
       "      <td>0.0</td>\n",
       "      <td>0.0</td>\n",
       "      <td>0.0</td>\n",
       "      <td>0.0</td>\n",
       "      <td>0.0</td>\n",
       "      <td>0.0</td>\n",
       "    </tr>\n",
       "    <tr>\n",
       "      <th>2</th>\n",
       "      <td>Beauty_1_003_East_1</td>\n",
       "      <td>Beauty_1</td>\n",
       "      <td>0.000195</td>\n",
       "      <td>1.0</td>\n",
       "      <td>1.0</td>\n",
       "      <td>1.0</td>\n",
       "      <td>1.0</td>\n",
       "      <td>1.0</td>\n",
       "      <td>1.0</td>\n",
       "      <td>0.0</td>\n",
       "      <td>...</td>\n",
       "      <td>1.0</td>\n",
       "      <td>0.0</td>\n",
       "      <td>1.0</td>\n",
       "      <td>1.0</td>\n",
       "      <td>1.0</td>\n",
       "      <td>1.0</td>\n",
       "      <td>1.0</td>\n",
       "      <td>1.0</td>\n",
       "      <td>1.0</td>\n",
       "      <td>1.0</td>\n",
       "    </tr>\n",
       "    <tr>\n",
       "      <th>3</th>\n",
       "      <td>Beauty_1_004_East_1</td>\n",
       "      <td>Beauty_1</td>\n",
       "      <td>0.000391</td>\n",
       "      <td>1.0</td>\n",
       "      <td>1.0</td>\n",
       "      <td>1.0</td>\n",
       "      <td>1.0</td>\n",
       "      <td>1.0</td>\n",
       "      <td>1.0</td>\n",
       "      <td>1.0</td>\n",
       "      <td>...</td>\n",
       "      <td>1.0</td>\n",
       "      <td>1.0</td>\n",
       "      <td>1.0</td>\n",
       "      <td>1.0</td>\n",
       "      <td>1.0</td>\n",
       "      <td>1.0</td>\n",
       "      <td>1.0</td>\n",
       "      <td>1.0</td>\n",
       "      <td>1.0</td>\n",
       "      <td>1.0</td>\n",
       "    </tr>\n",
       "    <tr>\n",
       "      <th>4</th>\n",
       "      <td>Beauty_1_005_East_1</td>\n",
       "      <td>Beauty_1</td>\n",
       "      <td>0.000430</td>\n",
       "      <td>1.0</td>\n",
       "      <td>1.0</td>\n",
       "      <td>1.0</td>\n",
       "      <td>1.0</td>\n",
       "      <td>1.0</td>\n",
       "      <td>1.0</td>\n",
       "      <td>1.0</td>\n",
       "      <td>...</td>\n",
       "      <td>1.0</td>\n",
       "      <td>1.0</td>\n",
       "      <td>1.0</td>\n",
       "      <td>1.0</td>\n",
       "      <td>1.0</td>\n",
       "      <td>1.0</td>\n",
       "      <td>1.0</td>\n",
       "      <td>1.0</td>\n",
       "      <td>1.0</td>\n",
       "      <td>1.0</td>\n",
       "    </tr>\n",
       "  </tbody>\n",
       "</table>\n",
       "<p>5 rows × 24 columns</p>\n",
       "</div>"
      ],
      "text/plain": [
       "                    id   cluster      prop  1920  1921  1922  1923  1924  \\\n",
       "0  Beauty_1_001_East_1  Beauty_1  0.000234   1.0   1.0   1.0   1.0   1.0   \n",
       "1  Beauty_1_002_East_1  Beauty_1  0.000039   0.0   0.0   0.0   0.0   0.0   \n",
       "2  Beauty_1_003_East_1  Beauty_1  0.000195   1.0   1.0   1.0   1.0   1.0   \n",
       "3  Beauty_1_004_East_1  Beauty_1  0.000391   1.0   1.0   1.0   1.0   1.0   \n",
       "4  Beauty_1_005_East_1  Beauty_1  0.000430   1.0   1.0   1.0   1.0   1.0   \n",
       "\n",
       "   1925  1926  ...  1931  1932  1933  1934  1935  1936  1937  1938  1939  1940  \n",
       "0   1.0   1.0  ...   1.0   1.0   1.0   1.0   1.0   1.0   1.0   1.0   1.0   1.0  \n",
       "1   0.0   0.0  ...   0.0   0.0   0.0   0.0   0.0   0.0   0.0   0.0   0.0   0.0  \n",
       "2   1.0   0.0  ...   1.0   0.0   1.0   1.0   1.0   1.0   1.0   1.0   1.0   1.0  \n",
       "3   1.0   1.0  ...   1.0   1.0   1.0   1.0   1.0   1.0   1.0   1.0   1.0   1.0  \n",
       "4   1.0   1.0  ...   1.0   1.0   1.0   1.0   1.0   1.0   1.0   1.0   1.0   1.0  \n",
       "\n",
       "[5 rows x 24 columns]"
      ]
     },
     "execution_count": 26,
     "metadata": {},
     "output_type": "execute_result"
    }
   ],
   "source": [
    "#merging so we have the distance/proportion and the cluster predictions for each item\n",
    "forecast_df = pd.merge(subset_final_subcat, prediction_df_subcat, on = 'cluster', how ='left')\n",
    "#taking into account the 'distance' between an item and its' natural cluster\n",
    "distance1(forecast_df)\n",
    "forecast_df.head()"
   ]
  },
  {
   "cell_type": "code",
   "execution_count": 27,
   "id": "2492fb27",
   "metadata": {},
   "outputs": [
    {
     "data": {
      "text/html": [
       "<div>\n",
       "<style scoped>\n",
       "    .dataframe tbody tr th:only-of-type {\n",
       "        vertical-align: middle;\n",
       "    }\n",
       "\n",
       "    .dataframe tbody tr th {\n",
       "        vertical-align: top;\n",
       "    }\n",
       "\n",
       "    .dataframe thead th {\n",
       "        text-align: right;\n",
       "    }\n",
       "</style>\n",
       "<table border=\"1\" class=\"dataframe\">\n",
       "  <thead>\n",
       "    <tr style=\"text-align: right;\">\n",
       "      <th></th>\n",
       "      <th>d_1920</th>\n",
       "      <th>d_1921</th>\n",
       "      <th>d_1922</th>\n",
       "      <th>d_1923</th>\n",
       "      <th>d_1924</th>\n",
       "      <th>d_1925</th>\n",
       "      <th>d_1926</th>\n",
       "      <th>d_1927</th>\n",
       "      <th>d_1928</th>\n",
       "      <th>d_1929</th>\n",
       "      <th>...</th>\n",
       "      <th>d_1931</th>\n",
       "      <th>d_1932</th>\n",
       "      <th>d_1933</th>\n",
       "      <th>d_1934</th>\n",
       "      <th>d_1935</th>\n",
       "      <th>d_1936</th>\n",
       "      <th>d_1937</th>\n",
       "      <th>d_1938</th>\n",
       "      <th>d_1939</th>\n",
       "      <th>d_1940</th>\n",
       "    </tr>\n",
       "    <tr>\n",
       "      <th>id</th>\n",
       "      <th></th>\n",
       "      <th></th>\n",
       "      <th></th>\n",
       "      <th></th>\n",
       "      <th></th>\n",
       "      <th></th>\n",
       "      <th></th>\n",
       "      <th></th>\n",
       "      <th></th>\n",
       "      <th></th>\n",
       "      <th></th>\n",
       "      <th></th>\n",
       "      <th></th>\n",
       "      <th></th>\n",
       "      <th></th>\n",
       "      <th></th>\n",
       "      <th></th>\n",
       "      <th></th>\n",
       "      <th></th>\n",
       "      <th></th>\n",
       "      <th></th>\n",
       "    </tr>\n",
       "  </thead>\n",
       "  <tbody>\n",
       "    <tr>\n",
       "      <th>Beauty_1_001_East_1</th>\n",
       "      <td>1.0</td>\n",
       "      <td>1.0</td>\n",
       "      <td>1.0</td>\n",
       "      <td>1.0</td>\n",
       "      <td>1.0</td>\n",
       "      <td>1.0</td>\n",
       "      <td>1.0</td>\n",
       "      <td>1.0</td>\n",
       "      <td>1.0</td>\n",
       "      <td>1.0</td>\n",
       "      <td>...</td>\n",
       "      <td>1.0</td>\n",
       "      <td>1.0</td>\n",
       "      <td>1.0</td>\n",
       "      <td>1.0</td>\n",
       "      <td>1.0</td>\n",
       "      <td>1.0</td>\n",
       "      <td>1.0</td>\n",
       "      <td>1.0</td>\n",
       "      <td>1.0</td>\n",
       "      <td>1.0</td>\n",
       "    </tr>\n",
       "    <tr>\n",
       "      <th>Beauty_1_002_East_1</th>\n",
       "      <td>0.0</td>\n",
       "      <td>0.0</td>\n",
       "      <td>0.0</td>\n",
       "      <td>0.0</td>\n",
       "      <td>0.0</td>\n",
       "      <td>0.0</td>\n",
       "      <td>0.0</td>\n",
       "      <td>0.0</td>\n",
       "      <td>0.0</td>\n",
       "      <td>0.0</td>\n",
       "      <td>...</td>\n",
       "      <td>0.0</td>\n",
       "      <td>0.0</td>\n",
       "      <td>0.0</td>\n",
       "      <td>0.0</td>\n",
       "      <td>0.0</td>\n",
       "      <td>0.0</td>\n",
       "      <td>0.0</td>\n",
       "      <td>0.0</td>\n",
       "      <td>0.0</td>\n",
       "      <td>0.0</td>\n",
       "    </tr>\n",
       "    <tr>\n",
       "      <th>Beauty_1_003_East_1</th>\n",
       "      <td>1.0</td>\n",
       "      <td>1.0</td>\n",
       "      <td>1.0</td>\n",
       "      <td>1.0</td>\n",
       "      <td>1.0</td>\n",
       "      <td>1.0</td>\n",
       "      <td>0.0</td>\n",
       "      <td>1.0</td>\n",
       "      <td>1.0</td>\n",
       "      <td>1.0</td>\n",
       "      <td>...</td>\n",
       "      <td>1.0</td>\n",
       "      <td>0.0</td>\n",
       "      <td>1.0</td>\n",
       "      <td>1.0</td>\n",
       "      <td>1.0</td>\n",
       "      <td>1.0</td>\n",
       "      <td>1.0</td>\n",
       "      <td>1.0</td>\n",
       "      <td>1.0</td>\n",
       "      <td>1.0</td>\n",
       "    </tr>\n",
       "    <tr>\n",
       "      <th>Beauty_1_004_East_1</th>\n",
       "      <td>1.0</td>\n",
       "      <td>1.0</td>\n",
       "      <td>1.0</td>\n",
       "      <td>1.0</td>\n",
       "      <td>1.0</td>\n",
       "      <td>1.0</td>\n",
       "      <td>1.0</td>\n",
       "      <td>1.0</td>\n",
       "      <td>1.0</td>\n",
       "      <td>1.0</td>\n",
       "      <td>...</td>\n",
       "      <td>1.0</td>\n",
       "      <td>1.0</td>\n",
       "      <td>1.0</td>\n",
       "      <td>1.0</td>\n",
       "      <td>1.0</td>\n",
       "      <td>1.0</td>\n",
       "      <td>1.0</td>\n",
       "      <td>1.0</td>\n",
       "      <td>1.0</td>\n",
       "      <td>1.0</td>\n",
       "    </tr>\n",
       "    <tr>\n",
       "      <th>Beauty_1_005_East_1</th>\n",
       "      <td>1.0</td>\n",
       "      <td>1.0</td>\n",
       "      <td>1.0</td>\n",
       "      <td>1.0</td>\n",
       "      <td>1.0</td>\n",
       "      <td>1.0</td>\n",
       "      <td>1.0</td>\n",
       "      <td>1.0</td>\n",
       "      <td>1.0</td>\n",
       "      <td>1.0</td>\n",
       "      <td>...</td>\n",
       "      <td>1.0</td>\n",
       "      <td>1.0</td>\n",
       "      <td>1.0</td>\n",
       "      <td>1.0</td>\n",
       "      <td>1.0</td>\n",
       "      <td>1.0</td>\n",
       "      <td>1.0</td>\n",
       "      <td>1.0</td>\n",
       "      <td>1.0</td>\n",
       "      <td>1.0</td>\n",
       "    </tr>\n",
       "  </tbody>\n",
       "</table>\n",
       "<p>5 rows × 21 columns</p>\n",
       "</div>"
      ],
      "text/plain": [
       "                     d_1920  d_1921  d_1922  d_1923  d_1924  d_1925  d_1926  \\\n",
       "id                                                                            \n",
       "Beauty_1_001_East_1     1.0     1.0     1.0     1.0     1.0     1.0     1.0   \n",
       "Beauty_1_002_East_1     0.0     0.0     0.0     0.0     0.0     0.0     0.0   \n",
       "Beauty_1_003_East_1     1.0     1.0     1.0     1.0     1.0     1.0     0.0   \n",
       "Beauty_1_004_East_1     1.0     1.0     1.0     1.0     1.0     1.0     1.0   \n",
       "Beauty_1_005_East_1     1.0     1.0     1.0     1.0     1.0     1.0     1.0   \n",
       "\n",
       "                     d_1927  d_1928  d_1929  ...  d_1931  d_1932  d_1933  \\\n",
       "id                                           ...                           \n",
       "Beauty_1_001_East_1     1.0     1.0     1.0  ...     1.0     1.0     1.0   \n",
       "Beauty_1_002_East_1     0.0     0.0     0.0  ...     0.0     0.0     0.0   \n",
       "Beauty_1_003_East_1     1.0     1.0     1.0  ...     1.0     0.0     1.0   \n",
       "Beauty_1_004_East_1     1.0     1.0     1.0  ...     1.0     1.0     1.0   \n",
       "Beauty_1_005_East_1     1.0     1.0     1.0  ...     1.0     1.0     1.0   \n",
       "\n",
       "                     d_1934  d_1935  d_1936  d_1937  d_1938  d_1939  d_1940  \n",
       "id                                                                           \n",
       "Beauty_1_001_East_1     1.0     1.0     1.0     1.0     1.0     1.0     1.0  \n",
       "Beauty_1_002_East_1     0.0     0.0     0.0     0.0     0.0     0.0     0.0  \n",
       "Beauty_1_003_East_1     1.0     1.0     1.0     1.0     1.0     1.0     1.0  \n",
       "Beauty_1_004_East_1     1.0     1.0     1.0     1.0     1.0     1.0     1.0  \n",
       "Beauty_1_005_East_1     1.0     1.0     1.0     1.0     1.0     1.0     1.0  \n",
       "\n",
       "[5 rows x 21 columns]"
      ]
     },
     "execution_count": 27,
     "metadata": {},
     "output_type": "execute_result"
    }
   ],
   "source": [
    "#preparing our forecast_df so we can submit on kaggle\n",
    "final = forecast_df.drop(columns=['cluster', 'prop'])\n",
    "final.set_index('id', inplace = True)\n",
    "final.columns = columns\n",
    "final.head()"
   ]
  },
  {
   "cell_type": "code",
   "execution_count": 28,
   "id": "d17a17a0",
   "metadata": {},
   "outputs": [],
   "source": [
    "#saving predictions to csv\n",
    "final.to_csv('subcat.csv')"
   ]
  },
  {
   "cell_type": "code",
   "execution_count": 64,
   "id": "247a3ef8",
   "metadata": {},
   "outputs": [
    {
     "data": {
      "text/plain": [
       "'Beauty_1_001_East_1'"
      ]
     },
     "execution_count": 64,
     "metadata": {},
     "output_type": "execute_result"
    }
   ],
   "source": [
    "#final = final.reset_index(drop = False)"
   ]
  },
  {
   "cell_type": "markdown",
   "id": "56578e56",
   "metadata": {},
   "source": [
    "#### Distance measure: sliding window"
   ]
  },
  {
   "cell_type": "code",
   "execution_count": 29,
   "id": "7357718d",
   "metadata": {},
   "outputs": [],
   "source": [
    "#forecasting using the 'rolling window' distance measure\n",
    "traincal_temp = traincal\n",
    "traincal_temp.rename(columns={\"subcat_id\":\"cluster\"}, inplace=True)"
   ]
  },
  {
   "cell_type": "code",
   "execution_count": 30,
   "id": "8590d3e9",
   "metadata": {},
   "outputs": [
    {
     "name": "stderr",
     "output_type": "stream",
     "text": [
      "/var/folders/hw/w8w6k5c51rd3yspr0zhn_6780000gn/T/ipykernel_73794/1612407262.py:10: SettingWithCopyWarning: \n",
      "A value is trying to be set on a copy of a slice from a DataFrame.\n",
      "Try using .loc[row_indexer,col_indexer] = value instead\n",
      "\n",
      "See the caveats in the documentation: https://pandas.pydata.org/pandas-docs/stable/user_guide/indexing.html#returning-a-view-versus-a-copy\n",
      "  train_temp['d'] = train_temp['d'].astype(int)\n",
      "/var/folders/hw/w8w6k5c51rd3yspr0zhn_6780000gn/T/ipykernel_73794/1612407262.py:15: FutureWarning: The default value of numeric_only in DataFrameGroupBy.sum is deprecated. In a future version, numeric_only will default to False. Either specify numeric_only or select only columns which should be valid for the function.\n",
      "  total_cluster_sales = temp.groupby([\"cluster\",\"d\"]).sum().reset_index().rename(columns={'sales':'total_cluster_sales'})\n",
      "/var/folders/hw/w8w6k5c51rd3yspr0zhn_6780000gn/T/ipykernel_73794/1612407262.py:31: FutureWarning: The frame.append method is deprecated and will be removed from pandas in a future version. Use pandas.concat instead.\n",
      "  train_temp = train_temp.append(preds_for_day)\n"
     ]
    },
    {
     "name": "stdout",
     "output_type": "stream",
     "text": [
      "Prediction made for day: 1920\n"
     ]
    },
    {
     "name": "stderr",
     "output_type": "stream",
     "text": [
      "/var/folders/hw/w8w6k5c51rd3yspr0zhn_6780000gn/T/ipykernel_73794/1612407262.py:15: FutureWarning: The default value of numeric_only in DataFrameGroupBy.sum is deprecated. In a future version, numeric_only will default to False. Either specify numeric_only or select only columns which should be valid for the function.\n",
      "  total_cluster_sales = temp.groupby([\"cluster\",\"d\"]).sum().reset_index().rename(columns={'sales':'total_cluster_sales'})\n",
      "/var/folders/hw/w8w6k5c51rd3yspr0zhn_6780000gn/T/ipykernel_73794/1612407262.py:31: FutureWarning: The frame.append method is deprecated and will be removed from pandas in a future version. Use pandas.concat instead.\n",
      "  train_temp = train_temp.append(preds_for_day)\n"
     ]
    },
    {
     "name": "stdout",
     "output_type": "stream",
     "text": [
      "Prediction made for day: 1921\n"
     ]
    },
    {
     "name": "stderr",
     "output_type": "stream",
     "text": [
      "/var/folders/hw/w8w6k5c51rd3yspr0zhn_6780000gn/T/ipykernel_73794/1612407262.py:15: FutureWarning: The default value of numeric_only in DataFrameGroupBy.sum is deprecated. In a future version, numeric_only will default to False. Either specify numeric_only or select only columns which should be valid for the function.\n",
      "  total_cluster_sales = temp.groupby([\"cluster\",\"d\"]).sum().reset_index().rename(columns={'sales':'total_cluster_sales'})\n",
      "/var/folders/hw/w8w6k5c51rd3yspr0zhn_6780000gn/T/ipykernel_73794/1612407262.py:31: FutureWarning: The frame.append method is deprecated and will be removed from pandas in a future version. Use pandas.concat instead.\n",
      "  train_temp = train_temp.append(preds_for_day)\n"
     ]
    },
    {
     "name": "stdout",
     "output_type": "stream",
     "text": [
      "Prediction made for day: 1922\n"
     ]
    },
    {
     "name": "stderr",
     "output_type": "stream",
     "text": [
      "/var/folders/hw/w8w6k5c51rd3yspr0zhn_6780000gn/T/ipykernel_73794/1612407262.py:15: FutureWarning: The default value of numeric_only in DataFrameGroupBy.sum is deprecated. In a future version, numeric_only will default to False. Either specify numeric_only or select only columns which should be valid for the function.\n",
      "  total_cluster_sales = temp.groupby([\"cluster\",\"d\"]).sum().reset_index().rename(columns={'sales':'total_cluster_sales'})\n",
      "/var/folders/hw/w8w6k5c51rd3yspr0zhn_6780000gn/T/ipykernel_73794/1612407262.py:31: FutureWarning: The frame.append method is deprecated and will be removed from pandas in a future version. Use pandas.concat instead.\n",
      "  train_temp = train_temp.append(preds_for_day)\n"
     ]
    },
    {
     "name": "stdout",
     "output_type": "stream",
     "text": [
      "Prediction made for day: 1923\n"
     ]
    },
    {
     "name": "stderr",
     "output_type": "stream",
     "text": [
      "/var/folders/hw/w8w6k5c51rd3yspr0zhn_6780000gn/T/ipykernel_73794/1612407262.py:15: FutureWarning: The default value of numeric_only in DataFrameGroupBy.sum is deprecated. In a future version, numeric_only will default to False. Either specify numeric_only or select only columns which should be valid for the function.\n",
      "  total_cluster_sales = temp.groupby([\"cluster\",\"d\"]).sum().reset_index().rename(columns={'sales':'total_cluster_sales'})\n",
      "/var/folders/hw/w8w6k5c51rd3yspr0zhn_6780000gn/T/ipykernel_73794/1612407262.py:31: FutureWarning: The frame.append method is deprecated and will be removed from pandas in a future version. Use pandas.concat instead.\n",
      "  train_temp = train_temp.append(preds_for_day)\n"
     ]
    },
    {
     "name": "stdout",
     "output_type": "stream",
     "text": [
      "Prediction made for day: 1924\n"
     ]
    },
    {
     "name": "stderr",
     "output_type": "stream",
     "text": [
      "/var/folders/hw/w8w6k5c51rd3yspr0zhn_6780000gn/T/ipykernel_73794/1612407262.py:15: FutureWarning: The default value of numeric_only in DataFrameGroupBy.sum is deprecated. In a future version, numeric_only will default to False. Either specify numeric_only or select only columns which should be valid for the function.\n",
      "  total_cluster_sales = temp.groupby([\"cluster\",\"d\"]).sum().reset_index().rename(columns={'sales':'total_cluster_sales'})\n",
      "/var/folders/hw/w8w6k5c51rd3yspr0zhn_6780000gn/T/ipykernel_73794/1612407262.py:31: FutureWarning: The frame.append method is deprecated and will be removed from pandas in a future version. Use pandas.concat instead.\n",
      "  train_temp = train_temp.append(preds_for_day)\n"
     ]
    },
    {
     "name": "stdout",
     "output_type": "stream",
     "text": [
      "Prediction made for day: 1925\n"
     ]
    },
    {
     "name": "stderr",
     "output_type": "stream",
     "text": [
      "/var/folders/hw/w8w6k5c51rd3yspr0zhn_6780000gn/T/ipykernel_73794/1612407262.py:15: FutureWarning: The default value of numeric_only in DataFrameGroupBy.sum is deprecated. In a future version, numeric_only will default to False. Either specify numeric_only or select only columns which should be valid for the function.\n",
      "  total_cluster_sales = temp.groupby([\"cluster\",\"d\"]).sum().reset_index().rename(columns={'sales':'total_cluster_sales'})\n",
      "/var/folders/hw/w8w6k5c51rd3yspr0zhn_6780000gn/T/ipykernel_73794/1612407262.py:31: FutureWarning: The frame.append method is deprecated and will be removed from pandas in a future version. Use pandas.concat instead.\n",
      "  train_temp = train_temp.append(preds_for_day)\n"
     ]
    },
    {
     "name": "stdout",
     "output_type": "stream",
     "text": [
      "Prediction made for day: 1926\n"
     ]
    },
    {
     "name": "stderr",
     "output_type": "stream",
     "text": [
      "/var/folders/hw/w8w6k5c51rd3yspr0zhn_6780000gn/T/ipykernel_73794/1612407262.py:15: FutureWarning: The default value of numeric_only in DataFrameGroupBy.sum is deprecated. In a future version, numeric_only will default to False. Either specify numeric_only or select only columns which should be valid for the function.\n",
      "  total_cluster_sales = temp.groupby([\"cluster\",\"d\"]).sum().reset_index().rename(columns={'sales':'total_cluster_sales'})\n",
      "/var/folders/hw/w8w6k5c51rd3yspr0zhn_6780000gn/T/ipykernel_73794/1612407262.py:31: FutureWarning: The frame.append method is deprecated and will be removed from pandas in a future version. Use pandas.concat instead.\n",
      "  train_temp = train_temp.append(preds_for_day)\n"
     ]
    },
    {
     "name": "stdout",
     "output_type": "stream",
     "text": [
      "Prediction made for day: 1927\n"
     ]
    },
    {
     "name": "stderr",
     "output_type": "stream",
     "text": [
      "/var/folders/hw/w8w6k5c51rd3yspr0zhn_6780000gn/T/ipykernel_73794/1612407262.py:15: FutureWarning: The default value of numeric_only in DataFrameGroupBy.sum is deprecated. In a future version, numeric_only will default to False. Either specify numeric_only or select only columns which should be valid for the function.\n",
      "  total_cluster_sales = temp.groupby([\"cluster\",\"d\"]).sum().reset_index().rename(columns={'sales':'total_cluster_sales'})\n",
      "/var/folders/hw/w8w6k5c51rd3yspr0zhn_6780000gn/T/ipykernel_73794/1612407262.py:31: FutureWarning: The frame.append method is deprecated and will be removed from pandas in a future version. Use pandas.concat instead.\n",
      "  train_temp = train_temp.append(preds_for_day)\n"
     ]
    },
    {
     "name": "stdout",
     "output_type": "stream",
     "text": [
      "Prediction made for day: 1928\n"
     ]
    },
    {
     "name": "stderr",
     "output_type": "stream",
     "text": [
      "/var/folders/hw/w8w6k5c51rd3yspr0zhn_6780000gn/T/ipykernel_73794/1612407262.py:15: FutureWarning: The default value of numeric_only in DataFrameGroupBy.sum is deprecated. In a future version, numeric_only will default to False. Either specify numeric_only or select only columns which should be valid for the function.\n",
      "  total_cluster_sales = temp.groupby([\"cluster\",\"d\"]).sum().reset_index().rename(columns={'sales':'total_cluster_sales'})\n",
      "/var/folders/hw/w8w6k5c51rd3yspr0zhn_6780000gn/T/ipykernel_73794/1612407262.py:31: FutureWarning: The frame.append method is deprecated and will be removed from pandas in a future version. Use pandas.concat instead.\n",
      "  train_temp = train_temp.append(preds_for_day)\n"
     ]
    },
    {
     "name": "stdout",
     "output_type": "stream",
     "text": [
      "Prediction made for day: 1929\n"
     ]
    },
    {
     "name": "stderr",
     "output_type": "stream",
     "text": [
      "/var/folders/hw/w8w6k5c51rd3yspr0zhn_6780000gn/T/ipykernel_73794/1612407262.py:15: FutureWarning: The default value of numeric_only in DataFrameGroupBy.sum is deprecated. In a future version, numeric_only will default to False. Either specify numeric_only or select only columns which should be valid for the function.\n",
      "  total_cluster_sales = temp.groupby([\"cluster\",\"d\"]).sum().reset_index().rename(columns={'sales':'total_cluster_sales'})\n",
      "/var/folders/hw/w8w6k5c51rd3yspr0zhn_6780000gn/T/ipykernel_73794/1612407262.py:31: FutureWarning: The frame.append method is deprecated and will be removed from pandas in a future version. Use pandas.concat instead.\n",
      "  train_temp = train_temp.append(preds_for_day)\n"
     ]
    },
    {
     "name": "stdout",
     "output_type": "stream",
     "text": [
      "Prediction made for day: 1930\n"
     ]
    },
    {
     "name": "stderr",
     "output_type": "stream",
     "text": [
      "/var/folders/hw/w8w6k5c51rd3yspr0zhn_6780000gn/T/ipykernel_73794/1612407262.py:15: FutureWarning: The default value of numeric_only in DataFrameGroupBy.sum is deprecated. In a future version, numeric_only will default to False. Either specify numeric_only or select only columns which should be valid for the function.\n",
      "  total_cluster_sales = temp.groupby([\"cluster\",\"d\"]).sum().reset_index().rename(columns={'sales':'total_cluster_sales'})\n",
      "/var/folders/hw/w8w6k5c51rd3yspr0zhn_6780000gn/T/ipykernel_73794/1612407262.py:31: FutureWarning: The frame.append method is deprecated and will be removed from pandas in a future version. Use pandas.concat instead.\n",
      "  train_temp = train_temp.append(preds_for_day)\n"
     ]
    },
    {
     "name": "stdout",
     "output_type": "stream",
     "text": [
      "Prediction made for day: 1931\n"
     ]
    },
    {
     "name": "stderr",
     "output_type": "stream",
     "text": [
      "/var/folders/hw/w8w6k5c51rd3yspr0zhn_6780000gn/T/ipykernel_73794/1612407262.py:15: FutureWarning: The default value of numeric_only in DataFrameGroupBy.sum is deprecated. In a future version, numeric_only will default to False. Either specify numeric_only or select only columns which should be valid for the function.\n",
      "  total_cluster_sales = temp.groupby([\"cluster\",\"d\"]).sum().reset_index().rename(columns={'sales':'total_cluster_sales'})\n",
      "/var/folders/hw/w8w6k5c51rd3yspr0zhn_6780000gn/T/ipykernel_73794/1612407262.py:31: FutureWarning: The frame.append method is deprecated and will be removed from pandas in a future version. Use pandas.concat instead.\n",
      "  train_temp = train_temp.append(preds_for_day)\n"
     ]
    },
    {
     "name": "stdout",
     "output_type": "stream",
     "text": [
      "Prediction made for day: 1932\n"
     ]
    },
    {
     "name": "stderr",
     "output_type": "stream",
     "text": [
      "/var/folders/hw/w8w6k5c51rd3yspr0zhn_6780000gn/T/ipykernel_73794/1612407262.py:15: FutureWarning: The default value of numeric_only in DataFrameGroupBy.sum is deprecated. In a future version, numeric_only will default to False. Either specify numeric_only or select only columns which should be valid for the function.\n",
      "  total_cluster_sales = temp.groupby([\"cluster\",\"d\"]).sum().reset_index().rename(columns={'sales':'total_cluster_sales'})\n",
      "/var/folders/hw/w8w6k5c51rd3yspr0zhn_6780000gn/T/ipykernel_73794/1612407262.py:31: FutureWarning: The frame.append method is deprecated and will be removed from pandas in a future version. Use pandas.concat instead.\n",
      "  train_temp = train_temp.append(preds_for_day)\n"
     ]
    },
    {
     "name": "stdout",
     "output_type": "stream",
     "text": [
      "Prediction made for day: 1933\n"
     ]
    },
    {
     "name": "stderr",
     "output_type": "stream",
     "text": [
      "/var/folders/hw/w8w6k5c51rd3yspr0zhn_6780000gn/T/ipykernel_73794/1612407262.py:15: FutureWarning: The default value of numeric_only in DataFrameGroupBy.sum is deprecated. In a future version, numeric_only will default to False. Either specify numeric_only or select only columns which should be valid for the function.\n",
      "  total_cluster_sales = temp.groupby([\"cluster\",\"d\"]).sum().reset_index().rename(columns={'sales':'total_cluster_sales'})\n",
      "/var/folders/hw/w8w6k5c51rd3yspr0zhn_6780000gn/T/ipykernel_73794/1612407262.py:31: FutureWarning: The frame.append method is deprecated and will be removed from pandas in a future version. Use pandas.concat instead.\n",
      "  train_temp = train_temp.append(preds_for_day)\n"
     ]
    },
    {
     "name": "stdout",
     "output_type": "stream",
     "text": [
      "Prediction made for day: 1934\n"
     ]
    },
    {
     "name": "stderr",
     "output_type": "stream",
     "text": [
      "/var/folders/hw/w8w6k5c51rd3yspr0zhn_6780000gn/T/ipykernel_73794/1612407262.py:15: FutureWarning: The default value of numeric_only in DataFrameGroupBy.sum is deprecated. In a future version, numeric_only will default to False. Either specify numeric_only or select only columns which should be valid for the function.\n",
      "  total_cluster_sales = temp.groupby([\"cluster\",\"d\"]).sum().reset_index().rename(columns={'sales':'total_cluster_sales'})\n",
      "/var/folders/hw/w8w6k5c51rd3yspr0zhn_6780000gn/T/ipykernel_73794/1612407262.py:31: FutureWarning: The frame.append method is deprecated and will be removed from pandas in a future version. Use pandas.concat instead.\n",
      "  train_temp = train_temp.append(preds_for_day)\n"
     ]
    },
    {
     "name": "stdout",
     "output_type": "stream",
     "text": [
      "Prediction made for day: 1935\n"
     ]
    },
    {
     "name": "stderr",
     "output_type": "stream",
     "text": [
      "/var/folders/hw/w8w6k5c51rd3yspr0zhn_6780000gn/T/ipykernel_73794/1612407262.py:15: FutureWarning: The default value of numeric_only in DataFrameGroupBy.sum is deprecated. In a future version, numeric_only will default to False. Either specify numeric_only or select only columns which should be valid for the function.\n",
      "  total_cluster_sales = temp.groupby([\"cluster\",\"d\"]).sum().reset_index().rename(columns={'sales':'total_cluster_sales'})\n",
      "/var/folders/hw/w8w6k5c51rd3yspr0zhn_6780000gn/T/ipykernel_73794/1612407262.py:31: FutureWarning: The frame.append method is deprecated and will be removed from pandas in a future version. Use pandas.concat instead.\n",
      "  train_temp = train_temp.append(preds_for_day)\n"
     ]
    },
    {
     "name": "stdout",
     "output_type": "stream",
     "text": [
      "Prediction made for day: 1936\n"
     ]
    },
    {
     "name": "stderr",
     "output_type": "stream",
     "text": [
      "/var/folders/hw/w8w6k5c51rd3yspr0zhn_6780000gn/T/ipykernel_73794/1612407262.py:15: FutureWarning: The default value of numeric_only in DataFrameGroupBy.sum is deprecated. In a future version, numeric_only will default to False. Either specify numeric_only or select only columns which should be valid for the function.\n",
      "  total_cluster_sales = temp.groupby([\"cluster\",\"d\"]).sum().reset_index().rename(columns={'sales':'total_cluster_sales'})\n",
      "/var/folders/hw/w8w6k5c51rd3yspr0zhn_6780000gn/T/ipykernel_73794/1612407262.py:31: FutureWarning: The frame.append method is deprecated and will be removed from pandas in a future version. Use pandas.concat instead.\n",
      "  train_temp = train_temp.append(preds_for_day)\n"
     ]
    },
    {
     "name": "stdout",
     "output_type": "stream",
     "text": [
      "Prediction made for day: 1937\n"
     ]
    },
    {
     "name": "stderr",
     "output_type": "stream",
     "text": [
      "/var/folders/hw/w8w6k5c51rd3yspr0zhn_6780000gn/T/ipykernel_73794/1612407262.py:15: FutureWarning: The default value of numeric_only in DataFrameGroupBy.sum is deprecated. In a future version, numeric_only will default to False. Either specify numeric_only or select only columns which should be valid for the function.\n",
      "  total_cluster_sales = temp.groupby([\"cluster\",\"d\"]).sum().reset_index().rename(columns={'sales':'total_cluster_sales'})\n",
      "/var/folders/hw/w8w6k5c51rd3yspr0zhn_6780000gn/T/ipykernel_73794/1612407262.py:31: FutureWarning: The frame.append method is deprecated and will be removed from pandas in a future version. Use pandas.concat instead.\n",
      "  train_temp = train_temp.append(preds_for_day)\n"
     ]
    },
    {
     "name": "stdout",
     "output_type": "stream",
     "text": [
      "Prediction made for day: 1938\n"
     ]
    },
    {
     "name": "stderr",
     "output_type": "stream",
     "text": [
      "/var/folders/hw/w8w6k5c51rd3yspr0zhn_6780000gn/T/ipykernel_73794/1612407262.py:15: FutureWarning: The default value of numeric_only in DataFrameGroupBy.sum is deprecated. In a future version, numeric_only will default to False. Either specify numeric_only or select only columns which should be valid for the function.\n",
      "  total_cluster_sales = temp.groupby([\"cluster\",\"d\"]).sum().reset_index().rename(columns={'sales':'total_cluster_sales'})\n",
      "/var/folders/hw/w8w6k5c51rd3yspr0zhn_6780000gn/T/ipykernel_73794/1612407262.py:31: FutureWarning: The frame.append method is deprecated and will be removed from pandas in a future version. Use pandas.concat instead.\n",
      "  train_temp = train_temp.append(preds_for_day)\n"
     ]
    },
    {
     "name": "stdout",
     "output_type": "stream",
     "text": [
      "Prediction made for day: 1939\n"
     ]
    },
    {
     "name": "stderr",
     "output_type": "stream",
     "text": [
      "/var/folders/hw/w8w6k5c51rd3yspr0zhn_6780000gn/T/ipykernel_73794/1612407262.py:15: FutureWarning: The default value of numeric_only in DataFrameGroupBy.sum is deprecated. In a future version, numeric_only will default to False. Either specify numeric_only or select only columns which should be valid for the function.\n",
      "  total_cluster_sales = temp.groupby([\"cluster\",\"d\"]).sum().reset_index().rename(columns={'sales':'total_cluster_sales'})\n",
      "/var/folders/hw/w8w6k5c51rd3yspr0zhn_6780000gn/T/ipykernel_73794/1612407262.py:31: FutureWarning: The frame.append method is deprecated and will be removed from pandas in a future version. Use pandas.concat instead.\n",
      "  train_temp = train_temp.append(preds_for_day)\n"
     ]
    },
    {
     "name": "stdout",
     "output_type": "stream",
     "text": [
      "Prediction made for day: 1940\n"
     ]
    }
   ],
   "source": [
    "prediction_w_rolling_prop_subcat = rolling_window(traincal_temp, prediction_df_subcat)"
   ]
  },
  {
   "cell_type": "code",
   "execution_count": 31,
   "id": "409369ab",
   "metadata": {},
   "outputs": [],
   "source": [
    "#cleaning the formatting of the predictions so we can submit on kaggle\n",
    "columns = ['d_1920', 'd_1921','d_1922','d_1923', 'd_1924', 'd_1925','d_1926','d_1927','d_1928','d_1929','d_1930',\n",
    "             'd_1931','d_1932','d_1933','d_1934','d_1935','d_1936','d_1937','d_1938','d_1939','d_1940']\n",
    "prediction_w_rolling_prop_subcat.columns = columns\n",
    "prediction_w_rolling_prop_subcat = prediction_w_rolling_prop_subcat.set_index(train['id'])"
   ]
  },
  {
   "cell_type": "code",
   "execution_count": 32,
   "id": "3a4bf202",
   "metadata": {},
   "outputs": [],
   "source": [
    "#saving the rolling window predictions to csv\n",
    "prediction_w_rolling_prop_subcat.to_csv(\"subcat_rolling_predictions.csv\")"
   ]
  },
  {
   "cell_type": "markdown",
   "id": "3528ee3f",
   "metadata": {},
   "source": [
    "#### Visualizing Our Best Model \n",
    "***(Clusters based on subcategory using the sliding window distance measure)***\n",
    "\n",
    "We visualize how our model performs by setting our test dataset to the last 21 days of our original train dataset."
   ]
  },
  {
   "cell_type": "code",
   "execution_count": 33,
   "id": "52c32326",
   "metadata": {},
   "outputs": [
    {
     "data": {
      "text/html": [
       "<div>\n",
       "<style scoped>\n",
       "    .dataframe tbody tr th:only-of-type {\n",
       "        vertical-align: middle;\n",
       "    }\n",
       "\n",
       "    .dataframe tbody tr th {\n",
       "        vertical-align: top;\n",
       "    }\n",
       "\n",
       "    .dataframe thead th {\n",
       "        text-align: right;\n",
       "    }\n",
       "</style>\n",
       "<table border=\"1\" class=\"dataframe\">\n",
       "  <thead>\n",
       "    <tr style=\"text-align: right;\">\n",
       "      <th></th>\n",
       "      <th>cluster</th>\n",
       "      <th>date</th>\n",
       "      <th>total_sales_in_cluster</th>\n",
       "    </tr>\n",
       "  </thead>\n",
       "  <tbody>\n",
       "    <tr>\n",
       "      <th>0</th>\n",
       "      <td>Beauty_1</td>\n",
       "      <td>2011-01-29</td>\n",
       "      <td>3610</td>\n",
       "    </tr>\n",
       "    <tr>\n",
       "      <th>1</th>\n",
       "      <td>Beauty_1</td>\n",
       "      <td>2011-01-30</td>\n",
       "      <td>3172</td>\n",
       "    </tr>\n",
       "    <tr>\n",
       "      <th>2</th>\n",
       "      <td>Beauty_1</td>\n",
       "      <td>2011-01-31</td>\n",
       "      <td>2497</td>\n",
       "    </tr>\n",
       "    <tr>\n",
       "      <th>3</th>\n",
       "      <td>Beauty_1</td>\n",
       "      <td>2011-02-01</td>\n",
       "      <td>2531</td>\n",
       "    </tr>\n",
       "    <tr>\n",
       "      <th>4</th>\n",
       "      <td>Beauty_1</td>\n",
       "      <td>2011-02-02</td>\n",
       "      <td>1714</td>\n",
       "    </tr>\n",
       "  </tbody>\n",
       "</table>\n",
       "</div>"
      ],
      "text/plain": [
       "    cluster       date  total_sales_in_cluster\n",
       "0  Beauty_1 2011-01-29                    3610\n",
       "1  Beauty_1 2011-01-30                    3172\n",
       "2  Beauty_1 2011-01-31                    2497\n",
       "3  Beauty_1 2011-02-01                    2531\n",
       "4  Beauty_1 2011-02-02                    1714"
      ]
     },
     "execution_count": 33,
     "metadata": {},
     "output_type": "execute_result"
    }
   ],
   "source": [
    "test_subcat = total_sales_by_subcat_id[total_sales_by_subcat_id[\"date\"] < \"2016/04/10\"]\n",
    "test_subcat.head()"
   ]
  },
  {
   "cell_type": "code",
   "execution_count": 34,
   "id": "ab7e54dc",
   "metadata": {
    "scrolled": true
   },
   "outputs": [
    {
     "name": "stderr",
     "output_type": "stream",
     "text": [
      "/var/folders/hw/w8w6k5c51rd3yspr0zhn_6780000gn/T/ipykernel_73794/608062368.py:9: FutureWarning: The default value of numeric_only in DataFrameGroupBy.mean is deprecated. In a future version, numeric_only will default to False. Either specify numeric_only or select only columns which should be valid for the function.\n",
      "  temp = temp.groupby('date').mean()['total_sales_in_cluster']\n",
      "/var/folders/hw/w8w6k5c51rd3yspr0zhn_6780000gn/T/ipykernel_73794/608062368.py:25: RuntimeWarning: divide by zero encountered in divide\n",
      "  mape = abs((test - test_pred)/test).mean()\n",
      "/var/folders/hw/w8w6k5c51rd3yspr0zhn_6780000gn/T/ipykernel_73794/608062368.py:9: FutureWarning: The default value of numeric_only in DataFrameGroupBy.mean is deprecated. In a future version, numeric_only will default to False. Either specify numeric_only or select only columns which should be valid for the function.\n",
      "  temp = temp.groupby('date').mean()['total_sales_in_cluster']\n"
     ]
    },
    {
     "name": "stdout",
     "output_type": "stream",
     "text": [
      "Cluster: Beauty_1 is predicted\n"
     ]
    },
    {
     "name": "stderr",
     "output_type": "stream",
     "text": [
      "/var/folders/hw/w8w6k5c51rd3yspr0zhn_6780000gn/T/ipykernel_73794/608062368.py:25: RuntimeWarning: divide by zero encountered in divide\n",
      "  mape = abs((test - test_pred)/test).mean()\n",
      "/var/folders/hw/w8w6k5c51rd3yspr0zhn_6780000gn/T/ipykernel_73794/608062368.py:9: FutureWarning: The default value of numeric_only in DataFrameGroupBy.mean is deprecated. In a future version, numeric_only will default to False. Either specify numeric_only or select only columns which should be valid for the function.\n",
      "  temp = temp.groupby('date').mean()['total_sales_in_cluster']\n"
     ]
    },
    {
     "name": "stdout",
     "output_type": "stream",
     "text": [
      "Cluster: Beauty_2 is predicted\n"
     ]
    },
    {
     "name": "stderr",
     "output_type": "stream",
     "text": [
      "/var/folders/hw/w8w6k5c51rd3yspr0zhn_6780000gn/T/ipykernel_73794/608062368.py:25: RuntimeWarning: divide by zero encountered in divide\n",
      "  mape = abs((test - test_pred)/test).mean()\n",
      "/var/folders/hw/w8w6k5c51rd3yspr0zhn_6780000gn/T/ipykernel_73794/608062368.py:9: FutureWarning: The default value of numeric_only in DataFrameGroupBy.mean is deprecated. In a future version, numeric_only will default to False. Either specify numeric_only or select only columns which should be valid for the function.\n",
      "  temp = temp.groupby('date').mean()['total_sales_in_cluster']\n"
     ]
    },
    {
     "name": "stdout",
     "output_type": "stream",
     "text": [
      "Cluster: Cleaning_1 is predicted\n",
      "Cluster: Cleaning_2 is predicted\n"
     ]
    },
    {
     "name": "stderr",
     "output_type": "stream",
     "text": [
      "/var/folders/hw/w8w6k5c51rd3yspr0zhn_6780000gn/T/ipykernel_73794/608062368.py:9: FutureWarning: The default value of numeric_only in DataFrameGroupBy.mean is deprecated. In a future version, numeric_only will default to False. Either specify numeric_only or select only columns which should be valid for the function.\n",
      "  temp = temp.groupby('date').mean()['total_sales_in_cluster']\n"
     ]
    },
    {
     "name": "stdout",
     "output_type": "stream",
     "text": [
      "Cluster: Food_1 is predicted\n"
     ]
    },
    {
     "name": "stderr",
     "output_type": "stream",
     "text": [
      "/var/folders/hw/w8w6k5c51rd3yspr0zhn_6780000gn/T/ipykernel_73794/608062368.py:9: FutureWarning: The default value of numeric_only in DataFrameGroupBy.mean is deprecated. In a future version, numeric_only will default to False. Either specify numeric_only or select only columns which should be valid for the function.\n",
      "  temp = temp.groupby('date').mean()['total_sales_in_cluster']\n",
      "/var/folders/hw/w8w6k5c51rd3yspr0zhn_6780000gn/T/ipykernel_73794/608062368.py:25: RuntimeWarning: divide by zero encountered in divide\n",
      "  mape = abs((test - test_pred)/test).mean()\n",
      "/var/folders/hw/w8w6k5c51rd3yspr0zhn_6780000gn/T/ipykernel_73794/608062368.py:9: FutureWarning: The default value of numeric_only in DataFrameGroupBy.mean is deprecated. In a future version, numeric_only will default to False. Either specify numeric_only or select only columns which should be valid for the function.\n",
      "  temp = temp.groupby('date').mean()['total_sales_in_cluster']\n"
     ]
    },
    {
     "name": "stdout",
     "output_type": "stream",
     "text": [
      "Cluster: Food_2 is predicted\n",
      "Cluster: Food_3 is predicted\n",
      "rmse: 10145.268109956312 mae: 7998.099433336997 mape: inf\n"
     ]
    }
   ],
   "source": [
    "forecast_cluster(test_subcat, 'final_model_test')"
   ]
  },
  {
   "cell_type": "code",
   "execution_count": 35,
   "id": "d26ccfb9",
   "metadata": {},
   "outputs": [],
   "source": [
    "#assuming the prediction_df has been cleaned\n",
    "#train_df should be traincal\n",
    "def rolling_window_test(train_df, prediction_df):\n",
    "    \"\"\"\n",
    "    train_df is traincal with the natural cluster of interest column name renamed to be 'cluster'\n",
    "    prediction_df has cluster name and prediction days as the columns\n",
    "    \"\"\"\n",
    "    prediction = pd.DataFrame()\n",
    "    train_temp = train_df[['id', 'd', 'cluster', 'sales']]\n",
    "    train_temp['d'] = train_temp['d'].astype(int)\n",
    "    \n",
    "    for day in np.array(range(1899, 1920)):\n",
    "        temp = train_temp[train_temp['d'] >= day-7]\n",
    "        \n",
    "        total_cluster_sales = temp.groupby([\"cluster\",\"d\"]).sum().reset_index().rename(columns={'sales':'total_cluster_sales'})\n",
    "    \n",
    "        merged = pd.merge(temp, total_cluster_sales, on = ['cluster', 'd'], how = 'left')\n",
    "        #get weekly sums for item and stores\n",
    "        merged['item_weekly_sales'] = pd.DataFrame(merged.groupby('id')['sales'].transform('sum'))\n",
    "        merged['cluster_weekly_sales'] = pd.DataFrame(merged.groupby(['cluster', 'id'])['total_cluster_sales'].transform('sum'))\n",
    "        #set distance\n",
    "        merged['prop'] = merged['item_weekly_sales'] / merged['cluster_weekly_sales']\n",
    "        \n",
    "        merged_temp_subset = merged[['id', 'cluster', 'prop']]\n",
    "        \n",
    "        forecast_df = pd.merge(merged_temp_subset, prediction_df, on = 'cluster', how ='left')\n",
    "        forecast_df[day] = round(forecast_df['prop'] * forecast_df[day])\n",
    "        preds_for_day = forecast_df[['id', 'cluster', day]].drop_duplicates().rename(columns={day:'sales'})\n",
    "        preds_for_day['d'] = [day]*30490\n",
    "        \n",
    "        train_temp = train_temp.append(preds_for_day)\n",
    "        prediction[day] = preds_for_day[['sales']]\n",
    "        print(f\"Prediction made for day: {day}\")\n",
    "        \n",
    "    return prediction "
   ]
  },
  {
   "cell_type": "code",
   "execution_count": 36,
   "id": "4a8f76aa",
   "metadata": {},
   "outputs": [
    {
     "data": {
      "text/html": [
       "<div>\n",
       "<style scoped>\n",
       "    .dataframe tbody tr th:only-of-type {\n",
       "        vertical-align: middle;\n",
       "    }\n",
       "\n",
       "    .dataframe tbody tr th {\n",
       "        vertical-align: top;\n",
       "    }\n",
       "\n",
       "    .dataframe thead th {\n",
       "        text-align: right;\n",
       "    }\n",
       "</style>\n",
       "<table border=\"1\" class=\"dataframe\">\n",
       "  <thead>\n",
       "    <tr style=\"text-align: right;\">\n",
       "      <th>d</th>\n",
       "      <th>cluster</th>\n",
       "      <th>1899</th>\n",
       "      <th>1900</th>\n",
       "      <th>1901</th>\n",
       "      <th>1902</th>\n",
       "      <th>1903</th>\n",
       "      <th>1904</th>\n",
       "      <th>1905</th>\n",
       "      <th>1906</th>\n",
       "      <th>1907</th>\n",
       "      <th>...</th>\n",
       "      <th>1910</th>\n",
       "      <th>1911</th>\n",
       "      <th>1912</th>\n",
       "      <th>1913</th>\n",
       "      <th>1914</th>\n",
       "      <th>1915</th>\n",
       "      <th>1916</th>\n",
       "      <th>1917</th>\n",
       "      <th>1918</th>\n",
       "      <th>1919</th>\n",
       "    </tr>\n",
       "  </thead>\n",
       "  <tbody>\n",
       "    <tr>\n",
       "      <th>0</th>\n",
       "      <td>Beauty_1</td>\n",
       "      <td>3655.568211</td>\n",
       "      <td>3625.250590</td>\n",
       "      <td>3499.260629</td>\n",
       "      <td>3229.969750</td>\n",
       "      <td>3054.793292</td>\n",
       "      <td>3233.167605</td>\n",
       "      <td>3201.394629</td>\n",
       "      <td>3382.815905</td>\n",
       "      <td>3291.479480</td>\n",
       "      <td>...</td>\n",
       "      <td>2576.945810</td>\n",
       "      <td>3057.076737</td>\n",
       "      <td>2987.340026</td>\n",
       "      <td>3048.308586</td>\n",
       "      <td>3165.894636</td>\n",
       "      <td>2963.899579</td>\n",
       "      <td>2593.685460</td>\n",
       "      <td>2599.472571</td>\n",
       "      <td>2929.770190</td>\n",
       "      <td>2998.033416</td>\n",
       "    </tr>\n",
       "    <tr>\n",
       "      <th>1</th>\n",
       "      <td>Beauty_2</td>\n",
       "      <td>394.403967</td>\n",
       "      <td>376.986840</td>\n",
       "      <td>379.052819</td>\n",
       "      <td>370.505474</td>\n",
       "      <td>374.371228</td>\n",
       "      <td>373.881727</td>\n",
       "      <td>361.310895</td>\n",
       "      <td>376.573936</td>\n",
       "      <td>365.496838</td>\n",
       "      <td>...</td>\n",
       "      <td>339.923764</td>\n",
       "      <td>347.375149</td>\n",
       "      <td>341.931136</td>\n",
       "      <td>340.231842</td>\n",
       "      <td>336.008908</td>\n",
       "      <td>335.139541</td>\n",
       "      <td>333.196539</td>\n",
       "      <td>329.834131</td>\n",
       "      <td>331.119153</td>\n",
       "      <td>327.771133</td>\n",
       "    </tr>\n",
       "    <tr>\n",
       "      <th>2</th>\n",
       "      <td>Cleaning_1</td>\n",
       "      <td>9600.715078</td>\n",
       "      <td>9347.603331</td>\n",
       "      <td>8599.694879</td>\n",
       "      <td>7286.184856</td>\n",
       "      <td>6456.659851</td>\n",
       "      <td>6625.329606</td>\n",
       "      <td>6542.644645</td>\n",
       "      <td>7404.360985</td>\n",
       "      <td>7352.821832</td>\n",
       "      <td>...</td>\n",
       "      <td>4572.698804</td>\n",
       "      <td>5430.200318</td>\n",
       "      <td>5492.466300</td>\n",
       "      <td>5656.914481</td>\n",
       "      <td>6209.186023</td>\n",
       "      <td>5763.572271</td>\n",
       "      <td>4801.332376</td>\n",
       "      <td>4769.464630</td>\n",
       "      <td>5491.639601</td>\n",
       "      <td>5630.076695</td>\n",
       "    </tr>\n",
       "    <tr>\n",
       "      <th>3</th>\n",
       "      <td>Cleaning_2</td>\n",
       "      <td>1847.016053</td>\n",
       "      <td>1842.135167</td>\n",
       "      <td>1697.819970</td>\n",
       "      <td>1484.894646</td>\n",
       "      <td>1332.616432</td>\n",
       "      <td>1451.589779</td>\n",
       "      <td>1422.502236</td>\n",
       "      <td>1644.451194</td>\n",
       "      <td>1630.423362</td>\n",
       "      <td>...</td>\n",
       "      <td>1224.573771</td>\n",
       "      <td>1389.693394</td>\n",
       "      <td>1478.759120</td>\n",
       "      <td>1483.041568</td>\n",
       "      <td>1587.620866</td>\n",
       "      <td>1470.881515</td>\n",
       "      <td>1344.899959</td>\n",
       "      <td>1335.304047</td>\n",
       "      <td>1510.232204</td>\n",
       "      <td>1536.413015</td>\n",
       "    </tr>\n",
       "    <tr>\n",
       "      <th>4</th>\n",
       "      <td>Food_1</td>\n",
       "      <td>3390.465052</td>\n",
       "      <td>3157.292281</td>\n",
       "      <td>2905.427838</td>\n",
       "      <td>2859.940271</td>\n",
       "      <td>2968.519716</td>\n",
       "      <td>2949.820866</td>\n",
       "      <td>2929.818389</td>\n",
       "      <td>3053.830281</td>\n",
       "      <td>3007.762962</td>\n",
       "      <td>...</td>\n",
       "      <td>2747.603096</td>\n",
       "      <td>2802.677067</td>\n",
       "      <td>2788.162027</td>\n",
       "      <td>2855.671056</td>\n",
       "      <td>2886.095792</td>\n",
       "      <td>2817.706036</td>\n",
       "      <td>2734.227347</td>\n",
       "      <td>2771.108900</td>\n",
       "      <td>2781.264168</td>\n",
       "      <td>2766.416001</td>\n",
       "    </tr>\n",
       "  </tbody>\n",
       "</table>\n",
       "<p>5 rows × 22 columns</p>\n",
       "</div>"
      ],
      "text/plain": [
       "d     cluster         1899         1900         1901         1902  \\\n",
       "0    Beauty_1  3655.568211  3625.250590  3499.260629  3229.969750   \n",
       "1    Beauty_2   394.403967   376.986840   379.052819   370.505474   \n",
       "2  Cleaning_1  9600.715078  9347.603331  8599.694879  7286.184856   \n",
       "3  Cleaning_2  1847.016053  1842.135167  1697.819970  1484.894646   \n",
       "4      Food_1  3390.465052  3157.292281  2905.427838  2859.940271   \n",
       "\n",
       "d         1903         1904         1905         1906         1907  ...  \\\n",
       "0  3054.793292  3233.167605  3201.394629  3382.815905  3291.479480  ...   \n",
       "1   374.371228   373.881727   361.310895   376.573936   365.496838  ...   \n",
       "2  6456.659851  6625.329606  6542.644645  7404.360985  7352.821832  ...   \n",
       "3  1332.616432  1451.589779  1422.502236  1644.451194  1630.423362  ...   \n",
       "4  2968.519716  2949.820866  2929.818389  3053.830281  3007.762962  ...   \n",
       "\n",
       "d         1910         1911         1912         1913         1914  \\\n",
       "0  2576.945810  3057.076737  2987.340026  3048.308586  3165.894636   \n",
       "1   339.923764   347.375149   341.931136   340.231842   336.008908   \n",
       "2  4572.698804  5430.200318  5492.466300  5656.914481  6209.186023   \n",
       "3  1224.573771  1389.693394  1478.759120  1483.041568  1587.620866   \n",
       "4  2747.603096  2802.677067  2788.162027  2855.671056  2886.095792   \n",
       "\n",
       "d         1915         1916         1917         1918         1919  \n",
       "0  2963.899579  2593.685460  2599.472571  2929.770190  2998.033416  \n",
       "1   335.139541   333.196539   329.834131   331.119153   327.771133  \n",
       "2  5763.572271  4801.332376  4769.464630  5491.639601  5630.076695  \n",
       "3  1470.881515  1344.899959  1335.304047  1510.232204  1536.413015  \n",
       "4  2817.706036  2734.227347  2771.108900  2781.264168  2766.416001  \n",
       "\n",
       "[5 rows x 22 columns]"
      ]
     },
     "execution_count": 36,
     "metadata": {},
     "output_type": "execute_result"
    }
   ],
   "source": [
    "#loading the predictions since we saved it as a csv in our function\n",
    "#formating the prediction df so we have 'cluster' and the prediction days as the column headers\n",
    "pred_subcat_test = pd.read_csv('final_model_test.csv')\n",
    "pred_subcat_test = pred_subcat_test.drop(columns= 'Unnamed: 0')\n",
    "pred_subcat_test['d'] = np.array(range(1899, 1920))\n",
    "pred_subcat_test.set_index('d', inplace = True)\n",
    "pred_subcat_test = pred_subcat_test.T\n",
    "pred_subcat_test = pred_subcat_test.reset_index().rename(columns = {'index' : 'cluster'})\n",
    "pred_subcat_test.head()"
   ]
  },
  {
   "cell_type": "code",
   "execution_count": 37,
   "id": "e3c6d0c4",
   "metadata": {},
   "outputs": [],
   "source": [
    "#forecasting using the 'rolling window' distance measure\n",
    "traincal_temp = traincal.copy()\n",
    "traincal_temp.rename(columns={\"subcat_id\":\"cluster\"}, inplace=True)"
   ]
  },
  {
   "cell_type": "code",
   "execution_count": 73,
   "id": "a2081be7",
   "metadata": {
    "scrolled": true
   },
   "outputs": [
    {
     "name": "stderr",
     "output_type": "stream",
     "text": [
      "/var/folders/hw/w8w6k5c51rd3yspr0zhn_6780000gn/T/ipykernel_73794/1520912719.py:10: SettingWithCopyWarning: \n",
      "A value is trying to be set on a copy of a slice from a DataFrame.\n",
      "Try using .loc[row_indexer,col_indexer] = value instead\n",
      "\n",
      "See the caveats in the documentation: https://pandas.pydata.org/pandas-docs/stable/user_guide/indexing.html#returning-a-view-versus-a-copy\n",
      "  train_temp['d'] = train_temp['d'].astype(int)\n",
      "/var/folders/hw/w8w6k5c51rd3yspr0zhn_6780000gn/T/ipykernel_73794/1520912719.py:15: FutureWarning: The default value of numeric_only in DataFrameGroupBy.sum is deprecated. In a future version, numeric_only will default to False. Either specify numeric_only or select only columns which should be valid for the function.\n",
      "  total_cluster_sales = temp.groupby([\"cluster\",\"d\"]).sum().reset_index().rename(columns={'sales':'total_cluster_sales'})\n",
      "/var/folders/hw/w8w6k5c51rd3yspr0zhn_6780000gn/T/ipykernel_73794/1520912719.py:31: FutureWarning: The frame.append method is deprecated and will be removed from pandas in a future version. Use pandas.concat instead.\n",
      "  train_temp = train_temp.append(preds_for_day)\n"
     ]
    },
    {
     "name": "stdout",
     "output_type": "stream",
     "text": [
      "Prediction made for day: 1899\n"
     ]
    },
    {
     "name": "stderr",
     "output_type": "stream",
     "text": [
      "/var/folders/hw/w8w6k5c51rd3yspr0zhn_6780000gn/T/ipykernel_73794/1520912719.py:15: FutureWarning: The default value of numeric_only in DataFrameGroupBy.sum is deprecated. In a future version, numeric_only will default to False. Either specify numeric_only or select only columns which should be valid for the function.\n",
      "  total_cluster_sales = temp.groupby([\"cluster\",\"d\"]).sum().reset_index().rename(columns={'sales':'total_cluster_sales'})\n",
      "/var/folders/hw/w8w6k5c51rd3yspr0zhn_6780000gn/T/ipykernel_73794/1520912719.py:31: FutureWarning: The frame.append method is deprecated and will be removed from pandas in a future version. Use pandas.concat instead.\n",
      "  train_temp = train_temp.append(preds_for_day)\n"
     ]
    },
    {
     "name": "stdout",
     "output_type": "stream",
     "text": [
      "Prediction made for day: 1900\n"
     ]
    },
    {
     "name": "stderr",
     "output_type": "stream",
     "text": [
      "/var/folders/hw/w8w6k5c51rd3yspr0zhn_6780000gn/T/ipykernel_73794/1520912719.py:15: FutureWarning: The default value of numeric_only in DataFrameGroupBy.sum is deprecated. In a future version, numeric_only will default to False. Either specify numeric_only or select only columns which should be valid for the function.\n",
      "  total_cluster_sales = temp.groupby([\"cluster\",\"d\"]).sum().reset_index().rename(columns={'sales':'total_cluster_sales'})\n",
      "/var/folders/hw/w8w6k5c51rd3yspr0zhn_6780000gn/T/ipykernel_73794/1520912719.py:31: FutureWarning: The frame.append method is deprecated and will be removed from pandas in a future version. Use pandas.concat instead.\n",
      "  train_temp = train_temp.append(preds_for_day)\n"
     ]
    },
    {
     "name": "stdout",
     "output_type": "stream",
     "text": [
      "Prediction made for day: 1901\n"
     ]
    },
    {
     "name": "stderr",
     "output_type": "stream",
     "text": [
      "/var/folders/hw/w8w6k5c51rd3yspr0zhn_6780000gn/T/ipykernel_73794/1520912719.py:15: FutureWarning: The default value of numeric_only in DataFrameGroupBy.sum is deprecated. In a future version, numeric_only will default to False. Either specify numeric_only or select only columns which should be valid for the function.\n",
      "  total_cluster_sales = temp.groupby([\"cluster\",\"d\"]).sum().reset_index().rename(columns={'sales':'total_cluster_sales'})\n",
      "/var/folders/hw/w8w6k5c51rd3yspr0zhn_6780000gn/T/ipykernel_73794/1520912719.py:31: FutureWarning: The frame.append method is deprecated and will be removed from pandas in a future version. Use pandas.concat instead.\n",
      "  train_temp = train_temp.append(preds_for_day)\n"
     ]
    },
    {
     "name": "stdout",
     "output_type": "stream",
     "text": [
      "Prediction made for day: 1902\n"
     ]
    },
    {
     "name": "stderr",
     "output_type": "stream",
     "text": [
      "/var/folders/hw/w8w6k5c51rd3yspr0zhn_6780000gn/T/ipykernel_73794/1520912719.py:15: FutureWarning: The default value of numeric_only in DataFrameGroupBy.sum is deprecated. In a future version, numeric_only will default to False. Either specify numeric_only or select only columns which should be valid for the function.\n",
      "  total_cluster_sales = temp.groupby([\"cluster\",\"d\"]).sum().reset_index().rename(columns={'sales':'total_cluster_sales'})\n",
      "/var/folders/hw/w8w6k5c51rd3yspr0zhn_6780000gn/T/ipykernel_73794/1520912719.py:31: FutureWarning: The frame.append method is deprecated and will be removed from pandas in a future version. Use pandas.concat instead.\n",
      "  train_temp = train_temp.append(preds_for_day)\n"
     ]
    },
    {
     "name": "stdout",
     "output_type": "stream",
     "text": [
      "Prediction made for day: 1903\n"
     ]
    },
    {
     "name": "stderr",
     "output_type": "stream",
     "text": [
      "/var/folders/hw/w8w6k5c51rd3yspr0zhn_6780000gn/T/ipykernel_73794/1520912719.py:15: FutureWarning: The default value of numeric_only in DataFrameGroupBy.sum is deprecated. In a future version, numeric_only will default to False. Either specify numeric_only or select only columns which should be valid for the function.\n",
      "  total_cluster_sales = temp.groupby([\"cluster\",\"d\"]).sum().reset_index().rename(columns={'sales':'total_cluster_sales'})\n",
      "/var/folders/hw/w8w6k5c51rd3yspr0zhn_6780000gn/T/ipykernel_73794/1520912719.py:31: FutureWarning: The frame.append method is deprecated and will be removed from pandas in a future version. Use pandas.concat instead.\n",
      "  train_temp = train_temp.append(preds_for_day)\n"
     ]
    },
    {
     "name": "stdout",
     "output_type": "stream",
     "text": [
      "Prediction made for day: 1904\n"
     ]
    },
    {
     "name": "stderr",
     "output_type": "stream",
     "text": [
      "/var/folders/hw/w8w6k5c51rd3yspr0zhn_6780000gn/T/ipykernel_73794/1520912719.py:15: FutureWarning: The default value of numeric_only in DataFrameGroupBy.sum is deprecated. In a future version, numeric_only will default to False. Either specify numeric_only or select only columns which should be valid for the function.\n",
      "  total_cluster_sales = temp.groupby([\"cluster\",\"d\"]).sum().reset_index().rename(columns={'sales':'total_cluster_sales'})\n",
      "/var/folders/hw/w8w6k5c51rd3yspr0zhn_6780000gn/T/ipykernel_73794/1520912719.py:31: FutureWarning: The frame.append method is deprecated and will be removed from pandas in a future version. Use pandas.concat instead.\n",
      "  train_temp = train_temp.append(preds_for_day)\n"
     ]
    },
    {
     "name": "stdout",
     "output_type": "stream",
     "text": [
      "Prediction made for day: 1905\n"
     ]
    },
    {
     "name": "stderr",
     "output_type": "stream",
     "text": [
      "/var/folders/hw/w8w6k5c51rd3yspr0zhn_6780000gn/T/ipykernel_73794/1520912719.py:15: FutureWarning: The default value of numeric_only in DataFrameGroupBy.sum is deprecated. In a future version, numeric_only will default to False. Either specify numeric_only or select only columns which should be valid for the function.\n",
      "  total_cluster_sales = temp.groupby([\"cluster\",\"d\"]).sum().reset_index().rename(columns={'sales':'total_cluster_sales'})\n",
      "/var/folders/hw/w8w6k5c51rd3yspr0zhn_6780000gn/T/ipykernel_73794/1520912719.py:31: FutureWarning: The frame.append method is deprecated and will be removed from pandas in a future version. Use pandas.concat instead.\n",
      "  train_temp = train_temp.append(preds_for_day)\n"
     ]
    },
    {
     "name": "stdout",
     "output_type": "stream",
     "text": [
      "Prediction made for day: 1906\n"
     ]
    },
    {
     "name": "stderr",
     "output_type": "stream",
     "text": [
      "/var/folders/hw/w8w6k5c51rd3yspr0zhn_6780000gn/T/ipykernel_73794/1520912719.py:15: FutureWarning: The default value of numeric_only in DataFrameGroupBy.sum is deprecated. In a future version, numeric_only will default to False. Either specify numeric_only or select only columns which should be valid for the function.\n",
      "  total_cluster_sales = temp.groupby([\"cluster\",\"d\"]).sum().reset_index().rename(columns={'sales':'total_cluster_sales'})\n",
      "/var/folders/hw/w8w6k5c51rd3yspr0zhn_6780000gn/T/ipykernel_73794/1520912719.py:31: FutureWarning: The frame.append method is deprecated and will be removed from pandas in a future version. Use pandas.concat instead.\n",
      "  train_temp = train_temp.append(preds_for_day)\n"
     ]
    },
    {
     "name": "stdout",
     "output_type": "stream",
     "text": [
      "Prediction made for day: 1907\n"
     ]
    },
    {
     "name": "stderr",
     "output_type": "stream",
     "text": [
      "/var/folders/hw/w8w6k5c51rd3yspr0zhn_6780000gn/T/ipykernel_73794/1520912719.py:15: FutureWarning: The default value of numeric_only in DataFrameGroupBy.sum is deprecated. In a future version, numeric_only will default to False. Either specify numeric_only or select only columns which should be valid for the function.\n",
      "  total_cluster_sales = temp.groupby([\"cluster\",\"d\"]).sum().reset_index().rename(columns={'sales':'total_cluster_sales'})\n",
      "/var/folders/hw/w8w6k5c51rd3yspr0zhn_6780000gn/T/ipykernel_73794/1520912719.py:31: FutureWarning: The frame.append method is deprecated and will be removed from pandas in a future version. Use pandas.concat instead.\n",
      "  train_temp = train_temp.append(preds_for_day)\n"
     ]
    },
    {
     "name": "stdout",
     "output_type": "stream",
     "text": [
      "Prediction made for day: 1908\n"
     ]
    },
    {
     "name": "stderr",
     "output_type": "stream",
     "text": [
      "/var/folders/hw/w8w6k5c51rd3yspr0zhn_6780000gn/T/ipykernel_73794/1520912719.py:15: FutureWarning: The default value of numeric_only in DataFrameGroupBy.sum is deprecated. In a future version, numeric_only will default to False. Either specify numeric_only or select only columns which should be valid for the function.\n",
      "  total_cluster_sales = temp.groupby([\"cluster\",\"d\"]).sum().reset_index().rename(columns={'sales':'total_cluster_sales'})\n",
      "/var/folders/hw/w8w6k5c51rd3yspr0zhn_6780000gn/T/ipykernel_73794/1520912719.py:31: FutureWarning: The frame.append method is deprecated and will be removed from pandas in a future version. Use pandas.concat instead.\n",
      "  train_temp = train_temp.append(preds_for_day)\n"
     ]
    },
    {
     "name": "stdout",
     "output_type": "stream",
     "text": [
      "Prediction made for day: 1909\n"
     ]
    },
    {
     "name": "stderr",
     "output_type": "stream",
     "text": [
      "/var/folders/hw/w8w6k5c51rd3yspr0zhn_6780000gn/T/ipykernel_73794/1520912719.py:15: FutureWarning: The default value of numeric_only in DataFrameGroupBy.sum is deprecated. In a future version, numeric_only will default to False. Either specify numeric_only or select only columns which should be valid for the function.\n",
      "  total_cluster_sales = temp.groupby([\"cluster\",\"d\"]).sum().reset_index().rename(columns={'sales':'total_cluster_sales'})\n",
      "/var/folders/hw/w8w6k5c51rd3yspr0zhn_6780000gn/T/ipykernel_73794/1520912719.py:31: FutureWarning: The frame.append method is deprecated and will be removed from pandas in a future version. Use pandas.concat instead.\n",
      "  train_temp = train_temp.append(preds_for_day)\n"
     ]
    },
    {
     "name": "stdout",
     "output_type": "stream",
     "text": [
      "Prediction made for day: 1910\n"
     ]
    },
    {
     "name": "stderr",
     "output_type": "stream",
     "text": [
      "/var/folders/hw/w8w6k5c51rd3yspr0zhn_6780000gn/T/ipykernel_73794/1520912719.py:15: FutureWarning: The default value of numeric_only in DataFrameGroupBy.sum is deprecated. In a future version, numeric_only will default to False. Either specify numeric_only or select only columns which should be valid for the function.\n",
      "  total_cluster_sales = temp.groupby([\"cluster\",\"d\"]).sum().reset_index().rename(columns={'sales':'total_cluster_sales'})\n",
      "/var/folders/hw/w8w6k5c51rd3yspr0zhn_6780000gn/T/ipykernel_73794/1520912719.py:31: FutureWarning: The frame.append method is deprecated and will be removed from pandas in a future version. Use pandas.concat instead.\n",
      "  train_temp = train_temp.append(preds_for_day)\n"
     ]
    },
    {
     "name": "stdout",
     "output_type": "stream",
     "text": [
      "Prediction made for day: 1911\n"
     ]
    },
    {
     "name": "stderr",
     "output_type": "stream",
     "text": [
      "/var/folders/hw/w8w6k5c51rd3yspr0zhn_6780000gn/T/ipykernel_73794/1520912719.py:15: FutureWarning: The default value of numeric_only in DataFrameGroupBy.sum is deprecated. In a future version, numeric_only will default to False. Either specify numeric_only or select only columns which should be valid for the function.\n",
      "  total_cluster_sales = temp.groupby([\"cluster\",\"d\"]).sum().reset_index().rename(columns={'sales':'total_cluster_sales'})\n",
      "/var/folders/hw/w8w6k5c51rd3yspr0zhn_6780000gn/T/ipykernel_73794/1520912719.py:31: FutureWarning: The frame.append method is deprecated and will be removed from pandas in a future version. Use pandas.concat instead.\n",
      "  train_temp = train_temp.append(preds_for_day)\n"
     ]
    },
    {
     "name": "stdout",
     "output_type": "stream",
     "text": [
      "Prediction made for day: 1912\n"
     ]
    },
    {
     "name": "stderr",
     "output_type": "stream",
     "text": [
      "/var/folders/hw/w8w6k5c51rd3yspr0zhn_6780000gn/T/ipykernel_73794/1520912719.py:15: FutureWarning: The default value of numeric_only in DataFrameGroupBy.sum is deprecated. In a future version, numeric_only will default to False. Either specify numeric_only or select only columns which should be valid for the function.\n",
      "  total_cluster_sales = temp.groupby([\"cluster\",\"d\"]).sum().reset_index().rename(columns={'sales':'total_cluster_sales'})\n",
      "/var/folders/hw/w8w6k5c51rd3yspr0zhn_6780000gn/T/ipykernel_73794/1520912719.py:31: FutureWarning: The frame.append method is deprecated and will be removed from pandas in a future version. Use pandas.concat instead.\n",
      "  train_temp = train_temp.append(preds_for_day)\n"
     ]
    },
    {
     "name": "stdout",
     "output_type": "stream",
     "text": [
      "Prediction made for day: 1913\n"
     ]
    },
    {
     "name": "stderr",
     "output_type": "stream",
     "text": [
      "/var/folders/hw/w8w6k5c51rd3yspr0zhn_6780000gn/T/ipykernel_73794/1520912719.py:15: FutureWarning: The default value of numeric_only in DataFrameGroupBy.sum is deprecated. In a future version, numeric_only will default to False. Either specify numeric_only or select only columns which should be valid for the function.\n",
      "  total_cluster_sales = temp.groupby([\"cluster\",\"d\"]).sum().reset_index().rename(columns={'sales':'total_cluster_sales'})\n",
      "/var/folders/hw/w8w6k5c51rd3yspr0zhn_6780000gn/T/ipykernel_73794/1520912719.py:31: FutureWarning: The frame.append method is deprecated and will be removed from pandas in a future version. Use pandas.concat instead.\n",
      "  train_temp = train_temp.append(preds_for_day)\n"
     ]
    },
    {
     "name": "stdout",
     "output_type": "stream",
     "text": [
      "Prediction made for day: 1914\n"
     ]
    },
    {
     "name": "stderr",
     "output_type": "stream",
     "text": [
      "/var/folders/hw/w8w6k5c51rd3yspr0zhn_6780000gn/T/ipykernel_73794/1520912719.py:15: FutureWarning: The default value of numeric_only in DataFrameGroupBy.sum is deprecated. In a future version, numeric_only will default to False. Either specify numeric_only or select only columns which should be valid for the function.\n",
      "  total_cluster_sales = temp.groupby([\"cluster\",\"d\"]).sum().reset_index().rename(columns={'sales':'total_cluster_sales'})\n",
      "/var/folders/hw/w8w6k5c51rd3yspr0zhn_6780000gn/T/ipykernel_73794/1520912719.py:31: FutureWarning: The frame.append method is deprecated and will be removed from pandas in a future version. Use pandas.concat instead.\n",
      "  train_temp = train_temp.append(preds_for_day)\n"
     ]
    },
    {
     "name": "stdout",
     "output_type": "stream",
     "text": [
      "Prediction made for day: 1915\n"
     ]
    },
    {
     "name": "stderr",
     "output_type": "stream",
     "text": [
      "/var/folders/hw/w8w6k5c51rd3yspr0zhn_6780000gn/T/ipykernel_73794/1520912719.py:15: FutureWarning: The default value of numeric_only in DataFrameGroupBy.sum is deprecated. In a future version, numeric_only will default to False. Either specify numeric_only or select only columns which should be valid for the function.\n",
      "  total_cluster_sales = temp.groupby([\"cluster\",\"d\"]).sum().reset_index().rename(columns={'sales':'total_cluster_sales'})\n",
      "/var/folders/hw/w8w6k5c51rd3yspr0zhn_6780000gn/T/ipykernel_73794/1520912719.py:31: FutureWarning: The frame.append method is deprecated and will be removed from pandas in a future version. Use pandas.concat instead.\n",
      "  train_temp = train_temp.append(preds_for_day)\n"
     ]
    },
    {
     "name": "stdout",
     "output_type": "stream",
     "text": [
      "Prediction made for day: 1916\n"
     ]
    },
    {
     "name": "stderr",
     "output_type": "stream",
     "text": [
      "/var/folders/hw/w8w6k5c51rd3yspr0zhn_6780000gn/T/ipykernel_73794/1520912719.py:15: FutureWarning: The default value of numeric_only in DataFrameGroupBy.sum is deprecated. In a future version, numeric_only will default to False. Either specify numeric_only or select only columns which should be valid for the function.\n",
      "  total_cluster_sales = temp.groupby([\"cluster\",\"d\"]).sum().reset_index().rename(columns={'sales':'total_cluster_sales'})\n",
      "/var/folders/hw/w8w6k5c51rd3yspr0zhn_6780000gn/T/ipykernel_73794/1520912719.py:31: FutureWarning: The frame.append method is deprecated and will be removed from pandas in a future version. Use pandas.concat instead.\n",
      "  train_temp = train_temp.append(preds_for_day)\n"
     ]
    },
    {
     "name": "stdout",
     "output_type": "stream",
     "text": [
      "Prediction made for day: 1917\n"
     ]
    },
    {
     "name": "stderr",
     "output_type": "stream",
     "text": [
      "/var/folders/hw/w8w6k5c51rd3yspr0zhn_6780000gn/T/ipykernel_73794/1520912719.py:15: FutureWarning: The default value of numeric_only in DataFrameGroupBy.sum is deprecated. In a future version, numeric_only will default to False. Either specify numeric_only or select only columns which should be valid for the function.\n",
      "  total_cluster_sales = temp.groupby([\"cluster\",\"d\"]).sum().reset_index().rename(columns={'sales':'total_cluster_sales'})\n",
      "/var/folders/hw/w8w6k5c51rd3yspr0zhn_6780000gn/T/ipykernel_73794/1520912719.py:31: FutureWarning: The frame.append method is deprecated and will be removed from pandas in a future version. Use pandas.concat instead.\n",
      "  train_temp = train_temp.append(preds_for_day)\n"
     ]
    },
    {
     "name": "stdout",
     "output_type": "stream",
     "text": [
      "Prediction made for day: 1918\n"
     ]
    },
    {
     "name": "stderr",
     "output_type": "stream",
     "text": [
      "/var/folders/hw/w8w6k5c51rd3yspr0zhn_6780000gn/T/ipykernel_73794/1520912719.py:15: FutureWarning: The default value of numeric_only in DataFrameGroupBy.sum is deprecated. In a future version, numeric_only will default to False. Either specify numeric_only or select only columns which should be valid for the function.\n",
      "  total_cluster_sales = temp.groupby([\"cluster\",\"d\"]).sum().reset_index().rename(columns={'sales':'total_cluster_sales'})\n",
      "/var/folders/hw/w8w6k5c51rd3yspr0zhn_6780000gn/T/ipykernel_73794/1520912719.py:31: FutureWarning: The frame.append method is deprecated and will be removed from pandas in a future version. Use pandas.concat instead.\n",
      "  train_temp = train_temp.append(preds_for_day)\n"
     ]
    },
    {
     "name": "stdout",
     "output_type": "stream",
     "text": [
      "Prediction made for day: 1919\n"
     ]
    }
   ],
   "source": [
    "prediction_subcat_test = rolling_window_test(traincal_temp, pred_subcat_test)"
   ]
  },
  {
   "cell_type": "code",
   "execution_count": 74,
   "id": "37d6a87d",
   "metadata": {},
   "outputs": [
    {
     "data": {
      "text/html": [
       "<div>\n",
       "<style scoped>\n",
       "    .dataframe tbody tr th:only-of-type {\n",
       "        vertical-align: middle;\n",
       "    }\n",
       "\n",
       "    .dataframe tbody tr th {\n",
       "        vertical-align: top;\n",
       "    }\n",
       "\n",
       "    .dataframe thead th {\n",
       "        text-align: right;\n",
       "    }\n",
       "</style>\n",
       "<table border=\"1\" class=\"dataframe\">\n",
       "  <thead>\n",
       "    <tr style=\"text-align: right;\">\n",
       "      <th></th>\n",
       "      <th>d_1899</th>\n",
       "      <th>d_1900</th>\n",
       "      <th>d_1901</th>\n",
       "      <th>d_1902</th>\n",
       "      <th>d_1903</th>\n",
       "      <th>d_1904</th>\n",
       "      <th>d_1905</th>\n",
       "      <th>d_1906</th>\n",
       "      <th>d_1907</th>\n",
       "      <th>d_1908</th>\n",
       "      <th>...</th>\n",
       "      <th>d_1910</th>\n",
       "      <th>d_1911</th>\n",
       "      <th>d_1912</th>\n",
       "      <th>d_1913</th>\n",
       "      <th>d_1914</th>\n",
       "      <th>d_1915</th>\n",
       "      <th>d_1916</th>\n",
       "      <th>d_1917</th>\n",
       "      <th>d_1918</th>\n",
       "      <th>d_1919</th>\n",
       "    </tr>\n",
       "    <tr>\n",
       "      <th>id</th>\n",
       "      <th></th>\n",
       "      <th></th>\n",
       "      <th></th>\n",
       "      <th></th>\n",
       "      <th></th>\n",
       "      <th></th>\n",
       "      <th></th>\n",
       "      <th></th>\n",
       "      <th></th>\n",
       "      <th></th>\n",
       "      <th></th>\n",
       "      <th></th>\n",
       "      <th></th>\n",
       "      <th></th>\n",
       "      <th></th>\n",
       "      <th></th>\n",
       "      <th></th>\n",
       "      <th></th>\n",
       "      <th></th>\n",
       "      <th></th>\n",
       "      <th></th>\n",
       "    </tr>\n",
       "  </thead>\n",
       "  <tbody>\n",
       "    <tr>\n",
       "      <th>Beauty_1_001_East_1</th>\n",
       "      <td>1.0</td>\n",
       "      <td>1.0</td>\n",
       "      <td>1.0</td>\n",
       "      <td>1.0</td>\n",
       "      <td>1.0</td>\n",
       "      <td>1.0</td>\n",
       "      <td>1.0</td>\n",
       "      <td>1.0</td>\n",
       "      <td>1.0</td>\n",
       "      <td>1.0</td>\n",
       "      <td>...</td>\n",
       "      <td>1.0</td>\n",
       "      <td>1.0</td>\n",
       "      <td>1.0</td>\n",
       "      <td>1.0</td>\n",
       "      <td>1.0</td>\n",
       "      <td>1.0</td>\n",
       "      <td>1.0</td>\n",
       "      <td>1.0</td>\n",
       "      <td>1.0</td>\n",
       "      <td>1.0</td>\n",
       "    </tr>\n",
       "    <tr>\n",
       "      <th>Beauty_1_002_East_1</th>\n",
       "      <td>0.0</td>\n",
       "      <td>0.0</td>\n",
       "      <td>0.0</td>\n",
       "      <td>0.0</td>\n",
       "      <td>0.0</td>\n",
       "      <td>0.0</td>\n",
       "      <td>0.0</td>\n",
       "      <td>0.0</td>\n",
       "      <td>0.0</td>\n",
       "      <td>0.0</td>\n",
       "      <td>...</td>\n",
       "      <td>0.0</td>\n",
       "      <td>0.0</td>\n",
       "      <td>0.0</td>\n",
       "      <td>0.0</td>\n",
       "      <td>0.0</td>\n",
       "      <td>0.0</td>\n",
       "      <td>0.0</td>\n",
       "      <td>0.0</td>\n",
       "      <td>0.0</td>\n",
       "      <td>0.0</td>\n",
       "    </tr>\n",
       "    <tr>\n",
       "      <th>Beauty_1_003_East_1</th>\n",
       "      <td>1.0</td>\n",
       "      <td>1.0</td>\n",
       "      <td>1.0</td>\n",
       "      <td>1.0</td>\n",
       "      <td>1.0</td>\n",
       "      <td>1.0</td>\n",
       "      <td>1.0</td>\n",
       "      <td>1.0</td>\n",
       "      <td>1.0</td>\n",
       "      <td>1.0</td>\n",
       "      <td>...</td>\n",
       "      <td>1.0</td>\n",
       "      <td>1.0</td>\n",
       "      <td>1.0</td>\n",
       "      <td>1.0</td>\n",
       "      <td>1.0</td>\n",
       "      <td>1.0</td>\n",
       "      <td>0.0</td>\n",
       "      <td>0.0</td>\n",
       "      <td>0.0</td>\n",
       "      <td>0.0</td>\n",
       "    </tr>\n",
       "    <tr>\n",
       "      <th>Beauty_1_004_East_1</th>\n",
       "      <td>2.0</td>\n",
       "      <td>2.0</td>\n",
       "      <td>2.0</td>\n",
       "      <td>2.0</td>\n",
       "      <td>1.0</td>\n",
       "      <td>1.0</td>\n",
       "      <td>1.0</td>\n",
       "      <td>1.0</td>\n",
       "      <td>1.0</td>\n",
       "      <td>1.0</td>\n",
       "      <td>...</td>\n",
       "      <td>1.0</td>\n",
       "      <td>1.0</td>\n",
       "      <td>1.0</td>\n",
       "      <td>1.0</td>\n",
       "      <td>1.0</td>\n",
       "      <td>1.0</td>\n",
       "      <td>1.0</td>\n",
       "      <td>1.0</td>\n",
       "      <td>1.0</td>\n",
       "      <td>1.0</td>\n",
       "    </tr>\n",
       "    <tr>\n",
       "      <th>Beauty_1_005_East_1</th>\n",
       "      <td>1.0</td>\n",
       "      <td>1.0</td>\n",
       "      <td>1.0</td>\n",
       "      <td>1.0</td>\n",
       "      <td>1.0</td>\n",
       "      <td>1.0</td>\n",
       "      <td>1.0</td>\n",
       "      <td>1.0</td>\n",
       "      <td>1.0</td>\n",
       "      <td>1.0</td>\n",
       "      <td>...</td>\n",
       "      <td>1.0</td>\n",
       "      <td>1.0</td>\n",
       "      <td>1.0</td>\n",
       "      <td>1.0</td>\n",
       "      <td>1.0</td>\n",
       "      <td>1.0</td>\n",
       "      <td>1.0</td>\n",
       "      <td>1.0</td>\n",
       "      <td>1.0</td>\n",
       "      <td>1.0</td>\n",
       "    </tr>\n",
       "  </tbody>\n",
       "</table>\n",
       "<p>5 rows × 21 columns</p>\n",
       "</div>"
      ],
      "text/plain": [
       "                     d_1899  d_1900  d_1901  d_1902  d_1903  d_1904  d_1905  \\\n",
       "id                                                                            \n",
       "Beauty_1_001_East_1     1.0     1.0     1.0     1.0     1.0     1.0     1.0   \n",
       "Beauty_1_002_East_1     0.0     0.0     0.0     0.0     0.0     0.0     0.0   \n",
       "Beauty_1_003_East_1     1.0     1.0     1.0     1.0     1.0     1.0     1.0   \n",
       "Beauty_1_004_East_1     2.0     2.0     2.0     2.0     1.0     1.0     1.0   \n",
       "Beauty_1_005_East_1     1.0     1.0     1.0     1.0     1.0     1.0     1.0   \n",
       "\n",
       "                     d_1906  d_1907  d_1908  ...  d_1910  d_1911  d_1912  \\\n",
       "id                                           ...                           \n",
       "Beauty_1_001_East_1     1.0     1.0     1.0  ...     1.0     1.0     1.0   \n",
       "Beauty_1_002_East_1     0.0     0.0     0.0  ...     0.0     0.0     0.0   \n",
       "Beauty_1_003_East_1     1.0     1.0     1.0  ...     1.0     1.0     1.0   \n",
       "Beauty_1_004_East_1     1.0     1.0     1.0  ...     1.0     1.0     1.0   \n",
       "Beauty_1_005_East_1     1.0     1.0     1.0  ...     1.0     1.0     1.0   \n",
       "\n",
       "                     d_1913  d_1914  d_1915  d_1916  d_1917  d_1918  d_1919  \n",
       "id                                                                           \n",
       "Beauty_1_001_East_1     1.0     1.0     1.0     1.0     1.0     1.0     1.0  \n",
       "Beauty_1_002_East_1     0.0     0.0     0.0     0.0     0.0     0.0     0.0  \n",
       "Beauty_1_003_East_1     1.0     1.0     1.0     0.0     0.0     0.0     0.0  \n",
       "Beauty_1_004_East_1     1.0     1.0     1.0     1.0     1.0     1.0     1.0  \n",
       "Beauty_1_005_East_1     1.0     1.0     1.0     1.0     1.0     1.0     1.0  \n",
       "\n",
       "[5 rows x 21 columns]"
      ]
     },
     "execution_count": 74,
     "metadata": {},
     "output_type": "execute_result"
    }
   ],
   "source": [
    "#cleaning the formatting of the predictions so we can submit on kaggle\n",
    "columns = ['d_1899', 'd_1900','d_1901','d_1902', 'd_1903', 'd_1904','d_1905','d_1906','d_1907','d_1908','d_1909',\n",
    "             'd_1910','d_1911','d_1912','d_1913','d_1914','d_1915','d_1916','d_1917','d_1918','d_1919']\n",
    "prediction_subcat_test.columns = columns\n",
    "prediction_subcat_test = prediction_subcat_test.set_index(train['id'])\n",
    "prediction_subcat_test.head()"
   ]
  },
  {
   "cell_type": "code",
   "execution_count": 40,
   "id": "573d105f",
   "metadata": {},
   "outputs": [
    {
     "data": {
      "text/html": [
       "<div>\n",
       "<style scoped>\n",
       "    .dataframe tbody tr th:only-of-type {\n",
       "        vertical-align: middle;\n",
       "    }\n",
       "\n",
       "    .dataframe tbody tr th {\n",
       "        vertical-align: top;\n",
       "    }\n",
       "\n",
       "    .dataframe thead th {\n",
       "        text-align: right;\n",
       "    }\n",
       "</style>\n",
       "<table border=\"1\" class=\"dataframe\">\n",
       "  <thead>\n",
       "    <tr style=\"text-align: right;\">\n",
       "      <th></th>\n",
       "      <th>1899</th>\n",
       "      <th>1900</th>\n",
       "      <th>1901</th>\n",
       "      <th>1902</th>\n",
       "      <th>1903</th>\n",
       "      <th>1904</th>\n",
       "      <th>1905</th>\n",
       "      <th>1906</th>\n",
       "      <th>1907</th>\n",
       "      <th>1908</th>\n",
       "      <th>...</th>\n",
       "      <th>1910</th>\n",
       "      <th>1911</th>\n",
       "      <th>1912</th>\n",
       "      <th>1913</th>\n",
       "      <th>1914</th>\n",
       "      <th>1915</th>\n",
       "      <th>1916</th>\n",
       "      <th>1917</th>\n",
       "      <th>1918</th>\n",
       "      <th>1919</th>\n",
       "    </tr>\n",
       "  </thead>\n",
       "  <tbody>\n",
       "    <tr>\n",
       "      <th>0</th>\n",
       "      <td>2</td>\n",
       "      <td>0</td>\n",
       "      <td>0</td>\n",
       "      <td>0</td>\n",
       "      <td>1</td>\n",
       "      <td>1</td>\n",
       "      <td>3</td>\n",
       "      <td>0</td>\n",
       "      <td>1</td>\n",
       "      <td>1</td>\n",
       "      <td>...</td>\n",
       "      <td>3</td>\n",
       "      <td>0</td>\n",
       "      <td>1</td>\n",
       "      <td>1</td>\n",
       "      <td>0</td>\n",
       "      <td>0</td>\n",
       "      <td>0</td>\n",
       "      <td>2</td>\n",
       "      <td>0</td>\n",
       "      <td>3</td>\n",
       "    </tr>\n",
       "    <tr>\n",
       "      <th>1</th>\n",
       "      <td>0</td>\n",
       "      <td>0</td>\n",
       "      <td>0</td>\n",
       "      <td>0</td>\n",
       "      <td>0</td>\n",
       "      <td>0</td>\n",
       "      <td>0</td>\n",
       "      <td>0</td>\n",
       "      <td>0</td>\n",
       "      <td>0</td>\n",
       "      <td>...</td>\n",
       "      <td>0</td>\n",
       "      <td>0</td>\n",
       "      <td>0</td>\n",
       "      <td>0</td>\n",
       "      <td>0</td>\n",
       "      <td>1</td>\n",
       "      <td>0</td>\n",
       "      <td>0</td>\n",
       "      <td>0</td>\n",
       "      <td>0</td>\n",
       "    </tr>\n",
       "    <tr>\n",
       "      <th>2</th>\n",
       "      <td>0</td>\n",
       "      <td>0</td>\n",
       "      <td>0</td>\n",
       "      <td>1</td>\n",
       "      <td>2</td>\n",
       "      <td>2</td>\n",
       "      <td>1</td>\n",
       "      <td>2</td>\n",
       "      <td>1</td>\n",
       "      <td>1</td>\n",
       "      <td>...</td>\n",
       "      <td>0</td>\n",
       "      <td>1</td>\n",
       "      <td>1</td>\n",
       "      <td>1</td>\n",
       "      <td>0</td>\n",
       "      <td>0</td>\n",
       "      <td>1</td>\n",
       "      <td>1</td>\n",
       "      <td>0</td>\n",
       "      <td>2</td>\n",
       "    </tr>\n",
       "    <tr>\n",
       "      <th>3</th>\n",
       "      <td>4</td>\n",
       "      <td>2</td>\n",
       "      <td>0</td>\n",
       "      <td>3</td>\n",
       "      <td>0</td>\n",
       "      <td>1</td>\n",
       "      <td>0</td>\n",
       "      <td>5</td>\n",
       "      <td>4</td>\n",
       "      <td>1</td>\n",
       "      <td>...</td>\n",
       "      <td>1</td>\n",
       "      <td>3</td>\n",
       "      <td>7</td>\n",
       "      <td>2</td>\n",
       "      <td>0</td>\n",
       "      <td>0</td>\n",
       "      <td>1</td>\n",
       "      <td>2</td>\n",
       "      <td>4</td>\n",
       "      <td>1</td>\n",
       "    </tr>\n",
       "    <tr>\n",
       "      <th>4</th>\n",
       "      <td>1</td>\n",
       "      <td>2</td>\n",
       "      <td>0</td>\n",
       "      <td>1</td>\n",
       "      <td>1</td>\n",
       "      <td>2</td>\n",
       "      <td>1</td>\n",
       "      <td>1</td>\n",
       "      <td>0</td>\n",
       "      <td>1</td>\n",
       "      <td>...</td>\n",
       "      <td>2</td>\n",
       "      <td>2</td>\n",
       "      <td>2</td>\n",
       "      <td>4</td>\n",
       "      <td>1</td>\n",
       "      <td>0</td>\n",
       "      <td>2</td>\n",
       "      <td>3</td>\n",
       "      <td>1</td>\n",
       "      <td>0</td>\n",
       "    </tr>\n",
       "  </tbody>\n",
       "</table>\n",
       "<p>5 rows × 21 columns</p>\n",
       "</div>"
      ],
      "text/plain": [
       "   1899  1900  1901  1902  1903  1904  1905  1906  1907  1908  ...  1910  \\\n",
       "0     2     0     0     0     1     1     3     0     1     1  ...     3   \n",
       "1     0     0     0     0     0     0     0     0     0     0  ...     0   \n",
       "2     0     0     0     1     2     2     1     2     1     1  ...     0   \n",
       "3     4     2     0     3     0     1     0     5     4     1  ...     1   \n",
       "4     1     2     0     1     1     2     1     1     0     1  ...     2   \n",
       "\n",
       "   1911  1912  1913  1914  1915  1916  1917  1918  1919  \n",
       "0     0     1     1     0     0     0     2     0     3  \n",
       "1     0     0     0     0     1     0     0     0     0  \n",
       "2     1     1     1     0     0     1     1     0     2  \n",
       "3     3     7     2     0     0     1     2     4     1  \n",
       "4     2     2     4     1     0     2     3     1     0  \n",
       "\n",
       "[5 rows x 21 columns]"
      ]
     },
     "execution_count": 40,
     "metadata": {},
     "output_type": "execute_result"
    }
   ],
   "source": [
    "test_true = train.iloc[: , -21:]\n",
    "test_true.head()"
   ]
  },
  {
   "cell_type": "code",
   "execution_count": 179,
   "id": "8e0becaf",
   "metadata": {},
   "outputs": [],
   "source": [
    "def graph(preddf, truedf):\n",
    "        g = random.randint(0, 30489)\n",
    "        print(f\"item: {final['id'][g]}\")\n",
    "        plt.plot(np.array(range(0, 21)), preddf.iloc[g])\n",
    "        plt.plot(np.array(range(0, 21)), truedf.iloc[g])\n",
    "        plt.xlabel(\"Days after 2016/04/10\")\n",
    "        plt.ylabel(\"Sales\")\n",
    "        plt.legend(['prediction', 'actual'])"
   ]
  },
  {
   "cell_type": "code",
   "execution_count": 306,
   "id": "95985e5b",
   "metadata": {},
   "outputs": [
    {
     "name": "stdout",
     "output_type": "stream",
     "text": [
      "item: Food_1_122_West_1\n"
     ]
    },
    {
     "data": {
      "image/png": "[encoded data removed]",
      "text/plain": [
       "<Figure size 640x480 with 1 Axes>"
      ]
     },
     "metadata": {},
     "output_type": "display_data"
    }
   ],
   "source": [
    "#(22343, 24457)\n",
    "graph(prediction_subcat_test, test_true)"
   ]
  },
  {
   "cell_type": "markdown",
   "id": "e82a1e79",
   "metadata": {},
   "source": [
    "We can see that while ARIMA captures the overall trend of the sales data, it cannot capture individual spikes that happen on a day to day basis. This may be because our proportions are based on a weekly timeframe, rendering our predictions to be less grandular. On the other hand, calculating our proportions on a daily timeframe may not capture the overall trend of sales data."
   ]
  },
  {
   "cell_type": "markdown",
   "id": "889907f3",
   "metadata": {},
   "source": [
    "## Summary\n",
    "*In our data preparation stage, we did not use transformations such as boxcox as we have found that differencing is a functinality already included in auto_arima. Using box-cox on top of the differencing in the autoarima function significantly decreased the performance of our models.\n",
    "\n",
    "In this notebook, we use two models using two natural clusters, subcategory id and store id. We trained our models on cluster centroids which we defined as the total sales per day for each cluster. To gain the predictions for each item, we used a deallocation method using a distance metric defined as the proportion of an item's weekly sale to its cluster's weekly sale. \n",
    "\n",
    "\n",
    "We used both distance measures on both clusters. From this, we found that the model trained based on the subcategory id using the sliding window distance measure performed the best. Indeed, sales patterns across subcategories are more \"similar\" compared to stores as demands are associated with the type of a particular item rather than the store it is sold at."
   ]
  },
  {
   "cell_type": "markdown",
   "id": "d06cd215",
   "metadata": {},
   "source": [
    "### Future direction"
   ]
  },
  {
   "cell_type": "markdown",
   "id": "b21d3aba",
   "metadata": {},
   "source": [
    "Before it was mentioned that we attempted to use DTW clustering to cluster our items based on time-series similarity. We believe that these clusters can produce better results if we have the time and resources to compensate for its computational expensiveness. Running our models on each item_id would also be desirable to produce more accurate results.\n",
    "\n",
    "Because ARMIA modelling is one that focuses on lagged time-series, insights on anomalies within the general trend may be useful to incorporate in our forecasts such that future spikes and plateus fall within the realm of our expectations. Furthermore, an analysis on extraneous variables that affect the underlying demand may be useful in producing more accurate forecasts and offer an insight for higher sales."
   ]
  },
  {
   "cell_type": "code",
   "execution_count": null,
   "id": "e6bd0856",
   "metadata": {},
   "outputs": [],
   "source": []
  }
 ],
 "metadata": {
  "kernelspec": {
   "display_name": "Python 3 (ipykernel)",
   "language": "python",
   "name": "python3"
  },
  "language_info": {
   "codemirror_mode": {
    "name": "ipython",
    "version": 3
   },
   "file_extension": ".py",
   "mimetype": "text/x-python",
   "name": "python",
   "nbconvert_exporter": "python",
   "pygments_lexer": "ipython3",
   "version": "3.11.1"
  }
 },
 "nbformat": 4,
 "nbformat_minor": 5
}
